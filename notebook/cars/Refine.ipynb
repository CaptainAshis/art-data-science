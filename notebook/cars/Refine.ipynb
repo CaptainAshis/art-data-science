{
 "cells": [
  {
   "cell_type": "code",
   "execution_count": 84,
   "metadata": {
    "collapsed": false
   },
   "outputs": [],
   "source": [
    "library(dplyr)\n",
    "library(tidyr)\n",
    "library(ggplot2)\n",
    "library(stringr)"
   ]
  },
  {
   "cell_type": "code",
   "execution_count": 85,
   "metadata": {
    "collapsed": false
   },
   "outputs": [
    {
     "data": {
      "text/html": [
       "<ol class=list-inline>\n",
       "\t<li>'name'</li>\n",
       "\t<li>'model'</li>\n",
       "\t<li>'url'</li>\n",
       "\t<li>'price'</li>\n",
       "\t<li>'type'</li>\n",
       "\t<li>'ABS'</li>\n",
       "\t<li>'Acceleration..0.100.kmph.'</li>\n",
       "\t<li>'Air.Conditioner'</li>\n",
       "\t<li>'Audio.Controls.on.Streeing.Wheel'</li>\n",
       "\t<li>'Audio.System..with.remote.'</li>\n",
       "\t<li>'Bluetooth.Connectivity'</li>\n",
       "\t<li>'Body.Coloured.Bumpers'</li>\n",
       "\t<li>'Boot.Space..litres.'</li>\n",
       "\t<li>'Brakes.Front'</li>\n",
       "\t<li>'Brakes.Rear'</li>\n",
       "\t<li>'CD.Player'</li>\n",
       "\t<li>'Central.Locking'</li>\n",
       "\t<li>'Clean.Air.Filter'</li>\n",
       "\t<li>'Cruise.Control'</li>\n",
       "\t<li>'Door.Ajar.Warning'</li>\n",
       "\t<li>'Driver.Seatbelt.Warning'</li>\n",
       "\t<li>'Dual.SRS.Airbags..D.P.'</li>\n",
       "\t<li>'EBD'</li>\n",
       "\t<li>'Engine.Size..cc.'</li>\n",
       "\t<li>'Engine.Type'</li>\n",
       "\t<li>'Front.Track'</li>\n",
       "\t<li>'Front.Tyres'</li>\n",
       "\t<li>'Fuel.Supply.System'</li>\n",
       "\t<li>'Fuel.Tank.Capacity..litres.'</li>\n",
       "\t<li>'Fuel.Type'</li>\n",
       "\t<li>'Full.Wheel.Caps'</li>\n",
       "\t<li>'Gross.Weight..kg.'</li>\n",
       "\t<li>'Ground.Clearance..mm.'</li>\n",
       "\t<li>'Heater'</li>\n",
       "\t<li>'Immobiliser'</li>\n",
       "\t<li>'Kerb.Weight..kg.'</li>\n",
       "\t<li>'Keyless.Entry'</li>\n",
       "\t<li>'Max.Power..bhp...rpm.'</li>\n",
       "\t<li>'Max.Torque..Nm...rpm.'</li>\n",
       "\t<li>'Mileage.in.City..kmpl.'</li>\n",
       "\t<li>'Mileage.on.Highway..kmpl.'</li>\n",
       "\t<li>'No..of.Cylinders'</li>\n",
       "\t<li>'Overall.Length.mm..x.Width.mm..x.Height.mm.'</li>\n",
       "\t<li>'Panoramic.Sunroof'</li>\n",
       "\t<li>'Passenger.Airbags'</li>\n",
       "\t<li>'Power.Steering'</li>\n",
       "\t<li>'Power.Windows..Front.'</li>\n",
       "\t<li>'Power.Windows..Rear.'</li>\n",
       "\t<li>'Rain.Sensing.Wipers'</li>\n",
       "\t<li>'Rear.Track'</li>\n",
       "\t<li>'Rear.Tyres'</li>\n",
       "\t<li>'Seat.Capacity'</li>\n",
       "\t<li>'Speakers'</li>\n",
       "\t<li>'Tilt.Function'</li>\n",
       "\t<li>'Top.Speed..kmph.'</li>\n",
       "\t<li>'Traction.Control'</li>\n",
       "\t<li>'Transmission.Type'</li>\n",
       "\t<li>'Tubeless.Tyres'</li>\n",
       "\t<li>'Turning.Circle.Radius..metres.'</li>\n",
       "\t<li>'USB...Auxiliary.Input'</li>\n",
       "\t<li>'Wheelbase..mm.'</li>\n",
       "\t<li>'brand'</li>\n",
       "</ol>\n"
      ],
      "text/latex": [
       "\\begin{enumerate*}\n",
       "\\item 'name'\n",
       "\\item 'model'\n",
       "\\item 'url'\n",
       "\\item 'price'\n",
       "\\item 'type'\n",
       "\\item 'ABS'\n",
       "\\item 'Acceleration..0.100.kmph.'\n",
       "\\item 'Air.Conditioner'\n",
       "\\item 'Audio.Controls.on.Streeing.Wheel'\n",
       "\\item 'Audio.System..with.remote.'\n",
       "\\item 'Bluetooth.Connectivity'\n",
       "\\item 'Body.Coloured.Bumpers'\n",
       "\\item 'Boot.Space..litres.'\n",
       "\\item 'Brakes.Front'\n",
       "\\item 'Brakes.Rear'\n",
       "\\item 'CD.Player'\n",
       "\\item 'Central.Locking'\n",
       "\\item 'Clean.Air.Filter'\n",
       "\\item 'Cruise.Control'\n",
       "\\item 'Door.Ajar.Warning'\n",
       "\\item 'Driver.Seatbelt.Warning'\n",
       "\\item 'Dual.SRS.Airbags..D.P.'\n",
       "\\item 'EBD'\n",
       "\\item 'Engine.Size..cc.'\n",
       "\\item 'Engine.Type'\n",
       "\\item 'Front.Track'\n",
       "\\item 'Front.Tyres'\n",
       "\\item 'Fuel.Supply.System'\n",
       "\\item 'Fuel.Tank.Capacity..litres.'\n",
       "\\item 'Fuel.Type'\n",
       "\\item 'Full.Wheel.Caps'\n",
       "\\item 'Gross.Weight..kg.'\n",
       "\\item 'Ground.Clearance..mm.'\n",
       "\\item 'Heater'\n",
       "\\item 'Immobiliser'\n",
       "\\item 'Kerb.Weight..kg.'\n",
       "\\item 'Keyless.Entry'\n",
       "\\item 'Max.Power..bhp...rpm.'\n",
       "\\item 'Max.Torque..Nm...rpm.'\n",
       "\\item 'Mileage.in.City..kmpl.'\n",
       "\\item 'Mileage.on.Highway..kmpl.'\n",
       "\\item 'No..of.Cylinders'\n",
       "\\item 'Overall.Length.mm..x.Width.mm..x.Height.mm.'\n",
       "\\item 'Panoramic.Sunroof'\n",
       "\\item 'Passenger.Airbags'\n",
       "\\item 'Power.Steering'\n",
       "\\item 'Power.Windows..Front.'\n",
       "\\item 'Power.Windows..Rear.'\n",
       "\\item 'Rain.Sensing.Wipers'\n",
       "\\item 'Rear.Track'\n",
       "\\item 'Rear.Tyres'\n",
       "\\item 'Seat.Capacity'\n",
       "\\item 'Speakers'\n",
       "\\item 'Tilt.Function'\n",
       "\\item 'Top.Speed..kmph.'\n",
       "\\item 'Traction.Control'\n",
       "\\item 'Transmission.Type'\n",
       "\\item 'Tubeless.Tyres'\n",
       "\\item 'Turning.Circle.Radius..metres.'\n",
       "\\item 'USB...Auxiliary.Input'\n",
       "\\item 'Wheelbase..mm.'\n",
       "\\item 'brand'\n",
       "\\end{enumerate*}\n"
      ],
      "text/markdown": [
       "1. 'name'\n",
       "2. 'model'\n",
       "3. 'url'\n",
       "4. 'price'\n",
       "5. 'type'\n",
       "6. 'ABS'\n",
       "7. 'Acceleration..0.100.kmph.'\n",
       "8. 'Air.Conditioner'\n",
       "9. 'Audio.Controls.on.Streeing.Wheel'\n",
       "10. 'Audio.System..with.remote.'\n",
       "11. 'Bluetooth.Connectivity'\n",
       "12. 'Body.Coloured.Bumpers'\n",
       "13. 'Boot.Space..litres.'\n",
       "14. 'Brakes.Front'\n",
       "15. 'Brakes.Rear'\n",
       "16. 'CD.Player'\n",
       "17. 'Central.Locking'\n",
       "18. 'Clean.Air.Filter'\n",
       "19. 'Cruise.Control'\n",
       "20. 'Door.Ajar.Warning'\n",
       "21. 'Driver.Seatbelt.Warning'\n",
       "22. 'Dual.SRS.Airbags..D.P.'\n",
       "23. 'EBD'\n",
       "24. 'Engine.Size..cc.'\n",
       "25. 'Engine.Type'\n",
       "26. 'Front.Track'\n",
       "27. 'Front.Tyres'\n",
       "28. 'Fuel.Supply.System'\n",
       "29. 'Fuel.Tank.Capacity..litres.'\n",
       "30. 'Fuel.Type'\n",
       "31. 'Full.Wheel.Caps'\n",
       "32. 'Gross.Weight..kg.'\n",
       "33. 'Ground.Clearance..mm.'\n",
       "34. 'Heater'\n",
       "35. 'Immobiliser'\n",
       "36. 'Kerb.Weight..kg.'\n",
       "37. 'Keyless.Entry'\n",
       "38. 'Max.Power..bhp...rpm.'\n",
       "39. 'Max.Torque..Nm...rpm.'\n",
       "40. 'Mileage.in.City..kmpl.'\n",
       "41. 'Mileage.on.Highway..kmpl.'\n",
       "42. 'No..of.Cylinders'\n",
       "43. 'Overall.Length.mm..x.Width.mm..x.Height.mm.'\n",
       "44. 'Panoramic.Sunroof'\n",
       "45. 'Passenger.Airbags'\n",
       "46. 'Power.Steering'\n",
       "47. 'Power.Windows..Front.'\n",
       "48. 'Power.Windows..Rear.'\n",
       "49. 'Rain.Sensing.Wipers'\n",
       "50. 'Rear.Track'\n",
       "51. 'Rear.Tyres'\n",
       "52. 'Seat.Capacity'\n",
       "53. 'Speakers'\n",
       "54. 'Tilt.Function'\n",
       "55. 'Top.Speed..kmph.'\n",
       "56. 'Traction.Control'\n",
       "57. 'Transmission.Type'\n",
       "58. 'Tubeless.Tyres'\n",
       "59. 'Turning.Circle.Radius..metres.'\n",
       "60. 'USB...Auxiliary.Input'\n",
       "61. 'Wheelbase..mm.'\n",
       "62. 'brand'\n",
       "\n",
       "\n"
      ],
      "text/plain": [
       " [1] \"name\"                                       \n",
       " [2] \"model\"                                      \n",
       " [3] \"url\"                                        \n",
       " [4] \"price\"                                      \n",
       " [5] \"type\"                                       \n",
       " [6] \"ABS\"                                        \n",
       " [7] \"Acceleration..0.100.kmph.\"                  \n",
       " [8] \"Air.Conditioner\"                            \n",
       " [9] \"Audio.Controls.on.Streeing.Wheel\"           \n",
       "[10] \"Audio.System..with.remote.\"                 \n",
       "[11] \"Bluetooth.Connectivity\"                     \n",
       "[12] \"Body.Coloured.Bumpers\"                      \n",
       "[13] \"Boot.Space..litres.\"                        \n",
       "[14] \"Brakes.Front\"                               \n",
       "[15] \"Brakes.Rear\"                                \n",
       "[16] \"CD.Player\"                                  \n",
       "[17] \"Central.Locking\"                            \n",
       "[18] \"Clean.Air.Filter\"                           \n",
       "[19] \"Cruise.Control\"                             \n",
       "[20] \"Door.Ajar.Warning\"                          \n",
       "[21] \"Driver.Seatbelt.Warning\"                    \n",
       "[22] \"Dual.SRS.Airbags..D.P.\"                     \n",
       "[23] \"EBD\"                                        \n",
       "[24] \"Engine.Size..cc.\"                           \n",
       "[25] \"Engine.Type\"                                \n",
       "[26] \"Front.Track\"                                \n",
       "[27] \"Front.Tyres\"                                \n",
       "[28] \"Fuel.Supply.System\"                         \n",
       "[29] \"Fuel.Tank.Capacity..litres.\"                \n",
       "[30] \"Fuel.Type\"                                  \n",
       "[31] \"Full.Wheel.Caps\"                            \n",
       "[32] \"Gross.Weight..kg.\"                          \n",
       "[33] \"Ground.Clearance..mm.\"                      \n",
       "[34] \"Heater\"                                     \n",
       "[35] \"Immobiliser\"                                \n",
       "[36] \"Kerb.Weight..kg.\"                           \n",
       "[37] \"Keyless.Entry\"                              \n",
       "[38] \"Max.Power..bhp...rpm.\"                      \n",
       "[39] \"Max.Torque..Nm...rpm.\"                      \n",
       "[40] \"Mileage.in.City..kmpl.\"                     \n",
       "[41] \"Mileage.on.Highway..kmpl.\"                  \n",
       "[42] \"No..of.Cylinders\"                           \n",
       "[43] \"Overall.Length.mm..x.Width.mm..x.Height.mm.\"\n",
       "[44] \"Panoramic.Sunroof\"                          \n",
       "[45] \"Passenger.Airbags\"                          \n",
       "[46] \"Power.Steering\"                             \n",
       "[47] \"Power.Windows..Front.\"                      \n",
       "[48] \"Power.Windows..Rear.\"                       \n",
       "[49] \"Rain.Sensing.Wipers\"                        \n",
       "[50] \"Rear.Track\"                                 \n",
       "[51] \"Rear.Tyres\"                                 \n",
       "[52] \"Seat.Capacity\"                              \n",
       "[53] \"Speakers\"                                   \n",
       "[54] \"Tilt.Function\"                              \n",
       "[55] \"Top.Speed..kmph.\"                           \n",
       "[56] \"Traction.Control\"                           \n",
       "[57] \"Transmission.Type\"                          \n",
       "[58] \"Tubeless.Tyres\"                             \n",
       "[59] \"Turning.Circle.Radius..metres.\"             \n",
       "[60] \"USB...Auxiliary.Input\"                      \n",
       "[61] \"Wheelbase..mm.\"                             \n",
       "[62] \"brand\"                                      "
      ]
     },
     "execution_count": 85,
     "metadata": {},
     "output_type": "execute_result"
    }
   ],
   "source": [
    "df <- read.csv(\"data/cars.csv\")\n",
    "colnames(df)"
   ]
  },
  {
   "cell_type": "code",
   "execution_count": 86,
   "metadata": {
    "collapsed": false
   },
   "outputs": [
    {
     "data": {
      "text/html": [
       "<table>\n",
       "<thead><tr><th></th><th scope=col>name</th><th scope=col>model</th><th scope=col>url</th><th scope=col>price</th><th scope=col>type</th><th scope=col>ABS</th><th scope=col>Acceleration..0.100.kmph.</th><th scope=col>Air.Conditioner</th><th scope=col>Audio.Controls.on.Streeing.Wheel</th><th scope=col>Audio.System..with.remote.</th><th scope=col>Bluetooth.Connectivity</th><th scope=col>Body.Coloured.Bumpers</th><th scope=col>Boot.Space..litres.</th><th scope=col>Brakes.Front</th><th scope=col>Brakes.Rear</th><th scope=col>CD.Player</th><th scope=col>Central.Locking</th><th scope=col>Clean.Air.Filter</th><th scope=col>Cruise.Control</th><th scope=col>Door.Ajar.Warning</th><th scope=col>Driver.Seatbelt.Warning</th><th scope=col>Dual.SRS.Airbags..D.P.</th><th scope=col>EBD</th><th scope=col>Engine.Size..cc.</th><th scope=col>Engine.Type</th><th scope=col>Front.Track</th><th scope=col>Front.Tyres</th><th scope=col>Fuel.Supply.System</th><th scope=col>Fuel.Tank.Capacity..litres.</th><th scope=col>Fuel.Type</th><th scope=col>Full.Wheel.Caps</th><th scope=col>Gross.Weight..kg.</th><th scope=col>Ground.Clearance..mm.</th><th scope=col>Heater</th><th scope=col>Immobiliser</th><th scope=col>Kerb.Weight..kg.</th><th scope=col>Keyless.Entry</th><th scope=col>Max.Power..bhp...rpm.</th><th scope=col>Max.Torque..Nm...rpm.</th><th scope=col>Mileage.in.City..kmpl.</th><th scope=col>Mileage.on.Highway..kmpl.</th><th scope=col>No..of.Cylinders</th><th scope=col>Overall.Length.mm..x.Width.mm..x.Height.mm.</th><th scope=col>Panoramic.Sunroof</th><th scope=col>Passenger.Airbags</th><th scope=col>Power.Steering</th><th scope=col>Power.Windows..Front.</th><th scope=col>Power.Windows..Rear.</th><th scope=col>Rain.Sensing.Wipers</th><th scope=col>Rear.Track</th><th scope=col>Rear.Tyres</th><th scope=col>Seat.Capacity</th><th scope=col>Speakers</th><th scope=col>Tilt.Function</th><th scope=col>Top.Speed..kmph.</th><th scope=col>Traction.Control</th><th scope=col>Transmission.Type</th><th scope=col>Tubeless.Tyres</th><th scope=col>Turning.Circle.Radius..metres.</th><th scope=col>USB...Auxiliary.Input</th><th scope=col>Wheelbase..mm.</th><th scope=col>brand</th></tr></thead>\n",
       "<tbody>\n",
       "\t<tr><th scope=row>1</th><td>Ashok Leyland Stile</td><td>Ashok Leyland Stile LE 8-STR (Diesel)</td><td>http://carzoom.in/car-specification/ashok-leyland-stile-le-8-str-diesel/</td><td>749990</td><td>MPV</td><td> No</td><td> 18.7</td><td> Manual</td><td> No</td><td> No</td><td> No</td><td> Yes</td><td> 500</td><td> Disc</td><td> Drum</td><td> No</td><td> No</td><td> Yes</td><td> No</td><td> No</td><td> No</td><td> No</td><td> No</td><td>1461</td><td> Turbo-intercooled, Common Rail Diesel Engine</td><td>NA</td><td> 165 R14</td><td> CRDi</td><td> 50</td><td> Diesel</td><td> Yes</td><td> 2000</td><td>180</td><td> Yes</td><td> Yes</td><td> 1426</td><td> No</td><td> 75 @ 3300</td><td> 185 @ 1750-2750</td><td> 16.2</td><td> 20.7</td><td> 4</td><td> 4400 x 1700 x 1860</td><td> No</td><td> No</td><td> Yes</td><td> No</td><td> No</td><td> No</td><td>NA</td><td> 165 R14</td><td> 8</td><td> No</td><td> Yes</td><td> 140</td><td> No</td><td> 5 Speed Manual</td><td> Yes</td><td>5.2</td><td> No</td><td> 2725</td><td>Ashok</td></tr>\n",
       "\t<tr><th scope=row>2</th><td>Ashok Leyland Stile</td><td>Ashok Leyland Stile LS 8-STR (Diesel)</td><td>http://carzoom.in/car-specification/ashok-leyland-stile-ls-8-str-diesel/</td><td>799990</td><td>MPV</td><td> No</td><td> 18.7</td><td> Manual</td><td> No</td><td> No</td><td> No</td><td> Yes</td><td> 500</td><td> Disc</td><td> Drum</td><td> No</td><td> Yes</td><td> No</td><td> No</td><td> No</td><td> No</td><td> No</td><td> No</td><td>1461</td><td> Turbo-intercooled, Common Rail Diesel Engine</td><td>NA</td><td> 165 R14</td><td> CRDi</td><td> 50</td><td> Diesel</td><td> No</td><td> 2000</td><td>180</td><td> Yes</td><td> Yes</td><td> 1426</td><td> No</td><td> 75 @ 3300</td><td> 185 @ 1750-2750</td><td> 16.2</td><td> 20.7</td><td> 4</td><td> 4400 x 1700 x 1860</td><td> No</td><td> No</td><td> Yes</td><td> Yes</td><td> No</td><td> No</td><td>NA</td><td> 165 R14</td><td> 8</td><td> No</td><td> Yes</td><td> 140</td><td> No</td><td> 5 Speed Manual</td><td> Yes</td><td>5.2</td><td> No</td><td> 2725</td><td>Ashok</td></tr>\n",
       "\t<tr><th scope=row>3</th><td>Ashok Leyland Stile</td><td>Ashok Leyland Stile LX 8-STR (Diesel)</td><td>http://carzoom.in/car-specification/ashok-leyland-stile-lx-8-str-diesel/</td><td>829990</td><td>MPV</td><td> No</td><td> 18.7</td><td> Manual</td><td> No</td><td> No</td><td> No</td><td> Yes</td><td> 500</td><td> Disc</td><td> Drum</td><td> No</td><td> Yes</td><td> Yes</td><td> No</td><td> No</td><td> No</td><td> No</td><td> No</td><td>1461</td><td> Turbo-intercooled, Common Rail Diesel Engine</td><td>NA</td><td> 165 R14</td><td> CRDi</td><td> 50</td><td> Diesel</td><td> No</td><td> 2000</td><td>180</td><td> Yes</td><td> Yes</td><td> 1426</td><td> No</td><td> 75 @ 3300</td><td> 185 @ 1750-2750</td><td> 16.2</td><td> 20.7</td><td> 4</td><td> 4400 x 1700 x 1860</td><td> No</td><td> No</td><td> Yes</td><td> Yes</td><td> No</td><td> No</td><td>NA</td><td> 165 R14</td><td> 8</td><td> No</td><td> Yes</td><td> 140</td><td> No</td><td> 5 Speed Manual</td><td> Yes</td><td>5.2</td><td> No</td><td> 2725</td><td>Ashok</td></tr>\n",
       "</tbody>\n",
       "</table>\n"
      ],
      "text/latex": [
       "\\begin{tabular}{r|llllllllllllllllllllllllllllllllllllllllllllllllllllllllllllll}\n",
       "  & name & model & url & price & type & ABS & Acceleration..0.100.kmph. & Air.Conditioner & Audio.Controls.on.Streeing.Wheel & Audio.System..with.remote. & Bluetooth.Connectivity & Body.Coloured.Bumpers & Boot.Space..litres. & Brakes.Front & Brakes.Rear & CD.Player & Central.Locking & Clean.Air.Filter & Cruise.Control & Door.Ajar.Warning & Driver.Seatbelt.Warning & Dual.SRS.Airbags..D.P. & EBD & Engine.Size..cc. & Engine.Type & Front.Track & Front.Tyres & Fuel.Supply.System & Fuel.Tank.Capacity..litres. & Fuel.Type & Full.Wheel.Caps & Gross.Weight..kg. & Ground.Clearance..mm. & Heater & Immobiliser & Kerb.Weight..kg. & Keyless.Entry & Max.Power..bhp...rpm. & Max.Torque..Nm...rpm. & Mileage.in.City..kmpl. & Mileage.on.Highway..kmpl. & No..of.Cylinders & Overall.Length.mm..x.Width.mm..x.Height.mm. & Panoramic.Sunroof & Passenger.Airbags & Power.Steering & Power.Windows..Front. & Power.Windows..Rear. & Rain.Sensing.Wipers & Rear.Track & Rear.Tyres & Seat.Capacity & Speakers & Tilt.Function & Top.Speed..kmph. & Traction.Control & Transmission.Type & Tubeless.Tyres & Turning.Circle.Radius..metres. & USB...Auxiliary.Input & Wheelbase..mm. & brand\\\\\n",
       "\\hline\n",
       "\t1 & Ashok Leyland Stile & Ashok Leyland Stile LE 8-STR (Diesel) & http://carzoom.in/car-specification/ashok-leyland-stile-le-8-str-diesel/ & 749990 & MPV &  No &  18.7 &  Manual &  No &  No &  No &  Yes &  500 &  Disc &  Drum &  No &  No &  Yes &  No &  No &  No &  No &  No & 1461 &  Turbo-intercooled, Common Rail Diesel Engine & NA &  165 R14 &  CRDi &  50 &  Diesel &  Yes &  2000 & 180 &  Yes &  Yes &  1426 &  No &  75 @ 3300 &  185 @ 1750-2750 &  16.2 &  20.7 &  4 &  4400 x 1700 x 1860 &  No &  No &  Yes &  No &  No &  No & NA &  165 R14 &  8 &  No &  Yes &  140 &  No &  5 Speed Manual &  Yes & 5.2 &  No &  2725 & Ashok\\\\\n",
       "\t2 & Ashok Leyland Stile & Ashok Leyland Stile LS 8-STR (Diesel) & http://carzoom.in/car-specification/ashok-leyland-stile-ls-8-str-diesel/ & 799990 & MPV &  No &  18.7 &  Manual &  No &  No &  No &  Yes &  500 &  Disc &  Drum &  No &  Yes &  No &  No &  No &  No &  No &  No & 1461 &  Turbo-intercooled, Common Rail Diesel Engine & NA &  165 R14 &  CRDi &  50 &  Diesel &  No &  2000 & 180 &  Yes &  Yes &  1426 &  No &  75 @ 3300 &  185 @ 1750-2750 &  16.2 &  20.7 &  4 &  4400 x 1700 x 1860 &  No &  No &  Yes &  Yes &  No &  No & NA &  165 R14 &  8 &  No &  Yes &  140 &  No &  5 Speed Manual &  Yes & 5.2 &  No &  2725 & Ashok\\\\\n",
       "\t3 & Ashok Leyland Stile & Ashok Leyland Stile LX 8-STR (Diesel) & http://carzoom.in/car-specification/ashok-leyland-stile-lx-8-str-diesel/ & 829990 & MPV &  No &  18.7 &  Manual &  No &  No &  No &  Yes &  500 &  Disc &  Drum &  No &  Yes &  Yes &  No &  No &  No &  No &  No & 1461 &  Turbo-intercooled, Common Rail Diesel Engine & NA &  165 R14 &  CRDi &  50 &  Diesel &  No &  2000 & 180 &  Yes &  Yes &  1426 &  No &  75 @ 3300 &  185 @ 1750-2750 &  16.2 &  20.7 &  4 &  4400 x 1700 x 1860 &  No &  No &  Yes &  Yes &  No &  No & NA &  165 R14 &  8 &  No &  Yes &  140 &  No &  5 Speed Manual &  Yes & 5.2 &  No &  2725 & Ashok\\\\\n",
       "\\end{tabular}\n"
      ],
      "text/plain": [
       "                 name                                 model\n",
       "1 Ashok Leyland Stile Ashok Leyland Stile LE 8-STR (Diesel)\n",
       "2 Ashok Leyland Stile Ashok Leyland Stile LS 8-STR (Diesel)\n",
       "3 Ashok Leyland Stile Ashok Leyland Stile LX 8-STR (Diesel)\n",
       "                                                                       url\n",
       "1 http://carzoom.in/car-specification/ashok-leyland-stile-le-8-str-diesel/\n",
       "2 http://carzoom.in/car-specification/ashok-leyland-stile-ls-8-str-diesel/\n",
       "3 http://carzoom.in/car-specification/ashok-leyland-stile-lx-8-str-diesel/\n",
       "   price type ABS Acceleration..0.100.kmph. Air.Conditioner\n",
       "1 749990  MPV  No                      18.7          Manual\n",
       "2 799990  MPV  No                      18.7          Manual\n",
       "3 829990  MPV  No                      18.7          Manual\n",
       "  Audio.Controls.on.Streeing.Wheel Audio.System..with.remote.\n",
       "1                               No                         No\n",
       "2                               No                         No\n",
       "3                               No                         No\n",
       "  Bluetooth.Connectivity Body.Coloured.Bumpers Boot.Space..litres. Brakes.Front\n",
       "1                     No                   Yes                 500         Disc\n",
       "2                     No                   Yes                 500         Disc\n",
       "3                     No                   Yes                 500         Disc\n",
       "  Brakes.Rear CD.Player Central.Locking Clean.Air.Filter Cruise.Control\n",
       "1        Drum        No              No              Yes             No\n",
       "2        Drum        No             Yes               No             No\n",
       "3        Drum        No             Yes              Yes             No\n",
       "  Door.Ajar.Warning Driver.Seatbelt.Warning Dual.SRS.Airbags..D.P. EBD\n",
       "1                No                      No                     No  No\n",
       "2                No                      No                     No  No\n",
       "3                No                      No                     No  No\n",
       "  Engine.Size..cc.                                   Engine.Type Front.Track\n",
       "1             1461  Turbo-intercooled, Common Rail Diesel Engine        <NA>\n",
       "2             1461  Turbo-intercooled, Common Rail Diesel Engine        <NA>\n",
       "3             1461  Turbo-intercooled, Common Rail Diesel Engine        <NA>\n",
       "  Front.Tyres Fuel.Supply.System Fuel.Tank.Capacity..litres. Fuel.Type\n",
       "1     165 R14               CRDi                          50    Diesel\n",
       "2     165 R14               CRDi                          50    Diesel\n",
       "3     165 R14               CRDi                          50    Diesel\n",
       "  Full.Wheel.Caps Gross.Weight..kg. Ground.Clearance..mm. Heater Immobiliser\n",
       "1             Yes              2000                   180    Yes         Yes\n",
       "2              No              2000                   180    Yes         Yes\n",
       "3              No              2000                   180    Yes         Yes\n",
       "  Kerb.Weight..kg. Keyless.Entry Max.Power..bhp...rpm. Max.Torque..Nm...rpm.\n",
       "1             1426            No             75 @ 3300       185 @ 1750-2750\n",
       "2             1426            No             75 @ 3300       185 @ 1750-2750\n",
       "3             1426            No             75 @ 3300       185 @ 1750-2750\n",
       "  Mileage.in.City..kmpl. Mileage.on.Highway..kmpl. No..of.Cylinders\n",
       "1                   16.2                      20.7                4\n",
       "2                   16.2                      20.7                4\n",
       "3                   16.2                      20.7                4\n",
       "  Overall.Length.mm..x.Width.mm..x.Height.mm. Panoramic.Sunroof\n",
       "1                          4400 x 1700 x 1860                No\n",
       "2                          4400 x 1700 x 1860                No\n",
       "3                          4400 x 1700 x 1860                No\n",
       "  Passenger.Airbags Power.Steering Power.Windows..Front. Power.Windows..Rear.\n",
       "1                No            Yes                    No                   No\n",
       "2                No            Yes                   Yes                   No\n",
       "3                No            Yes                   Yes                   No\n",
       "  Rain.Sensing.Wipers Rear.Track Rear.Tyres Seat.Capacity Speakers\n",
       "1                  No       <NA>    165 R14             8       No\n",
       "2                  No       <NA>    165 R14             8       No\n",
       "3                  No       <NA>    165 R14             8       No\n",
       "  Tilt.Function Top.Speed..kmph. Traction.Control Transmission.Type\n",
       "1           Yes              140               No    5 Speed Manual\n",
       "2           Yes              140               No    5 Speed Manual\n",
       "3           Yes              140               No    5 Speed Manual\n",
       "  Tubeless.Tyres Turning.Circle.Radius..metres. USB...Auxiliary.Input\n",
       "1            Yes                            5.2                    No\n",
       "2            Yes                            5.2                    No\n",
       "3            Yes                            5.2                    No\n",
       "  Wheelbase..mm. brand\n",
       "1           2725 Ashok\n",
       "2           2725 Ashok\n",
       "3           2725 Ashok"
      ]
     },
     "execution_count": 86,
     "metadata": {},
     "output_type": "execute_result"
    }
   ],
   "source": [
    "head(df, 3)"
   ]
  },
  {
   "cell_type": "code",
   "execution_count": 87,
   "metadata": {
    "collapsed": false
   },
   "outputs": [
    {
     "data": {
      "text/html": [
       "203"
      ],
      "text/latex": [
       "203"
      ],
      "text/markdown": [
       "203"
      ],
      "text/plain": [
       "[1] 203"
      ]
     },
     "execution_count": 87,
     "metadata": {},
     "output_type": "execute_result"
    }
   ],
   "source": [
    "length(unique(df$name))"
   ]
  },
  {
   "cell_type": "markdown",
   "metadata": {},
   "source": [
    "## Rows to Consider\n",
    "\n",
    "consider the base model for each vehicle"
   ]
  },
  {
   "cell_type": "markdown",
   "metadata": {},
   "source": [
    "## Columns to consider\n",
    "\n",
    "* name\n",
    "* price\n",
    "* type\n",
    "* Engine.Size..cc.\n",
    "* Fuel.Type\n",
    "* Gross.Weight..kg.\n",
    "* Ground.Clearance..mm.\n",
    "* Max.Power..bhp...rpm.\n",
    "* Mileage.in.City..kmpl.\n",
    "* Mileage.on.Highway..kmpl.\n",
    "* No..of.Cylinders\n",
    "* Seat.Capacity\n",
    "* Transmission.Type\n",
    "* brand\n"
   ]
  },
  {
   "cell_type": "code",
   "execution_count": 88,
   "metadata": {
    "collapsed": false
   },
   "outputs": [],
   "source": [
    "cleaned_df <- select(df, name, model, price, type, Engine.Size..cc., Fuel.Type, Gross.Weight..kg.,\n",
    "       Ground.Clearance..mm., Max.Power..bhp...rpm., Mileage.in.City..kmpl., Mileage.on.Highway..kmpl.,\n",
    "      No..of.Cylinders, Seat.Capacity, Transmission.Type, brand)"
   ]
  },
  {
   "cell_type": "code",
   "execution_count": 89,
   "metadata": {
    "collapsed": false
   },
   "outputs": [],
   "source": [
    "colnames(cleaned_df) <- c(\"name\", \"model\", \"price\", \"type\", \"engine\", \"fuel\", \"weight\",\n",
    "                         \"clearance\", \"max_power_bhp_rpm\", \"mileage_city\", \"mileage_highway\",\n",
    "                         \"cylinders\", \"seats\", \"transmission_type\", \"brand\")"
   ]
  },
  {
   "cell_type": "code",
   "execution_count": 90,
   "metadata": {
    "collapsed": false
   },
   "outputs": [
    {
     "data": {
      "text/html": [
       "<ol class=list-inline>\n",
       "\t<li>'name'</li>\n",
       "\t<li>'model'</li>\n",
       "\t<li>'price'</li>\n",
       "\t<li>'type'</li>\n",
       "\t<li>'engine'</li>\n",
       "\t<li>'fuel'</li>\n",
       "\t<li>'weight'</li>\n",
       "\t<li>'clearance'</li>\n",
       "\t<li>'max_power_bhp_rpm'</li>\n",
       "\t<li>'mileage_city'</li>\n",
       "\t<li>'mileage_highway'</li>\n",
       "\t<li>'cylinders'</li>\n",
       "\t<li>'seats'</li>\n",
       "\t<li>'transmission_type'</li>\n",
       "\t<li>'brand'</li>\n",
       "</ol>\n"
      ],
      "text/latex": [
       "\\begin{enumerate*}\n",
       "\\item 'name'\n",
       "\\item 'model'\n",
       "\\item 'price'\n",
       "\\item 'type'\n",
       "\\item 'engine'\n",
       "\\item 'fuel'\n",
       "\\item 'weight'\n",
       "\\item 'clearance'\n",
       "\\item 'max_power_bhp_rpm'\n",
       "\\item 'mileage_city'\n",
       "\\item 'mileage_highway'\n",
       "\\item 'cylinders'\n",
       "\\item 'seats'\n",
       "\\item 'transmission_type'\n",
       "\\item 'brand'\n",
       "\\end{enumerate*}\n"
      ],
      "text/markdown": [
       "1. 'name'\n",
       "2. 'model'\n",
       "3. 'price'\n",
       "4. 'type'\n",
       "5. 'engine'\n",
       "6. 'fuel'\n",
       "7. 'weight'\n",
       "8. 'clearance'\n",
       "9. 'max_power_bhp_rpm'\n",
       "10. 'mileage_city'\n",
       "11. 'mileage_highway'\n",
       "12. 'cylinders'\n",
       "13. 'seats'\n",
       "14. 'transmission_type'\n",
       "15. 'brand'\n",
       "\n",
       "\n"
      ],
      "text/plain": [
       " [1] \"name\"              \"model\"             \"price\"            \n",
       " [4] \"type\"              \"engine\"            \"fuel\"             \n",
       " [7] \"weight\"            \"clearance\"         \"max_power_bhp_rpm\"\n",
       "[10] \"mileage_city\"      \"mileage_highway\"   \"cylinders\"        \n",
       "[13] \"seats\"             \"transmission_type\" \"brand\"            "
      ]
     },
     "execution_count": 90,
     "metadata": {},
     "output_type": "execute_result"
    }
   ],
   "source": [
    "colnames(cleaned_df)"
   ]
  },
  {
   "cell_type": "code",
   "execution_count": 91,
   "metadata": {
    "collapsed": false
   },
   "outputs": [
    {
     "data": {
      "text/html": [
       "<table>\n",
       "<thead><tr><th></th><th scope=col>name</th><th scope=col>model</th><th scope=col>price</th><th scope=col>type</th><th scope=col>engine</th><th scope=col>fuel</th><th scope=col>weight</th><th scope=col>clearance</th><th scope=col>max_power_bhp_rpm</th><th scope=col>mileage_city</th><th scope=col>mileage_highway</th><th scope=col>cylinders</th><th scope=col>seats</th><th scope=col>transmission_type</th><th scope=col>brand</th></tr></thead>\n",
       "<tbody>\n",
       "\t<tr><th scope=row>1</th><td>Ashok Leyland Stile</td><td>Ashok Leyland Stile LE 8-STR (Diesel)</td><td>749990</td><td>MPV</td><td>1461</td><td> Diesel</td><td> 2000</td><td>180</td><td> 75 @ 3300</td><td> 16.2</td><td> 20.7</td><td> 4</td><td> 8</td><td> 5 Speed Manual</td><td>Ashok</td></tr>\n",
       "\t<tr><th scope=row>2</th><td>Ashok Leyland Stile</td><td>Ashok Leyland Stile LS 8-STR (Diesel)</td><td>799990</td><td>MPV</td><td>1461</td><td> Diesel</td><td> 2000</td><td>180</td><td> 75 @ 3300</td><td> 16.2</td><td> 20.7</td><td> 4</td><td> 8</td><td> 5 Speed Manual</td><td>Ashok</td></tr>\n",
       "\t<tr><th scope=row>3</th><td>Ashok Leyland Stile</td><td>Ashok Leyland Stile LX 8-STR (Diesel)</td><td>829990</td><td>MPV</td><td>1461</td><td> Diesel</td><td> 2000</td><td>180</td><td> 75 @ 3300</td><td> 16.2</td><td> 20.7</td><td> 4</td><td> 8</td><td> 5 Speed Manual</td><td>Ashok</td></tr>\n",
       "</tbody>\n",
       "</table>\n"
      ],
      "text/latex": [
       "\\begin{tabular}{r|lllllllllllllll}\n",
       "  & name & model & price & type & engine & fuel & weight & clearance & max_power_bhp_rpm & mileage_city & mileage_highway & cylinders & seats & transmission_type & brand\\\\\n",
       "\\hline\n",
       "\t1 & Ashok Leyland Stile & Ashok Leyland Stile LE 8-STR (Diesel) & 749990 & MPV & 1461 &  Diesel &  2000 & 180 &  75 @ 3300 &  16.2 &  20.7 &  4 &  8 &  5 Speed Manual & Ashok\\\\\n",
       "\t2 & Ashok Leyland Stile & Ashok Leyland Stile LS 8-STR (Diesel) & 799990 & MPV & 1461 &  Diesel &  2000 & 180 &  75 @ 3300 &  16.2 &  20.7 &  4 &  8 &  5 Speed Manual & Ashok\\\\\n",
       "\t3 & Ashok Leyland Stile & Ashok Leyland Stile LX 8-STR (Diesel) & 829990 & MPV & 1461 &  Diesel &  2000 & 180 &  75 @ 3300 &  16.2 &  20.7 &  4 &  8 &  5 Speed Manual & Ashok\\\\\n",
       "\\end{tabular}\n"
      ],
      "text/plain": [
       "                 name                                 model  price type engine\n",
       "1 Ashok Leyland Stile Ashok Leyland Stile LE 8-STR (Diesel) 749990  MPV   1461\n",
       "2 Ashok Leyland Stile Ashok Leyland Stile LS 8-STR (Diesel) 799990  MPV   1461\n",
       "3 Ashok Leyland Stile Ashok Leyland Stile LX 8-STR (Diesel) 829990  MPV   1461\n",
       "     fuel weight clearance max_power_bhp_rpm mileage_city mileage_highway\n",
       "1  Diesel   2000       180         75 @ 3300         16.2            20.7\n",
       "2  Diesel   2000       180         75 @ 3300         16.2            20.7\n",
       "3  Diesel   2000       180         75 @ 3300         16.2            20.7\n",
       "  cylinders seats transmission_type brand\n",
       "1         4     8    5 Speed Manual Ashok\n",
       "2         4     8    5 Speed Manual Ashok\n",
       "3         4     8    5 Speed Manual Ashok"
      ]
     },
     "execution_count": 91,
     "metadata": {},
     "output_type": "execute_result"
    }
   ],
   "source": [
    "head(cleaned_df, 3)"
   ]
  },
  {
   "cell_type": "code",
   "execution_count": 92,
   "metadata": {
    "collapsed": false
   },
   "outputs": [
    {
     "data": {
      "text/html": [
       "<ol class=list-inline>\n",
       "\t<li> 5 Speed Manual</li>\n",
       "\t<li> 6 Speed Automatic</li>\n",
       "\t<li> 6 Speed Manual</li>\n",
       "\t<li> 7 Speed Automatic</li>\n",
       "\t<li> Automatic</li>\n",
       "\t<li> 8 Speed Automatic</li>\n",
       "\t<li> 7 Speed</li>\n",
       "\t<li>NA</li>\n",
       "\t<li> 5 Speed Automatic</li>\n",
       "\t<li> Manual</li>\n",
       "\t<li> 4 Speed Automatic</li>\n",
       "\t<li> 4 Speed Manual</li>\n",
       "</ol>\n"
      ],
      "text/latex": [
       "\\begin{enumerate*}\n",
       "\\item  5 Speed Manual\n",
       "\\item  6 Speed Automatic\n",
       "\\item  6 Speed Manual\n",
       "\\item  7 Speed Automatic\n",
       "\\item  Automatic\n",
       "\\item  8 Speed Automatic\n",
       "\\item  7 Speed\n",
       "\\item NA\n",
       "\\item  5 Speed Automatic\n",
       "\\item  Manual\n",
       "\\item  4 Speed Automatic\n",
       "\\item  4 Speed Manual\n",
       "\\end{enumerate*}\n"
      ],
      "text/markdown": [
       "1.  5 Speed Manual\n",
       "2.  6 Speed Automatic\n",
       "3.  6 Speed Manual\n",
       "4.  7 Speed Automatic\n",
       "5.  Automatic\n",
       "6.  8 Speed Automatic\n",
       "7.  7 Speed\n",
       "8. NA\n",
       "9.  5 Speed Automatic\n",
       "10.  Manual\n",
       "11.  4 Speed Automatic\n",
       "12.  4 Speed Manual\n",
       "\n",
       "\n"
      ],
      "text/plain": [
       " [1]  5 Speed Manual     6 Speed Automatic  6 Speed Manual     7 Speed Automatic\n",
       " [5]  Automatic          8 Speed Automatic  7 Speed           <NA>              \n",
       " [9]  5 Speed Automatic  Manual             4 Speed Automatic  4 Speed Manual   \n",
       "11 Levels:  4 Speed Automatic  4 Speed Manual ...  Manual"
      ]
     },
     "execution_count": 92,
     "metadata": {},
     "output_type": "execute_result"
    }
   ],
   "source": [
    "unique(cleaned_df$transmission_type)"
   ]
  },
  {
   "cell_type": "code",
   "execution_count": 93,
   "metadata": {
    "collapsed": false
   },
   "outputs": [],
   "source": [
    "getNumGear <- function(row) {\n",
    "    return(unlist(strsplit(row, split = \" \"))[1])\n",
    "}"
   ]
  },
  {
   "cell_type": "code",
   "execution_count": 94,
   "metadata": {
    "collapsed": false
   },
   "outputs": [
    {
     "data": {
      "text/html": [
       "<table>\n",
       "<thead><tr><th></th><th scope=col>as.character.cleaned_df....transmission_type...</th></tr></thead>\n",
       "<tbody>\n",
       "\t<tr><th scope=row>1</th><td> 5 Speed Manual</td></tr>\n",
       "\t<tr><th scope=row>2</th><td> 5 Speed Manual</td></tr>\n",
       "\t<tr><th scope=row>3</th><td> 5 Speed Manual</td></tr>\n",
       "\t<tr><th scope=row>4</th><td> 5 Speed Manual</td></tr>\n",
       "\t<tr><th scope=row>5</th><td> 5 Speed Manual</td></tr>\n",
       "\t<tr><th scope=row>6</th><td> 5 Speed Manual</td></tr>\n",
       "</tbody>\n",
       "</table>\n"
      ],
      "text/latex": [
       "\\begin{tabular}{r|l}\n",
       "  & as.character.cleaned_df....transmission_type...\\\\\n",
       "\\hline\n",
       "\t1 &  5 Speed Manual\\\\\n",
       "\t2 &  5 Speed Manual\\\\\n",
       "\t3 &  5 Speed Manual\\\\\n",
       "\t4 &  5 Speed Manual\\\\\n",
       "\t5 &  5 Speed Manual\\\\\n",
       "\t6 &  5 Speed Manual\\\\\n",
       "\\end{tabular}\n"
      ],
      "text/plain": [
       "  as.character.cleaned_df....transmission_type...\n",
       "1                                  5 Speed Manual\n",
       "2                                  5 Speed Manual\n",
       "3                                  5 Speed Manual\n",
       "4                                  5 Speed Manual\n",
       "5                                  5 Speed Manual\n",
       "6                                  5 Speed Manual"
      ]
     },
     "execution_count": 94,
     "metadata": {},
     "output_type": "execute_result"
    }
   ],
   "source": [
    "transmission <- data.frame(as.character(cleaned_df[,\"transmission_type\"]))\n",
    "head(transmission)"
   ]
  },
  {
   "cell_type": "code",
   "execution_count": 95,
   "metadata": {
    "collapsed": false
   },
   "outputs": [],
   "source": [
    "transmission[,1] <- as.character(transmission[,1])"
   ]
  },
  {
   "cell_type": "code",
   "execution_count": 96,
   "metadata": {
    "collapsed": false
   },
   "outputs": [
    {
     "data": {
      "text/html": [
       "'character'"
      ],
      "text/latex": [
       "'character'"
      ],
      "text/markdown": [
       "'character'"
      ],
      "text/plain": [
       "[1] \"character\""
      ]
     },
     "execution_count": 96,
     "metadata": {},
     "output_type": "execute_result"
    }
   ],
   "source": [
    "class(transmission[,1])"
   ]
  },
  {
   "cell_type": "code",
   "execution_count": 97,
   "metadata": {
    "collapsed": false
   },
   "outputs": [
    {
     "data": {
      "text/html": [
       "' 5 Speed Manual'"
      ],
      "text/latex": [
       "' 5 Speed Manual'"
      ],
      "text/markdown": [
       "' 5 Speed Manual'"
      ],
      "text/plain": [
       "[1] \" 5 Speed Manual\""
      ]
     },
     "execution_count": 97,
     "metadata": {},
     "output_type": "execute_result"
    }
   ],
   "source": [
    "transmission[1,1]"
   ]
  },
  {
   "cell_type": "code",
   "execution_count": 98,
   "metadata": {
    "collapsed": true
   },
   "outputs": [],
   "source": [
    "transmission[,1] <- apply(transmission, 2, function(x) trimws(x))"
   ]
  },
  {
   "cell_type": "code",
   "execution_count": 99,
   "metadata": {
    "collapsed": false
   },
   "outputs": [
    {
     "data": {
      "text/html": [
       "<table>\n",
       "<thead><tr><th></th><th scope=col>as.character.cleaned_df....transmission_type...</th></tr></thead>\n",
       "<tbody>\n",
       "\t<tr><th scope=row>1</th><td>5 Speed Manual</td></tr>\n",
       "\t<tr><th scope=row>2</th><td>5 Speed Manual</td></tr>\n",
       "\t<tr><th scope=row>3</th><td>5 Speed Manual</td></tr>\n",
       "\t<tr><th scope=row>4</th><td>5 Speed Manual</td></tr>\n",
       "\t<tr><th scope=row>5</th><td>5 Speed Manual</td></tr>\n",
       "\t<tr><th scope=row>6</th><td>5 Speed Manual</td></tr>\n",
       "</tbody>\n",
       "</table>\n"
      ],
      "text/latex": [
       "\\begin{tabular}{r|l}\n",
       "  & as.character.cleaned_df....transmission_type...\\\\\n",
       "\\hline\n",
       "\t1 & 5 Speed Manual\\\\\n",
       "\t2 & 5 Speed Manual\\\\\n",
       "\t3 & 5 Speed Manual\\\\\n",
       "\t4 & 5 Speed Manual\\\\\n",
       "\t5 & 5 Speed Manual\\\\\n",
       "\t6 & 5 Speed Manual\\\\\n",
       "\\end{tabular}\n"
      ],
      "text/plain": [
       "  as.character.cleaned_df....transmission_type...\n",
       "1                                  5 Speed Manual\n",
       "2                                  5 Speed Manual\n",
       "3                                  5 Speed Manual\n",
       "4                                  5 Speed Manual\n",
       "5                                  5 Speed Manual\n",
       "6                                  5 Speed Manual"
      ]
     },
     "execution_count": 99,
     "metadata": {},
     "output_type": "execute_result"
    }
   ],
   "source": [
    "head(transmission)"
   ]
  },
  {
   "cell_type": "code",
   "execution_count": 100,
   "metadata": {
    "collapsed": false
   },
   "outputs": [],
   "source": [
    "gearNumbers <- apply(transmission, 1, function(x) getNumGear(x))"
   ]
  },
  {
   "cell_type": "code",
   "execution_count": 101,
   "metadata": {
    "collapsed": false
   },
   "outputs": [],
   "source": [
    "gearNumbers[is.na(gearNumbers)] <- 4"
   ]
  },
  {
   "cell_type": "code",
   "execution_count": 102,
   "metadata": {
    "collapsed": false
   },
   "outputs": [
    {
     "data": {
      "text/plain": [
       "gearNumbers\n",
       "        4         5         6         7         8 Automatic    Manual \n",
       "       27       513       141        74        72         5         1 "
      ]
     },
     "execution_count": 102,
     "metadata": {},
     "output_type": "execute_result"
    }
   ],
   "source": [
    "table(gearNumbers)"
   ]
  },
  {
   "cell_type": "code",
   "execution_count": 103,
   "metadata": {
    "collapsed": false
   },
   "outputs": [],
   "source": [
    "gearNumbers[gearNumbers==\"Automatic\"] = 5"
   ]
  },
  {
   "cell_type": "code",
   "execution_count": 104,
   "metadata": {
    "collapsed": false
   },
   "outputs": [
    {
     "data": {
      "text/plain": [
       "gearNumbers\n",
       "     4      5      6      7      8 Manual \n",
       "    27    518    141     74     72      1 "
      ]
     },
     "execution_count": 104,
     "metadata": {},
     "output_type": "execute_result"
    }
   ],
   "source": [
    "table(gearNumbers)"
   ]
  },
  {
   "cell_type": "code",
   "execution_count": 105,
   "metadata": {
    "collapsed": true
   },
   "outputs": [],
   "source": [
    "gearNumbers[gearNumbers==\"Manual\"] = 5"
   ]
  },
  {
   "cell_type": "code",
   "execution_count": 106,
   "metadata": {
    "collapsed": false
   },
   "outputs": [
    {
     "data": {
      "text/plain": [
       "gearNumbers\n",
       "  4   5   6   7   8 \n",
       " 27 519 141  74  72 "
      ]
     },
     "execution_count": 106,
     "metadata": {},
     "output_type": "execute_result"
    }
   ],
   "source": [
    "table(gearNumbers)"
   ]
  },
  {
   "cell_type": "code",
   "execution_count": 107,
   "metadata": {
    "collapsed": false
   },
   "outputs": [],
   "source": [
    "gearNumbers <- as.numeric(gearNumbers)"
   ]
  },
  {
   "cell_type": "code",
   "execution_count": 108,
   "metadata": {
    "collapsed": false
   },
   "outputs": [
    {
     "data": {
      "text/html": [
       "'numeric'"
      ],
      "text/latex": [
       "'numeric'"
      ],
      "text/markdown": [
       "'numeric'"
      ],
      "text/plain": [
       "[1] \"numeric\""
      ]
     },
     "execution_count": 108,
     "metadata": {},
     "output_type": "execute_result"
    }
   ],
   "source": [
    "class(gearNumbers)"
   ]
  },
  {
   "cell_type": "code",
   "execution_count": 109,
   "metadata": {
    "collapsed": false
   },
   "outputs": [
    {
     "data": {
      "text/plain": [
       "gearNumbers\n",
       "  4   5   6   7   8 \n",
       " 27 519 141  74  72 "
      ]
     },
     "execution_count": 109,
     "metadata": {},
     "output_type": "execute_result"
    }
   ],
   "source": [
    "table(gearNumbers)"
   ]
  },
  {
   "cell_type": "code",
   "execution_count": 110,
   "metadata": {
    "collapsed": true
   },
   "outputs": [],
   "source": [
    "cleaned_df$gears <- gearNumbers"
   ]
  },
  {
   "cell_type": "code",
   "execution_count": 111,
   "metadata": {
    "collapsed": false
   },
   "outputs": [
    {
     "data": {
      "text/html": [
       "<table>\n",
       "<thead><tr><th></th><th scope=col>name</th><th scope=col>model</th><th scope=col>price</th><th scope=col>type</th><th scope=col>engine</th><th scope=col>fuel</th><th scope=col>weight</th><th scope=col>clearance</th><th scope=col>max_power_bhp_rpm</th><th scope=col>mileage_city</th><th scope=col>mileage_highway</th><th scope=col>cylinders</th><th scope=col>seats</th><th scope=col>transmission_type</th><th scope=col>brand</th><th scope=col>gears</th></tr></thead>\n",
       "<tbody>\n",
       "\t<tr><th scope=row>1</th><td>Ashok Leyland Stile</td><td>Ashok Leyland Stile LE 8-STR (Diesel)</td><td>749990</td><td>MPV</td><td>1461</td><td> Diesel</td><td> 2000</td><td>180</td><td> 75 @ 3300</td><td> 16.2</td><td> 20.7</td><td> 4</td><td> 8</td><td> 5 Speed Manual</td><td>Ashok</td><td>5</td></tr>\n",
       "\t<tr><th scope=row>2</th><td>Ashok Leyland Stile</td><td>Ashok Leyland Stile LS 8-STR (Diesel)</td><td>799990</td><td>MPV</td><td>1461</td><td> Diesel</td><td> 2000</td><td>180</td><td> 75 @ 3300</td><td> 16.2</td><td> 20.7</td><td> 4</td><td> 8</td><td> 5 Speed Manual</td><td>Ashok</td><td>5</td></tr>\n",
       "\t<tr><th scope=row>3</th><td>Ashok Leyland Stile</td><td>Ashok Leyland Stile LX 8-STR (Diesel)</td><td>829990</td><td>MPV</td><td>1461</td><td> Diesel</td><td> 2000</td><td>180</td><td> 75 @ 3300</td><td> 16.2</td><td> 20.7</td><td> 4</td><td> 8</td><td> 5 Speed Manual</td><td>Ashok</td><td>5</td></tr>\n",
       "\t<tr><th scope=row>4</th><td>Ashok Leyland Stile</td><td>Ashok Leyland Stile LS 7-STR (Diesel)</td><td>849990</td><td>MPV</td><td>1461</td><td> Diesel</td><td> 2000</td><td>180</td><td> 75 @ 3300</td><td> 16.2</td><td> 20.7</td><td> 4</td><td> 7</td><td> 5 Speed Manual</td><td>Ashok</td><td>5</td></tr>\n",
       "\t<tr><th scope=row>5</th><td>Ashok Leyland Stile</td><td>Ashok Leyland Stile LS 7-STR Alloy (Diesel)</td><td>879990</td><td>MPV</td><td>1461</td><td> Diesel</td><td> 2000</td><td>180</td><td> 75 @ 3300</td><td> 16.2</td><td> 20.7</td><td> 4</td><td> 7</td><td> 5 Speed Manual</td><td>Ashok</td><td>5</td></tr>\n",
       "\t<tr><th scope=row>6</th><td>Ashok Leyland Stile</td><td>Ashok Leyland Stile LX 7-STR (Diesel)</td><td>899990</td><td>MPV</td><td>1461</td><td> Diesel</td><td> 2000</td><td>180</td><td> 75 @ 3300</td><td> 16.2</td><td> 20.7</td><td> 4</td><td> 7</td><td> 5 Speed Manual</td><td>Ashok</td><td>5</td></tr>\n",
       "</tbody>\n",
       "</table>\n"
      ],
      "text/latex": [
       "\\begin{tabular}{r|llllllllllllllll}\n",
       "  & name & model & price & type & engine & fuel & weight & clearance & max_power_bhp_rpm & mileage_city & mileage_highway & cylinders & seats & transmission_type & brand & gears\\\\\n",
       "\\hline\n",
       "\t1 & Ashok Leyland Stile & Ashok Leyland Stile LE 8-STR (Diesel) & 749990 & MPV & 1461 &  Diesel &  2000 & 180 &  75 @ 3300 &  16.2 &  20.7 &  4 &  8 &  5 Speed Manual & Ashok & 5\\\\\n",
       "\t2 & Ashok Leyland Stile & Ashok Leyland Stile LS 8-STR (Diesel) & 799990 & MPV & 1461 &  Diesel &  2000 & 180 &  75 @ 3300 &  16.2 &  20.7 &  4 &  8 &  5 Speed Manual & Ashok & 5\\\\\n",
       "\t3 & Ashok Leyland Stile & Ashok Leyland Stile LX 8-STR (Diesel) & 829990 & MPV & 1461 &  Diesel &  2000 & 180 &  75 @ 3300 &  16.2 &  20.7 &  4 &  8 &  5 Speed Manual & Ashok & 5\\\\\n",
       "\t4 & Ashok Leyland Stile & Ashok Leyland Stile LS 7-STR (Diesel) & 849990 & MPV & 1461 &  Diesel &  2000 & 180 &  75 @ 3300 &  16.2 &  20.7 &  4 &  7 &  5 Speed Manual & Ashok & 5\\\\\n",
       "\t5 & Ashok Leyland Stile & Ashok Leyland Stile LS 7-STR Alloy (Diesel) & 879990 & MPV & 1461 &  Diesel &  2000 & 180 &  75 @ 3300 &  16.2 &  20.7 &  4 &  7 &  5 Speed Manual & Ashok & 5\\\\\n",
       "\t6 & Ashok Leyland Stile & Ashok Leyland Stile LX 7-STR (Diesel) & 899990 & MPV & 1461 &  Diesel &  2000 & 180 &  75 @ 3300 &  16.2 &  20.7 &  4 &  7 &  5 Speed Manual & Ashok & 5\\\\\n",
       "\\end{tabular}\n"
      ],
      "text/plain": [
       "                 name                                       model  price type\n",
       "1 Ashok Leyland Stile       Ashok Leyland Stile LE 8-STR (Diesel) 749990  MPV\n",
       "2 Ashok Leyland Stile       Ashok Leyland Stile LS 8-STR (Diesel) 799990  MPV\n",
       "3 Ashok Leyland Stile       Ashok Leyland Stile LX 8-STR (Diesel) 829990  MPV\n",
       "4 Ashok Leyland Stile       Ashok Leyland Stile LS 7-STR (Diesel) 849990  MPV\n",
       "5 Ashok Leyland Stile Ashok Leyland Stile LS 7-STR Alloy (Diesel) 879990  MPV\n",
       "6 Ashok Leyland Stile       Ashok Leyland Stile LX 7-STR (Diesel) 899990  MPV\n",
       "  engine    fuel weight clearance max_power_bhp_rpm mileage_city\n",
       "1   1461  Diesel   2000       180         75 @ 3300         16.2\n",
       "2   1461  Diesel   2000       180         75 @ 3300         16.2\n",
       "3   1461  Diesel   2000       180         75 @ 3300         16.2\n",
       "4   1461  Diesel   2000       180         75 @ 3300         16.2\n",
       "5   1461  Diesel   2000       180         75 @ 3300         16.2\n",
       "6   1461  Diesel   2000       180         75 @ 3300         16.2\n",
       "  mileage_highway cylinders seats transmission_type brand gears\n",
       "1            20.7         4     8    5 Speed Manual Ashok     5\n",
       "2            20.7         4     8    5 Speed Manual Ashok     5\n",
       "3            20.7         4     8    5 Speed Manual Ashok     5\n",
       "4            20.7         4     7    5 Speed Manual Ashok     5\n",
       "5            20.7         4     7    5 Speed Manual Ashok     5\n",
       "6            20.7         4     7    5 Speed Manual Ashok     5"
      ]
     },
     "execution_count": 111,
     "metadata": {},
     "output_type": "execute_result"
    }
   ],
   "source": [
    "head(cleaned_df)"
   ]
  },
  {
   "cell_type": "code",
   "execution_count": 112,
   "metadata": {
    "collapsed": true
   },
   "outputs": [],
   "source": [
    "getTransmissionType <- function(row) {\n",
    "    if (is.na(row) || row == \"Manual\") {\n",
    "        return(\"Manual\")\n",
    "    }\n",
    "    \n",
    "    if (row == \"Automatic\") {\n",
    "        return(\"Automatic\")\n",
    "    }\n",
    "    \n",
    "    return(unlist(strsplit(row, split = \" \"))[3])\n",
    "        \n",
    "}"
   ]
  },
  {
   "cell_type": "code",
   "execution_count": 113,
   "metadata": {
    "collapsed": false
   },
   "outputs": [
    {
     "data": {
      "text/html": [
       "'Manual'"
      ],
      "text/latex": [
       "'Manual'"
      ],
      "text/markdown": [
       "'Manual'"
      ],
      "text/plain": [
       "[1] \"Manual\""
      ]
     },
     "execution_count": 113,
     "metadata": {},
     "output_type": "execute_result"
    }
   ],
   "source": [
    "getTransmissionType(NA)"
   ]
  },
  {
   "cell_type": "code",
   "execution_count": 114,
   "metadata": {
    "collapsed": false
   },
   "outputs": [
    {
     "data": {
      "text/html": [
       "<table>\n",
       "<thead><tr><th></th><th scope=col>as.character.cleaned_df....transmission_type...</th></tr></thead>\n",
       "<tbody>\n",
       "\t<tr><th scope=row>1</th><td>5 Speed Manual</td></tr>\n",
       "\t<tr><th scope=row>2</th><td>5 Speed Manual</td></tr>\n",
       "\t<tr><th scope=row>3</th><td>5 Speed Manual</td></tr>\n",
       "\t<tr><th scope=row>4</th><td>5 Speed Manual</td></tr>\n",
       "\t<tr><th scope=row>5</th><td>5 Speed Manual</td></tr>\n",
       "\t<tr><th scope=row>6</th><td>5 Speed Manual</td></tr>\n",
       "</tbody>\n",
       "</table>\n"
      ],
      "text/latex": [
       "\\begin{tabular}{r|l}\n",
       "  & as.character.cleaned_df....transmission_type...\\\\\n",
       "\\hline\n",
       "\t1 & 5 Speed Manual\\\\\n",
       "\t2 & 5 Speed Manual\\\\\n",
       "\t3 & 5 Speed Manual\\\\\n",
       "\t4 & 5 Speed Manual\\\\\n",
       "\t5 & 5 Speed Manual\\\\\n",
       "\t6 & 5 Speed Manual\\\\\n",
       "\\end{tabular}\n"
      ],
      "text/plain": [
       "  as.character.cleaned_df....transmission_type...\n",
       "1                                  5 Speed Manual\n",
       "2                                  5 Speed Manual\n",
       "3                                  5 Speed Manual\n",
       "4                                  5 Speed Manual\n",
       "5                                  5 Speed Manual\n",
       "6                                  5 Speed Manual"
      ]
     },
     "execution_count": 114,
     "metadata": {},
     "output_type": "execute_result"
    }
   ],
   "source": [
    "#transmission <- data.frame(as.character(cleaned_df[,\"transmission_type\"]))\n",
    "head(transmission)"
   ]
  },
  {
   "cell_type": "code",
   "execution_count": 115,
   "metadata": {
    "collapsed": false
   },
   "outputs": [
    {
     "data": {
      "text/html": [
       "<table>\n",
       "<thead><tr><th></th><th scope=col>as.character.cleaned_df....transmission_type...</th></tr></thead>\n",
       "<tbody>\n",
       "\t<tr><th scope=row>1</th><td>5 Speed Manual</td></tr>\n",
       "\t<tr><th scope=row>8</th><td>6 Speed Automatic</td></tr>\n",
       "\t<tr><th scope=row>9</th><td>6 Speed Manual</td></tr>\n",
       "\t<tr><th scope=row>12</th><td>7 Speed Automatic</td></tr>\n",
       "\t<tr><th scope=row>22</th><td>Automatic</td></tr>\n",
       "\t<tr><th scope=row>26</th><td>8 Speed Automatic</td></tr>\n",
       "\t<tr><th scope=row>36</th><td>7 Speed</td></tr>\n",
       "\t<tr><th scope=row>67</th><td>NA</td></tr>\n",
       "\t<tr><th scope=row>191</th><td>5 Speed Automatic</td></tr>\n",
       "\t<tr><th scope=row>194</th><td>Manual</td></tr>\n",
       "\t<tr><th scope=row>263</th><td>4 Speed Automatic</td></tr>\n",
       "\t<tr><th scope=row>436</th><td>4 Speed Manual</td></tr>\n",
       "</tbody>\n",
       "</table>\n"
      ],
      "text/latex": [
       "\\begin{tabular}{r|l}\n",
       "  & as.character.cleaned_df....transmission_type...\\\\\n",
       "\\hline\n",
       "\t1 & 5 Speed Manual\\\\\n",
       "\t8 & 6 Speed Automatic\\\\\n",
       "\t9 & 6 Speed Manual\\\\\n",
       "\t12 & 7 Speed Automatic\\\\\n",
       "\t22 & Automatic\\\\\n",
       "\t26 & 8 Speed Automatic\\\\\n",
       "\t36 & 7 Speed\\\\\n",
       "\t67 & NA\\\\\n",
       "\t191 & 5 Speed Automatic\\\\\n",
       "\t194 & Manual\\\\\n",
       "\t263 & 4 Speed Automatic\\\\\n",
       "\t436 & 4 Speed Manual\\\\\n",
       "\\end{tabular}\n"
      ],
      "text/plain": [
       "    as.character.cleaned_df....transmission_type...\n",
       "1                                    5 Speed Manual\n",
       "8                                 6 Speed Automatic\n",
       "9                                    6 Speed Manual\n",
       "12                                7 Speed Automatic\n",
       "22                                        Automatic\n",
       "26                                8 Speed Automatic\n",
       "36                                          7 Speed\n",
       "67                                             <NA>\n",
       "191                               5 Speed Automatic\n",
       "194                                          Manual\n",
       "263                               4 Speed Automatic\n",
       "436                                  4 Speed Manual"
      ]
     },
     "execution_count": 115,
     "metadata": {},
     "output_type": "execute_result"
    }
   ],
   "source": [
    "unique(transmission)"
   ]
  },
  {
   "cell_type": "code",
   "execution_count": 116,
   "metadata": {
    "collapsed": false
   },
   "outputs": [],
   "source": [
    "transmissionType <- apply(transmission, 1, function(x) getTransmissionType(x))"
   ]
  },
  {
   "cell_type": "code",
   "execution_count": 117,
   "metadata": {
    "collapsed": false
   },
   "outputs": [
    {
     "data": {
      "text/html": [
       "<ol class=list-inline>\n",
       "\t<li>'Manual'</li>\n",
       "\t<li>'Manual'</li>\n",
       "\t<li>'Manual'</li>\n",
       "\t<li>'Manual'</li>\n",
       "\t<li>'Manual'</li>\n",
       "\t<li>'Manual'</li>\n",
       "</ol>\n"
      ],
      "text/latex": [
       "\\begin{enumerate*}\n",
       "\\item 'Manual'\n",
       "\\item 'Manual'\n",
       "\\item 'Manual'\n",
       "\\item 'Manual'\n",
       "\\item 'Manual'\n",
       "\\item 'Manual'\n",
       "\\end{enumerate*}\n"
      ],
      "text/markdown": [
       "1. 'Manual'\n",
       "2. 'Manual'\n",
       "3. 'Manual'\n",
       "4. 'Manual'\n",
       "5. 'Manual'\n",
       "6. 'Manual'\n",
       "\n",
       "\n"
      ],
      "text/plain": [
       "[1] \"Manual\" \"Manual\" \"Manual\" \"Manual\" \"Manual\" \"Manual\""
      ]
     },
     "execution_count": 117,
     "metadata": {},
     "output_type": "execute_result"
    }
   ],
   "source": [
    "head(transmissionType)"
   ]
  },
  {
   "cell_type": "code",
   "execution_count": 118,
   "metadata": {
    "collapsed": false
   },
   "outputs": [
    {
     "data": {
      "text/plain": [
       "transmissionType\n",
       "Automatic    Manual \n",
       "      245       587 "
      ]
     },
     "execution_count": 118,
     "metadata": {},
     "output_type": "execute_result"
    }
   ],
   "source": [
    "table(transmissionType)"
   ]
  },
  {
   "cell_type": "code",
   "execution_count": 119,
   "metadata": {
    "collapsed": false,
    "scrolled": true
   },
   "outputs": [
    {
     "data": {
      "text/html": [
       "<table>\n",
       "<thead><tr><th></th><th scope=col>name</th><th scope=col>model</th><th scope=col>price</th><th scope=col>type</th><th scope=col>engine</th><th scope=col>fuel</th><th scope=col>weight</th><th scope=col>clearance</th><th scope=col>max_power_bhp_rpm</th><th scope=col>mileage_city</th><th scope=col>mileage_highway</th><th scope=col>cylinders</th><th scope=col>seats</th><th scope=col>transmission_type</th><th scope=col>brand</th><th scope=col>gears</th><th scope=col>transmission</th></tr></thead>\n",
       "<tbody>\n",
       "\t<tr><th scope=row>1</th><td>Ashok Leyland Stile</td><td>Ashok Leyland Stile LE 8-STR (Diesel)</td><td>749990</td><td>MPV</td><td>1461</td><td> Diesel</td><td> 2000</td><td>180</td><td> 75 @ 3300</td><td> 16.2</td><td> 20.7</td><td> 4</td><td> 8</td><td> 5 Speed Manual</td><td>Ashok</td><td>5</td><td>Manual</td></tr>\n",
       "\t<tr><th scope=row>2</th><td>Ashok Leyland Stile</td><td>Ashok Leyland Stile LS 8-STR (Diesel)</td><td>799990</td><td>MPV</td><td>1461</td><td> Diesel</td><td> 2000</td><td>180</td><td> 75 @ 3300</td><td> 16.2</td><td> 20.7</td><td> 4</td><td> 8</td><td> 5 Speed Manual</td><td>Ashok</td><td>5</td><td>Manual</td></tr>\n",
       "\t<tr><th scope=row>3</th><td>Ashok Leyland Stile</td><td>Ashok Leyland Stile LX 8-STR (Diesel)</td><td>829990</td><td>MPV</td><td>1461</td><td> Diesel</td><td> 2000</td><td>180</td><td> 75 @ 3300</td><td> 16.2</td><td> 20.7</td><td> 4</td><td> 8</td><td> 5 Speed Manual</td><td>Ashok</td><td>5</td><td>Manual</td></tr>\n",
       "\t<tr><th scope=row>4</th><td>Ashok Leyland Stile</td><td>Ashok Leyland Stile LS 7-STR (Diesel)</td><td>849990</td><td>MPV</td><td>1461</td><td> Diesel</td><td> 2000</td><td>180</td><td> 75 @ 3300</td><td> 16.2</td><td> 20.7</td><td> 4</td><td> 7</td><td> 5 Speed Manual</td><td>Ashok</td><td>5</td><td>Manual</td></tr>\n",
       "\t<tr><th scope=row>5</th><td>Ashok Leyland Stile</td><td>Ashok Leyland Stile LS 7-STR Alloy (Diesel)</td><td>879990</td><td>MPV</td><td>1461</td><td> Diesel</td><td> 2000</td><td>180</td><td> 75 @ 3300</td><td> 16.2</td><td> 20.7</td><td> 4</td><td> 7</td><td> 5 Speed Manual</td><td>Ashok</td><td>5</td><td>Manual</td></tr>\n",
       "\t<tr><th scope=row>6</th><td>Ashok Leyland Stile</td><td>Ashok Leyland Stile LX 7-STR (Diesel)</td><td>899990</td><td>MPV</td><td>1461</td><td> Diesel</td><td> 2000</td><td>180</td><td> 75 @ 3300</td><td> 16.2</td><td> 20.7</td><td> 4</td><td> 7</td><td> 5 Speed Manual</td><td>Ashok</td><td>5</td><td>Manual</td></tr>\n",
       "</tbody>\n",
       "</table>\n"
      ],
      "text/latex": [
       "\\begin{tabular}{r|lllllllllllllllll}\n",
       "  & name & model & price & type & engine & fuel & weight & clearance & max_power_bhp_rpm & mileage_city & mileage_highway & cylinders & seats & transmission_type & brand & gears & transmission\\\\\n",
       "\\hline\n",
       "\t1 & Ashok Leyland Stile & Ashok Leyland Stile LE 8-STR (Diesel) & 749990 & MPV & 1461 &  Diesel &  2000 & 180 &  75 @ 3300 &  16.2 &  20.7 &  4 &  8 &  5 Speed Manual & Ashok & 5 & Manual\\\\\n",
       "\t2 & Ashok Leyland Stile & Ashok Leyland Stile LS 8-STR (Diesel) & 799990 & MPV & 1461 &  Diesel &  2000 & 180 &  75 @ 3300 &  16.2 &  20.7 &  4 &  8 &  5 Speed Manual & Ashok & 5 & Manual\\\\\n",
       "\t3 & Ashok Leyland Stile & Ashok Leyland Stile LX 8-STR (Diesel) & 829990 & MPV & 1461 &  Diesel &  2000 & 180 &  75 @ 3300 &  16.2 &  20.7 &  4 &  8 &  5 Speed Manual & Ashok & 5 & Manual\\\\\n",
       "\t4 & Ashok Leyland Stile & Ashok Leyland Stile LS 7-STR (Diesel) & 849990 & MPV & 1461 &  Diesel &  2000 & 180 &  75 @ 3300 &  16.2 &  20.7 &  4 &  7 &  5 Speed Manual & Ashok & 5 & Manual\\\\\n",
       "\t5 & Ashok Leyland Stile & Ashok Leyland Stile LS 7-STR Alloy (Diesel) & 879990 & MPV & 1461 &  Diesel &  2000 & 180 &  75 @ 3300 &  16.2 &  20.7 &  4 &  7 &  5 Speed Manual & Ashok & 5 & Manual\\\\\n",
       "\t6 & Ashok Leyland Stile & Ashok Leyland Stile LX 7-STR (Diesel) & 899990 & MPV & 1461 &  Diesel &  2000 & 180 &  75 @ 3300 &  16.2 &  20.7 &  4 &  7 &  5 Speed Manual & Ashok & 5 & Manual\\\\\n",
       "\\end{tabular}\n"
      ],
      "text/plain": [
       "                 name                                       model  price type\n",
       "1 Ashok Leyland Stile       Ashok Leyland Stile LE 8-STR (Diesel) 749990  MPV\n",
       "2 Ashok Leyland Stile       Ashok Leyland Stile LS 8-STR (Diesel) 799990  MPV\n",
       "3 Ashok Leyland Stile       Ashok Leyland Stile LX 8-STR (Diesel) 829990  MPV\n",
       "4 Ashok Leyland Stile       Ashok Leyland Stile LS 7-STR (Diesel) 849990  MPV\n",
       "5 Ashok Leyland Stile Ashok Leyland Stile LS 7-STR Alloy (Diesel) 879990  MPV\n",
       "6 Ashok Leyland Stile       Ashok Leyland Stile LX 7-STR (Diesel) 899990  MPV\n",
       "  engine    fuel weight clearance max_power_bhp_rpm mileage_city\n",
       "1   1461  Diesel   2000       180         75 @ 3300         16.2\n",
       "2   1461  Diesel   2000       180         75 @ 3300         16.2\n",
       "3   1461  Diesel   2000       180         75 @ 3300         16.2\n",
       "4   1461  Diesel   2000       180         75 @ 3300         16.2\n",
       "5   1461  Diesel   2000       180         75 @ 3300         16.2\n",
       "6   1461  Diesel   2000       180         75 @ 3300         16.2\n",
       "  mileage_highway cylinders seats transmission_type brand gears transmission\n",
       "1            20.7         4     8    5 Speed Manual Ashok     5       Manual\n",
       "2            20.7         4     8    5 Speed Manual Ashok     5       Manual\n",
       "3            20.7         4     8    5 Speed Manual Ashok     5       Manual\n",
       "4            20.7         4     7    5 Speed Manual Ashok     5       Manual\n",
       "5            20.7         4     7    5 Speed Manual Ashok     5       Manual\n",
       "6            20.7         4     7    5 Speed Manual Ashok     5       Manual"
      ]
     },
     "execution_count": 119,
     "metadata": {},
     "output_type": "execute_result"
    }
   ],
   "source": [
    "cleaned_df$transmission <- transmissionType\n",
    "head(cleaned_df)"
   ]
  },
  {
   "cell_type": "code",
   "execution_count": 120,
   "metadata": {
    "collapsed": false
   },
   "outputs": [],
   "source": [
    "getMaxBHP <- function(row) {\n",
    "    return(trimws(unlist(strsplit(row, split = \"@\"))[1]))\n",
    "}"
   ]
  },
  {
   "cell_type": "code",
   "execution_count": 121,
   "metadata": {
    "collapsed": false
   },
   "outputs": [
    {
     "name": "stderr",
     "output_type": "stream",
     "text": [
      "Warning message:\n",
      ": Too few values at 1 locations: 454"
     ]
    }
   ],
   "source": [
    "cleaned_df <- cleaned_df %>% \n",
    "                separate(max_power_bhp_rpm, c(\"bhp\", \"rpm\"), sep = \"@\")"
   ]
  },
  {
   "cell_type": "code",
   "execution_count": 122,
   "metadata": {
    "collapsed": false,
    "scrolled": true
   },
   "outputs": [
    {
     "data": {
      "text/html": [
       "<table>\n",
       "<thead><tr><th></th><th scope=col>name</th><th scope=col>model</th><th scope=col>price</th><th scope=col>type</th><th scope=col>engine</th><th scope=col>fuel</th><th scope=col>weight</th><th scope=col>clearance</th><th scope=col>bhp</th><th scope=col>rpm</th><th scope=col>mileage_city</th><th scope=col>mileage_highway</th><th scope=col>cylinders</th><th scope=col>seats</th><th scope=col>transmission_type</th><th scope=col>brand</th><th scope=col>gears</th><th scope=col>transmission</th></tr></thead>\n",
       "<tbody>\n",
       "\t<tr><th scope=row>1</th><td>Ashok Leyland Stile</td><td>Ashok Leyland Stile LE 8-STR (Diesel)</td><td>749990</td><td>MPV</td><td>1461</td><td> Diesel</td><td> 2000</td><td>180</td><td> 75 </td><td> 3300</td><td> 16.2</td><td> 20.7</td><td> 4</td><td> 8</td><td> 5 Speed Manual</td><td>Ashok</td><td>5</td><td>Manual</td></tr>\n",
       "\t<tr><th scope=row>2</th><td>Ashok Leyland Stile</td><td>Ashok Leyland Stile LS 8-STR (Diesel)</td><td>799990</td><td>MPV</td><td>1461</td><td> Diesel</td><td> 2000</td><td>180</td><td> 75 </td><td> 3300</td><td> 16.2</td><td> 20.7</td><td> 4</td><td> 8</td><td> 5 Speed Manual</td><td>Ashok</td><td>5</td><td>Manual</td></tr>\n",
       "\t<tr><th scope=row>3</th><td>Ashok Leyland Stile</td><td>Ashok Leyland Stile LX 8-STR (Diesel)</td><td>829990</td><td>MPV</td><td>1461</td><td> Diesel</td><td> 2000</td><td>180</td><td> 75 </td><td> 3300</td><td> 16.2</td><td> 20.7</td><td> 4</td><td> 8</td><td> 5 Speed Manual</td><td>Ashok</td><td>5</td><td>Manual</td></tr>\n",
       "</tbody>\n",
       "</table>\n"
      ],
      "text/latex": [
       "\\begin{tabular}{r|llllllllllllllllll}\n",
       "  & name & model & price & type & engine & fuel & weight & clearance & bhp & rpm & mileage_city & mileage_highway & cylinders & seats & transmission_type & brand & gears & transmission\\\\\n",
       "\\hline\n",
       "\t1 & Ashok Leyland Stile & Ashok Leyland Stile LE 8-STR (Diesel) & 749990 & MPV & 1461 &  Diesel &  2000 & 180 &  75  &  3300 &  16.2 &  20.7 &  4 &  8 &  5 Speed Manual & Ashok & 5 & Manual\\\\\n",
       "\t2 & Ashok Leyland Stile & Ashok Leyland Stile LS 8-STR (Diesel) & 799990 & MPV & 1461 &  Diesel &  2000 & 180 &  75  &  3300 &  16.2 &  20.7 &  4 &  8 &  5 Speed Manual & Ashok & 5 & Manual\\\\\n",
       "\t3 & Ashok Leyland Stile & Ashok Leyland Stile LX 8-STR (Diesel) & 829990 & MPV & 1461 &  Diesel &  2000 & 180 &  75  &  3300 &  16.2 &  20.7 &  4 &  8 &  5 Speed Manual & Ashok & 5 & Manual\\\\\n",
       "\\end{tabular}\n"
      ],
      "text/plain": [
       "                 name                                 model  price type engine\n",
       "1 Ashok Leyland Stile Ashok Leyland Stile LE 8-STR (Diesel) 749990  MPV   1461\n",
       "2 Ashok Leyland Stile Ashok Leyland Stile LS 8-STR (Diesel) 799990  MPV   1461\n",
       "3 Ashok Leyland Stile Ashok Leyland Stile LX 8-STR (Diesel) 829990  MPV   1461\n",
       "     fuel weight clearance  bhp   rpm mileage_city mileage_highway cylinders\n",
       "1  Diesel   2000       180  75   3300         16.2            20.7         4\n",
       "2  Diesel   2000       180  75   3300         16.2            20.7         4\n",
       "3  Diesel   2000       180  75   3300         16.2            20.7         4\n",
       "  seats transmission_type brand gears transmission\n",
       "1     8    5 Speed Manual Ashok     5       Manual\n",
       "2     8    5 Speed Manual Ashok     5       Manual\n",
       "3     8    5 Speed Manual Ashok     5       Manual"
      ]
     },
     "execution_count": 122,
     "metadata": {},
     "output_type": "execute_result"
    }
   ],
   "source": [
    "head(cleaned_df, 3)"
   ]
  },
  {
   "cell_type": "code",
   "execution_count": 123,
   "metadata": {
    "collapsed": false
   },
   "outputs": [
    {
     "data": {
      "text/plain": [
       "\n",
       "    CNG  Diesel     LPG  Petrol \n",
       "     13     441       3     367 "
      ]
     },
     "execution_count": 123,
     "metadata": {},
     "output_type": "execute_result"
    }
   ],
   "source": [
    "table(cleaned_df$fuel)"
   ]
  },
  {
   "cell_type": "code",
   "execution_count": 124,
   "metadata": {
    "collapsed": false
   },
   "outputs": [
    {
     "data": {
      "text/plain": [
       "\n",
       "  100   109   110   114   117   118   120   123   124   125   128   131   134 \n",
       "   10     3     1     1     1     1     9     1     2     2     6     5     2 \n",
       "  135   136   140   142   145   146   147   150   151   152   154   155   157 \n",
       "   12     4     4     8    11     2     1    11     2     1    13    12     1 \n",
       "  158   159   160   161   163   165   167   168   170   172   174   175   176 \n",
       "    4    11    29    19    10   147     3    42    93     9    19    27     1 \n",
       "  177   179   180   181   183   184   185   186   187   189   190   195   200 \n",
       "    1     3    47     3     3     9    24     9     2    10    14     2    29 \n",
       "  201 204.8   205   206   209   210   212   215   220   223   227   238 239.8 \n",
       "    2     1    34     3     1    13     4     6     5     2     5     2     1 \n",
       "  240 295.5  2501 \n",
       "    1     6     2 "
      ]
     },
     "execution_count": 124,
     "metadata": {},
     "output_type": "execute_result"
    }
   ],
   "source": [
    "table(cleaned_df$clearance)"
   ]
  },
  {
   "cell_type": "code",
   "execution_count": 125,
   "metadata": {
    "collapsed": false
   },
   "outputs": [
    {
     "data": {
      "text/plain": [
       "\n",
       "   Cabriolet  Convertible        Coupe    Hatchabck    hatchback    Hatchback \n",
       "           1            4           33            1            1          213 \n",
       "    Hatchback‎       Luxury Luxury Sedan          MPV          MUV       Saloon \n",
       "           7            2            1           47           32            1 \n",
       "Saloon Sedan       Seadan        Seadn        Sedan       Sedans        Sedna \n",
       "           1            1            1          286            1            1 \n",
       " Sport Coupe     Supercar          SUV          Van          VAN \n",
       "           1            4          188            1            4 "
      ]
     },
     "execution_count": 125,
     "metadata": {},
     "output_type": "execute_result"
    }
   ],
   "source": [
    "table(cleaned_df$type)"
   ]
  },
  {
   "cell_type": "code",
   "execution_count": 126,
   "metadata": {
    "collapsed": false
   },
   "outputs": [
    {
     "data": {
      "text/plain": [
       "\n",
       "   Cabriolet  Convertible        Coupe    Hatchabck    hatchback    Hatchback \n",
       "           1            4           33            1            1          213 \n",
       "    Hatchback‎       Luxury Luxury Sedan          MPV          MUV       Saloon \n",
       "           7            2            1           47           32            1 \n",
       "Saloon Sedan       Seadan        Seadn        Sedan       Sedans        Sedna \n",
       "           1            0            0          290            0            0 \n",
       " Sport Coupe     Supercar          SUV          Van          VAN \n",
       "           1            4          188            1            4 "
      ]
     },
     "execution_count": 126,
     "metadata": {},
     "output_type": "execute_result"
    }
   ],
   "source": [
    "cleaned_df$type[cleaned_df$type == \"Seadan\" ] = \"Sedan\"\n",
    "cleaned_df$type[cleaned_df$type == \"Sedna\" | cleaned_df$type == \"Sedans\" | cleaned_df$type == \"Seadn\"] = \"Sedan\"\n",
    "table(cleaned_df$type)"
   ]
  },
  {
   "cell_type": "code",
   "execution_count": 127,
   "metadata": {
    "collapsed": false
   },
   "outputs": [
    {
     "data": {
      "text/plain": [
       "\n",
       "   Cabriolet  Convertible        Coupe    Hatchabck    hatchback    Hatchback \n",
       "           1            4           33            0            0          215 \n",
       "    Hatchback‎       Luxury Luxury Sedan          MPV          MUV       Saloon \n",
       "           7            2            1           47           32            1 \n",
       "Saloon Sedan       Seadan        Seadn        Sedan       Sedans        Sedna \n",
       "           1            0            0          290            0            0 \n",
       " Sport Coupe     Supercar          SUV          Van          VAN \n",
       "           1            4          188            1            4 "
      ]
     },
     "execution_count": 127,
     "metadata": {},
     "output_type": "execute_result"
    }
   ],
   "source": [
    "cleaned_df$type[cleaned_df$type == \"Hatchback\" | cleaned_df$type == \"Hatchabck\" | \n",
    "                cleaned_df$type == \"hatchback\" | cleaned_df$type == \"Hatchback\"] = \"Hatchback\"\n",
    "table(cleaned_df$type)"
   ]
  },
  {
   "cell_type": "code",
   "execution_count": 128,
   "metadata": {
    "collapsed": false
   },
   "outputs": [
    {
     "data": {
      "text/html": [
       "<ol class=list-inline>\n",
       "\t<li>'MPV'</li>\n",
       "\t<li>'Sedan'</li>\n",
       "\t<li>'Coupe'</li>\n",
       "\t<li>'Cabriolet'</li>\n",
       "\t<li>'SUV'</li>\n",
       "\t<li>'Luxury'</li>\n",
       "\t<li>'Luxury Sedan'</li>\n",
       "\t<li>'Convertible'</li>\n",
       "\t<li>'Hatchback‎'</li>\n",
       "\t<li>'Hatchback'</li>\n",
       "\t<li>'MUV'</li>\n",
       "\t<li>'Sport Coupe'</li>\n",
       "\t<li>'Supercar'</li>\n",
       "\t<li>'Saloon'</li>\n",
       "\t<li>'Saloon Sedan'</li>\n",
       "\t<li>'NA'</li>\n",
       "\t<li>'VAN'</li>\n",
       "\t<li>'Van'</li>\n",
       "</ol>\n"
      ],
      "text/latex": [
       "\\begin{enumerate*}\n",
       "\\item 'MPV'\n",
       "\\item 'Sedan'\n",
       "\\item 'Coupe'\n",
       "\\item 'Cabriolet'\n",
       "\\item 'SUV'\n",
       "\\item 'Luxury'\n",
       "\\item 'Luxury Sedan'\n",
       "\\item 'Convertible'\n",
       "\\item 'Hatchback‎'\n",
       "\\item 'Hatchback'\n",
       "\\item 'MUV'\n",
       "\\item 'Sport Coupe'\n",
       "\\item 'Supercar'\n",
       "\\item 'Saloon'\n",
       "\\item 'Saloon Sedan'\n",
       "\\item 'NA'\n",
       "\\item 'VAN'\n",
       "\\item 'Van'\n",
       "\\end{enumerate*}\n"
      ],
      "text/markdown": [
       "1. 'MPV'\n",
       "2. 'Sedan'\n",
       "3. 'Coupe'\n",
       "4. 'Cabriolet'\n",
       "5. 'SUV'\n",
       "6. 'Luxury'\n",
       "7. 'Luxury Sedan'\n",
       "8. 'Convertible'\n",
       "9. 'Hatchback‎'\n",
       "10. 'Hatchback'\n",
       "11. 'MUV'\n",
       "12. 'Sport Coupe'\n",
       "13. 'Supercar'\n",
       "14. 'Saloon'\n",
       "15. 'Saloon Sedan'\n",
       "16. 'NA'\n",
       "17. 'VAN'\n",
       "18. 'Van'\n",
       "\n",
       "\n"
      ],
      "text/plain": [
       " [1] \"MPV\"          \"Sedan\"        \"Coupe\"        \"Cabriolet\"    \"SUV\"         \n",
       " [6] \"Luxury\"       \"Luxury Sedan\" \"Convertible\"  \"Hatchback‎\"     \"Hatchback\"   \n",
       "[11] \"MUV\"          \"Sport Coupe\"  \"Supercar\"     \"Saloon\"       \"Saloon Sedan\"\n",
       "[16] NA             \"VAN\"          \"Van\"         "
      ]
     },
     "execution_count": 128,
     "metadata": {},
     "output_type": "execute_result"
    }
   ],
   "source": [
    "unique(trimws(cleaned_df$type))"
   ]
  },
  {
   "cell_type": "code",
   "execution_count": 129,
   "metadata": {
    "collapsed": false
   },
   "outputs": [],
   "source": [
    "cleaned_df$type[cleaned_df$type == \"VAN\" ] = \"Van\""
   ]
  },
  {
   "cell_type": "code",
   "execution_count": 130,
   "metadata": {
    "collapsed": false
   },
   "outputs": [
    {
     "data": {
      "text/html": [
       "<ol class=list-inline>\n",
       "\t<li>MPV</li>\n",
       "\t<li>Sedan</li>\n",
       "\t<li>Coupe</li>\n",
       "\t<li>Cabriolet</li>\n",
       "\t<li>SUV</li>\n",
       "\t<li>Luxury</li>\n",
       "\t<li>Luxury Sedan</li>\n",
       "\t<li>Convertible</li>\n",
       "\t<li>Hatchback‎</li>\n",
       "\t<li>Hatchback</li>\n",
       "\t<li>MUV</li>\n",
       "\t<li>Sport Coupe</li>\n",
       "\t<li>Supercar</li>\n",
       "\t<li>Saloon</li>\n",
       "\t<li>Saloon Sedan</li>\n",
       "\t<li>NA</li>\n",
       "\t<li>Van</li>\n",
       "</ol>\n"
      ],
      "text/latex": [
       "\\begin{enumerate*}\n",
       "\\item MPV\n",
       "\\item Sedan\n",
       "\\item Coupe\n",
       "\\item Cabriolet\n",
       "\\item SUV\n",
       "\\item Luxury\n",
       "\\item Luxury Sedan\n",
       "\\item Convertible\n",
       "\\item Hatchback‎\n",
       "\\item Hatchback\n",
       "\\item MUV\n",
       "\\item Sport Coupe\n",
       "\\item Supercar\n",
       "\\item Saloon\n",
       "\\item Saloon Sedan\n",
       "\\item NA\n",
       "\\item Van\n",
       "\\end{enumerate*}\n"
      ],
      "text/markdown": [
       "1. MPV\n",
       "2. Sedan\n",
       "3. Coupe\n",
       "4. Cabriolet\n",
       "5. SUV\n",
       "6. Luxury\n",
       "7. Luxury Sedan\n",
       "8. Convertible\n",
       "9. Hatchback‎\n",
       "10. Hatchback\n",
       "11. MUV\n",
       "12. Sport Coupe\n",
       "13. Supercar\n",
       "14. Saloon\n",
       "15. Saloon Sedan\n",
       "16. NA\n",
       "17. Van\n",
       "\n",
       "\n"
      ],
      "text/plain": [
       " [1] MPV          Sedan        Coupe        Cabriolet    SUV         \n",
       " [6] Luxury       Luxury Sedan Convertible  Hatchback‎     Hatchback   \n",
       "[11] MUV          Sport Coupe  Supercar     Saloon       Saloon Sedan\n",
       "[16] <NA>         Van         \n",
       "23 Levels: Cabriolet Convertible Coupe Hatchabck hatchback ... VAN"
      ]
     },
     "execution_count": 130,
     "metadata": {},
     "output_type": "execute_result"
    }
   ],
   "source": [
    "unique(cleaned_df$type)"
   ]
  },
  {
   "cell_type": "code",
   "execution_count": 131,
   "metadata": {
    "collapsed": false
   },
   "outputs": [
    {
     "data": {
      "text/html": [
       "Porsche Boxster GTS"
      ],
      "text/latex": [
       "Porsche Boxster GTS"
      ],
      "text/markdown": [
       "Porsche Boxster GTS"
      ],
      "text/plain": [
       "[1] Porsche Boxster GTS\n",
       "832 Levels: Ashok Leyland Stile LE 8-STR (Diesel) ..."
      ]
     },
     "execution_count": 131,
     "metadata": {},
     "output_type": "execute_result"
    }
   ],
   "source": [
    "cleaned_df$model[is.na(cleaned_df$type)]"
   ]
  },
  {
   "cell_type": "code",
   "execution_count": 132,
   "metadata": {
    "collapsed": false
   },
   "outputs": [
    {
     "data": {
      "text/html": [
       "<ol class=list-inline>\n",
       "\t<li>MPV</li>\n",
       "\t<li>Sedan</li>\n",
       "\t<li>Coupe</li>\n",
       "\t<li>Cabriolet</li>\n",
       "\t<li>SUV</li>\n",
       "\t<li>Luxury</li>\n",
       "\t<li>Luxury Sedan</li>\n",
       "\t<li>Convertible</li>\n",
       "\t<li>Hatchback‎</li>\n",
       "\t<li>Hatchback</li>\n",
       "\t<li>MUV</li>\n",
       "\t<li>Sport Coupe</li>\n",
       "\t<li>Supercar</li>\n",
       "\t<li>Saloon</li>\n",
       "\t<li>Saloon Sedan</li>\n",
       "\t<li>NA</li>\n",
       "\t<li>Van</li>\n",
       "</ol>\n"
      ],
      "text/latex": [
       "\\begin{enumerate*}\n",
       "\\item MPV\n",
       "\\item Sedan\n",
       "\\item Coupe\n",
       "\\item Cabriolet\n",
       "\\item SUV\n",
       "\\item Luxury\n",
       "\\item Luxury Sedan\n",
       "\\item Convertible\n",
       "\\item Hatchback‎\n",
       "\\item Hatchback\n",
       "\\item MUV\n",
       "\\item Sport Coupe\n",
       "\\item Supercar\n",
       "\\item Saloon\n",
       "\\item Saloon Sedan\n",
       "\\item NA\n",
       "\\item Van\n",
       "\\end{enumerate*}\n"
      ],
      "text/markdown": [
       "1. MPV\n",
       "2. Sedan\n",
       "3. Coupe\n",
       "4. Cabriolet\n",
       "5. SUV\n",
       "6. Luxury\n",
       "7. Luxury Sedan\n",
       "8. Convertible\n",
       "9. Hatchback‎\n",
       "10. Hatchback\n",
       "11. MUV\n",
       "12. Sport Coupe\n",
       "13. Supercar\n",
       "14. Saloon\n",
       "15. Saloon Sedan\n",
       "16. NA\n",
       "17. Van\n",
       "\n",
       "\n"
      ],
      "text/plain": [
       " [1] MPV          Sedan        Coupe        Cabriolet    SUV         \n",
       " [6] Luxury       Luxury Sedan Convertible  Hatchback‎     Hatchback   \n",
       "[11] MUV          Sport Coupe  Supercar     Saloon       Saloon Sedan\n",
       "[16] <NA>         Van         \n",
       "23 Levels: Cabriolet Convertible Coupe Hatchabck hatchback ... VAN"
      ]
     },
     "execution_count": 132,
     "metadata": {},
     "output_type": "execute_result"
    }
   ],
   "source": [
    "unique(cleaned_df$type)"
   ]
  },
  {
   "cell_type": "code",
   "execution_count": 133,
   "metadata": {
    "collapsed": false
   },
   "outputs": [
    {
     "data": {
      "text/plain": [
       "\n",
       "   3  624  793  796  814  936  995  998  999 1086 1120 1149 1172 1193 1196 1197 \n",
       "   3    8    4   13    5    4    3   24    2    3    9    1    2   13    6   39 \n",
       "1198 1199 1248 1298 1364 1368 1373 1390 1395 1396 1399 1405 1448 1461 1493 1496 \n",
       "  38   17   59    2   15   10   10    2    2   17   11    7    1   70    4    8 \n",
       "1497 1498 1499 1582 1586 1591 1595 1596 1598 1797 1798 1948 1968 1969 1984 1991 \n",
       "   6   43    5    8    4    4    2    4   25    3   12    2   26    4    8    7 \n",
       "1995 1997 1998 1999 2143 2149 2179 2199 2200 2231 2354 2359 2393 2400 2477 2489 \n",
       "  17    3    4    2    9    2   52    3    1    2    1    2    4    2    2    4 \n",
       "2496 2498 2499 2523 2650 2696 2953 2956 2967 2979 2982 2987 2993 2995 2996 2997 \n",
       "   2    1   10    6    1    3    2    8    7    5    6    3   13    5    1    1 \n",
       "2999 3436 3496 3498 3597 3604 3800 3993 4134 4163 4297 4367 4395 4499 4663 4735 \n",
       "   1    5    1    2    1    1    1    3    3    4    1    3    4    1    1    3 \n",
       "4806 4999 5000 5204 5461 5935 5972 5998 5999 6208 6262 6299 6592 \n",
       "   1    2   10    4    4    4    1    4    1    1    1    1    2 "
      ]
     },
     "execution_count": 133,
     "metadata": {},
     "output_type": "execute_result"
    }
   ],
   "source": [
    "table(cleaned_df$engine)"
   ]
  },
  {
   "cell_type": "code",
   "execution_count": 134,
   "metadata": {
    "collapsed": false
   },
   "outputs": [
    {
     "data": {
      "text/plain": [
       "\n",
       "  10   12    2    3    4    5    6    8  Yes \n",
       "   4    8   13   86  609   10   44   41    1 "
      ]
     },
     "execution_count": 134,
     "metadata": {},
     "output_type": "execute_result"
    }
   ],
   "source": [
    "table(cleaned_df$cylinders)"
   ]
  },
  {
   "cell_type": "code",
   "execution_count": 135,
   "metadata": {
    "collapsed": false
   },
   "outputs": [
    {
     "name": "stdout",
     "output_type": "stream",
     "text": [
      "'data.frame':\t833 obs. of  18 variables:\n",
      " $ name             : Factor w/ 203 levels \"Ashok Leyland Stile\",..: 1 1 1 1 1 1 1 2 3 4 ...\n",
      " $ model            : Factor w/ 832 levels \"Ashok Leyland Stile LE 8-STR (Diesel)\",..: 1 4 7 3 2 6 5 8 9 10 ...\n",
      " $ price            : num  749990 799990 829990 849990 879990 ...\n",
      " $ type             : Factor w/ 23 levels \"Cabriolet\",\"Convertible\",..: 10 10 10 10 10 10 10 16 16 3 ...\n",
      " $ engine           : int  1461 1461 1461 1461 1461 1461 1461 5935 5935 5935 ...\n",
      " $ fuel             : Factor w/ 4 levels \" CNG\",\" Diesel\",..: 2 2 2 2 2 2 2 4 4 4 ...\n",
      " $ weight           : Factor w/ 134 levels \" 1185\",\" 1210\",..: 68 68 68 68 68 68 68 NA 67 NA ...\n",
      " $ clearance        : num  180 180 180 180 180 180 180 120 110 120 ...\n",
      " $ bhp              : chr  \" 75 \" \" 75 \" \" 75 \" \" 75 \" ...\n",
      " $ rpm              : chr  \" 3300\" \" 3300\" \" 3300\" \" 3300\" ...\n",
      " $ mileage_city     : Factor w/ 161 levels \" 10\",\" 10.0\",..: 67 67 67 67 67 67 67 NA 122 134 ...\n",
      " $ mileage_highway  : Factor w/ 285 levels \" 10.0\",\" 10.1\",..: 198 198 198 198 198 198 198 262 26 278 ...\n",
      " $ cylinders        : Factor w/ 9 levels \" 10\",\" 12\",\" 2\",..: 5 5 5 5 5 5 NA 5 2 2 ...\n",
      " $ seats            : Factor w/ 13 levels \" 10\",\" 2\",\" 4\",..: 9 9 9 6 6 6 6 3 3 2 ...\n",
      " $ transmission_type: Factor w/ 11 levels \" 4 Speed Automatic\",..: 4 4 4 4 4 4 4 5 6 6 ...\n",
      " $ brand            : Factor w/ 38 levels \"Ashok\",\"Aston\",..: 1 1 1 1 1 1 1 2 2 2 ...\n",
      " $ gears            : num  5 5 5 5 5 5 5 6 6 6 ...\n",
      " $ transmission     : chr  \"Manual\" \"Manual\" \"Manual\" \"Manual\" ...\n"
     ]
    }
   ],
   "source": [
    "str(cleaned_df)"
   ]
  },
  {
   "cell_type": "code",
   "execution_count": 136,
   "metadata": {
    "collapsed": false
   },
   "outputs": [],
   "source": [
    "cleaned_df$cylinders <- as.character(cleaned_df$cylinders)"
   ]
  },
  {
   "cell_type": "code",
   "execution_count": 137,
   "metadata": {
    "collapsed": false
   },
   "outputs": [
    {
     "data": {
      "text/html": [
       "<ol class=list-inline>\n",
       "\t<li>' 4'</li>\n",
       "\t<li>'NA'</li>\n",
       "\t<li>' 12'</li>\n",
       "\t<li>' 8'</li>\n",
       "\t<li>' 6'</li>\n",
       "\t<li>' 10'</li>\n",
       "\t<li>' 3'</li>\n",
       "\t<li>' 2'</li>\n",
       "\t<li>' 5'</li>\n",
       "\t<li>' Yes'</li>\n",
       "</ol>\n"
      ],
      "text/latex": [
       "\\begin{enumerate*}\n",
       "\\item ' 4'\n",
       "\\item 'NA'\n",
       "\\item ' 12'\n",
       "\\item ' 8'\n",
       "\\item ' 6'\n",
       "\\item ' 10'\n",
       "\\item ' 3'\n",
       "\\item ' 2'\n",
       "\\item ' 5'\n",
       "\\item ' Yes'\n",
       "\\end{enumerate*}\n"
      ],
      "text/markdown": [
       "1. ' 4'\n",
       "2. 'NA'\n",
       "3. ' 12'\n",
       "4. ' 8'\n",
       "5. ' 6'\n",
       "6. ' 10'\n",
       "7. ' 3'\n",
       "8. ' 2'\n",
       "9. ' 5'\n",
       "10. ' Yes'\n",
       "\n",
       "\n"
      ],
      "text/plain": [
       " [1] \" 4\"   NA     \" 12\"  \" 8\"   \" 6\"   \" 10\"  \" 3\"   \" 2\"   \" 5\"   \" Yes\""
      ]
     },
     "execution_count": 137,
     "metadata": {},
     "output_type": "execute_result"
    }
   ],
   "source": [
    "unique(cleaned_df$cylinders)"
   ]
  },
  {
   "cell_type": "code",
   "execution_count": 138,
   "metadata": {
    "collapsed": false
   },
   "outputs": [
    {
     "data": {
      "text/html": [
       "<table>\n",
       "<thead><tr><th></th><th scope=col>name</th><th scope=col>model</th><th scope=col>price</th><th scope=col>type</th><th scope=col>engine</th><th scope=col>fuel</th><th scope=col>weight</th><th scope=col>clearance</th><th scope=col>bhp</th><th scope=col>rpm</th><th scope=col>mileage_city</th><th scope=col>mileage_highway</th><th scope=col>cylinders</th><th scope=col>seats</th><th scope=col>transmission_type</th><th scope=col>brand</th><th scope=col>gears</th><th scope=col>transmission</th></tr></thead>\n",
       "<tbody>\n",
       "\t<tr><th scope=row>1</th><td>Tata Zest</td><td>Tata Zest XM (Petrol)</td><td>544315</td><td>Hatchback</td><td>1193</td><td> Petrol</td><td>NA</td><td>175</td><td> 88.8 </td><td> 5000</td><td> 13.2</td><td> 17.6</td><td> Yes</td><td> 5</td><td> 5 Speed Manual</td><td>Tata</td><td>5</td><td>Manual</td></tr>\n",
       "</tbody>\n",
       "</table>\n"
      ],
      "text/latex": [
       "\\begin{tabular}{r|llllllllllllllllll}\n",
       "  & name & model & price & type & engine & fuel & weight & clearance & bhp & rpm & mileage_city & mileage_highway & cylinders & seats & transmission_type & brand & gears & transmission\\\\\n",
       "\\hline\n",
       "\t1 & Tata Zest & Tata Zest XM (Petrol) & 544315 & Hatchback & 1193 &  Petrol & NA & 175 &  88.8  &  5000 &  13.2 &  17.6 &  Yes &  5 &  5 Speed Manual & Tata & 5 & Manual\\\\\n",
       "\\end{tabular}\n"
      ],
      "text/plain": [
       "       name                 model  price      type engine    fuel weight\n",
       "1 Tata Zest Tata Zest XM (Petrol) 544315 Hatchback   1193  Petrol   <NA>\n",
       "  clearance    bhp   rpm mileage_city mileage_highway cylinders seats\n",
       "1       175  88.8   5000         13.2            17.6       Yes     5\n",
       "  transmission_type brand gears transmission\n",
       "1    5 Speed Manual  Tata     5       Manual"
      ]
     },
     "execution_count": 138,
     "metadata": {},
     "output_type": "execute_result"
    }
   ],
   "source": [
    "filter(cleaned_df, cylinders == \" Yes\")"
   ]
  },
  {
   "cell_type": "code",
   "execution_count": 139,
   "metadata": {
    "collapsed": false
   },
   "outputs": [],
   "source": [
    "cleaned_df$cylinders[cleaned_df$cylinders == \" Yes\"] = \" 4\""
   ]
  },
  {
   "cell_type": "code",
   "execution_count": 140,
   "metadata": {
    "collapsed": false
   },
   "outputs": [
    {
     "data": {
      "text/plain": [
       "\n",
       " 10  12   2   3   4   5   6   8 \n",
       "  4   8  13  86 610  10  44  41 "
      ]
     },
     "execution_count": 140,
     "metadata": {},
     "output_type": "execute_result"
    }
   ],
   "source": [
    "table(cleaned_df$cylinders)"
   ]
  },
  {
   "cell_type": "code",
   "execution_count": 141,
   "metadata": {
    "collapsed": false
   },
   "outputs": [
    {
     "data": {
      "text/plain": [
       "\n",
       "    10   10.0   10.1   10.2  10.34   10.5   10.6   10.7   10.8   10.9   11.0 \n",
       "     1      2      1      2      1      2      1      2      4      2      3 \n",
       "  11.2   11.3  11.38   11.4   11.5   11.8   11.9     12    1.2   12.0  12.02 \n",
       "     2      4      8      3      1      2      2      4      1     20      3 \n",
       " 12.08   12.2   12.3  12.36   12.4  12.82     13   13.0   13.1   13.2   13.3 \n",
       "     3      1      5      1      2      1      2      5      1      6      9 \n",
       " 13.35   13.4  13.45   13.5   13.7   13.8     14   14.0  14.02   14.1  14,12 \n",
       "     1      3      3     14      1      1      1      5      2      1      1 \n",
       " 14.12  14.21  14.25   14.3  14.44  14.54   14.7     15   15.0   15.1  15.16 \n",
       "     2      1      1      2      3      2      3      5     15      5      2 \n",
       " 15.22  15.24  15.54   15.6   15.7  15.77   15.9   16.0  16.04  16.08   16.1 \n",
       "     3      2      1      5      5      2     10      3      1      5     10 \n",
       "  16.2  16.24   16.3  16.36   16.8     17   17.0  17.08   17.1   17.2  17.25 \n",
       "    15      3      9      1      6      4     14      7      5      9      8 \n",
       "  17.4   17.5   17.9   18.0  18.04  18.08   18.2   18.3   18.4   18.5   18.6 \n",
       "     1      4      1     10      1      4      4      3      9     10      6 \n",
       "  18.9   19.0  19.03   19.2   19.5   19.7   19.9    2.0  20.04   20.2  20.32 \n",
       "     9     12      2      5      1      2      2      2      3      1      9 \n",
       "  20.4   20.8   20.9     21   21.0     22   22.0   22.3   22.4   23.6   23.8 \n",
       "     6      1      4      5      4      1      1      1      4      2      4 \n",
       "  25.0  25.02   28.0  28.29    4.0    4.5   4.85      5    5.0    5.3    5.5 \n",
       "     1      1      1      3      2      1      1      3      1      1      1 \n",
       "   5.6    5.7    5.8    6.0   6.12   6.13    6.2   6.28    6.3    6.4    6.5 \n",
       "     2      1      1      3      1      1      1      1      2      1      1 \n",
       "   6.9      7    7.0    7.1   7.14   7.16    7.2   7.32   7.69    7.7    7.9 \n",
       "     1      1      1      1      1      2      3      2      1      1      1 \n",
       "     8    8.0   8.03   8.19    8.2    8.4   8.45    8.5   8.69    8.9      9 \n",
       "     1      2      2      2      1      3      1      1      1      2      4 \n",
       "   9.0   9.02   9.12    9.2   9.25    9.5    9.8 \n",
       "     3      7      1      1      1      5      2 "
      ]
     },
     "execution_count": 141,
     "metadata": {},
     "output_type": "execute_result"
    }
   ],
   "source": [
    "table(cleaned_df$mileage_city)"
   ]
  },
  {
   "cell_type": "code",
   "execution_count": 142,
   "metadata": {
    "collapsed": false
   },
   "outputs": [
    {
     "data": {
      "text/plain": [
       "\n",
       "  10.0   10.1  10.10   10.2   10.3  10.34  10.37   10.4  10.41   10.7  10.75 \n",
       "     3      1      1      1      3      1      2      1      1      1      2 \n",
       " 10.77   10.9  10.98   11.1  11.11  11.23  11.33   11.4  11.49   11.5   11.6 \n",
       "     1      1      1      2      1      1      1      3      2      2      3 \n",
       "  11.7   11.8  11.81   11.9  11.96     12   12.0  12.05  12.07  12.12   12.2 \n",
       "     2      1      1      2      2      1      7      7      1      1      1 \n",
       " 12.35  12.39   12.4  12.45   12.5  12.55  12.67   12.8     13   13.0  13.05 \n",
       "     1      2      2      1      2      5      2      1      3      2      1 \n",
       " 13.08   13.1  13.15   13.2  13.22  13.24  13.25   13.3  13.32  13.49   13.5 \n",
       "     1      3      1      1      1      2      1      3      3      1      4 \n",
       " 13.53  13.55  13.58   13.7   13.8  13.85   13.9  13.93     14   14,0   14.0 \n",
       "     1      4      9      7      2      1      4      4      4      1      7 \n",
       " 14.02  14.07  14.09   14.1  14.16   14.2  14.28   14.3   14.4  14.49   14.5 \n",
       "     5      3      3      3      1      1      1      4      4      1      1 \n",
       " 14.53  14.56  14.57   14.6  14.69   14.7  14.74  14.79   14.8  14.81   14.9 \n",
       "     5      1      1      1      2     10      1      1      1      1      2 \n",
       " 14.94     15   15.0  15.04  15.05   15.1  15.16  15.33  15.35  15.42   15.5 \n",
       "     1      2      5      1      3      8      8      4      1      3      5 \n",
       "  15.6  15.62  15.64   15.7  15.73   15.8  15.96     16   16.0  16.02  16.09 \n",
       "     3      1      1      4      2      5      3      1      2      3      3 \n",
       " 16.12  16.15   16.2  16.26   16.3  16.36   16.4  16.47   16.5  16.51  16.55 \n",
       "     1      1      5      1      4      1      1      3      2      3      2 \n",
       "  16.6  16.60  16.66  16.73  16.78   16.8  16.95  16.96     17   17.0  17.01 \n",
       "     1      1      1      1      6      3      7      1      2      2      3 \n",
       "  17.1  17.15  17.19   17.2   17.3  17.32   17.4  17.43   17.5  17.54   17.6 \n",
       "     6      1      1      3      6      1      1      1      3      2      4 \n",
       " 17.67  17.68   17.7  17.71  17.72   17.9  17.97     18   18.0   18.1  18.19 \n",
       "     1      1      2      5      1      3      3      5      3      2      2 \n",
       "  18.2   18.3  18.44   18.5  18.56   18.6  18.78  18.88   18.9     19   19.0 \n",
       "    10      2      2      6      2      9      2      3      8      1      3 \n",
       " 19.01  19.08   19.1  19.12  19.27   19.3  19.33  19.34   19.4  19.49   19.5 \n",
       "     4      1     11      2      1      7      4      1      6      3      6 \n",
       " 19.59   19.6  19.64   19.7  19.72  19.81  19.87  19.98  19.99  20.14   20.3 \n",
       "     2      2      4      1      2      2      5      5      4      3      1 \n",
       " 20.38   20.4  20.45   20.5  20.51  20.58   20.6  20.62  20.63  20.64   20.7 \n",
       "     4     11      1     11      3      1     11      1      2      3      7 \n",
       " 20.73  20.77   20.8  20.85   20.9     21  21.04   21.1  21.14  21.15  21.19 \n",
       "     5      1      4      1      1      6      4      6      4      2      2 \n",
       "  21.2   21.3  21.43   21.5  21.64  21.66  21.79   21.9  22.01  22.07  22.08 \n",
       "     7      1      3      3      5      3      1      1      1      1      1 \n",
       "  22.1   22.3  22.54   22.7  22.71  22.74  22.77   23.0  23.08   23.1   23.2 \n",
       "     8      2      5      5      5      7      2      5      9      7      3 \n",
       "  23.4   23.5  23.54  23.59   23.7   23.9   24.0  24.07   24.2   24.4   24.6 \n",
       "     3      5      1     10      2      7      4      5      6      5      2 \n",
       "  24.8     25   25.0   25.1   25.2  25.44   25.8  26.21   26.6  27.62   27.8 \n",
       "     1      1      5      1      4      4      5      4      1      4      2 \n",
       "  29.0   30.0  30.46  32.36    4.0     42    5.9    6.4      7    7.5   7.51 \n",
       "     1      1      3      1      2      2      3      1      1      1      1 \n",
       "  7.63   7.75   7.81      8    8.0   8.06   8.08    8.1    8.3    8.4    8.5 \n",
       "     1      1      1      1      4      1      1      1      1      1      2 \n",
       "   8.6    8.7      9    9.0    9.2   9.24   9.26    9.4    9.5    9.6 \n",
       "     1      2      2      4      1      1      1      1      2      1 "
      ]
     },
     "execution_count": 142,
     "metadata": {},
     "output_type": "execute_result"
    }
   ],
   "source": [
    "table(cleaned_df$mileage_highway)"
   ]
  },
  {
   "cell_type": "code",
   "execution_count": 143,
   "metadata": {
    "collapsed": false
   },
   "outputs": [
    {
     "data": {
      "text/plain": [
       "\n",
       "    10      2      4      5      6      7  7 & 8  7 & 9      8  8 & 7      9 \n",
       "     9     37     29    572      9    102     19      9     21      1      2 \n",
       "    No    Yes \n",
       "     2      5 "
      ]
     },
     "execution_count": 143,
     "metadata": {},
     "output_type": "execute_result"
    }
   ],
   "source": [
    "table(cleaned_df$seats)"
   ]
  },
  {
   "cell_type": "code",
   "execution_count": 144,
   "metadata": {
    "collapsed": false
   },
   "outputs": [],
   "source": [
    "cleaned_df$seats <- as.character(cleaned_df$seats)"
   ]
  },
  {
   "cell_type": "code",
   "execution_count": 145,
   "metadata": {
    "collapsed": false
   },
   "outputs": [
    {
     "data": {
      "text/html": [
       "<table>\n",
       "<thead><tr><th></th><th scope=col>name</th><th scope=col>model</th><th scope=col>price</th><th scope=col>type</th><th scope=col>engine</th><th scope=col>fuel</th><th scope=col>weight</th><th scope=col>clearance</th><th scope=col>bhp</th><th scope=col>rpm</th><th scope=col>mileage_city</th><th scope=col>mileage_highway</th><th scope=col>cylinders</th><th scope=col>seats</th><th scope=col>transmission_type</th><th scope=col>brand</th><th scope=col>gears</th><th scope=col>transmission</th></tr></thead>\n",
       "<tbody>\n",
       "\t<tr><th scope=row>1</th><td>BMW 6 Series</td><td>BMW 6 Series 640d Design Pure Experience(Diesel)</td><td>12190000</td><td>Coupe</td><td>2993</td><td> Diesel</td><td> 2410</td><td>124</td><td> 313 </td><td> 4400</td><td> 14.54</td><td> 17.54</td><td> 6</td><td> Yes</td><td> 8 Speed Automatic</td><td>BMW</td><td>8</td><td>Automatic</td></tr>\n",
       "\t<tr><th scope=row>2</th><td>Mercedes-Benz CLA</td><td>Mercedes-Benz CLA 200 CDI Sport (Diesel)</td><td>3590000</td><td>Sedan</td><td>2143</td><td> Diesel</td><td> 2005</td><td>NA</td><td> 135 </td><td> 3600 4400</td><td> 13.0</td><td> 17.9</td><td> 4</td><td> Yes</td><td> 7 Speed Automatic</td><td>Mercedes-Benz</td><td>7</td><td>Automatic</td></tr>\n",
       "\t<tr><th scope=row>3</th><td>Tata Nano</td><td>Tata GenX Nano XTA</td><td>289000</td><td>Hatchback</td><td>624</td><td> Petrol</td><td>NA</td><td>180</td><td> 37.5 </td><td> 5250 - 5750</td><td> 20.4</td><td> 23.9</td><td> 2</td><td> Yes</td><td> 4 Speed Automatic</td><td>Tata</td><td>4</td><td>Automatic</td></tr>\n",
       "\t<tr><th scope=row>4</th><td>Toyota Etios</td><td>Toyota Etios V SP (Petrol)</td><td>673030</td><td>Sedan</td><td>1496</td><td> Petrol</td><td>NA</td><td>170</td><td> 88.77 </td><td> 5600</td><td> 13.5</td><td> 16.78</td><td> 4</td><td> Yes</td><td> 5 Speed Manual</td><td>Toyota</td><td>5</td><td>Manual</td></tr>\n",
       "\t<tr><th scope=row>5</th><td>Volvo V40</td><td>Volvo V40 D3 R-Design (Diesel)</td><td>2770000</td><td>Hatchback</td><td>1984</td><td> Diesel</td><td> 1980</td><td>145</td><td> 150 </td><td> 3500</td><td> 23.6</td><td> 27.8</td><td> 5</td><td> Yes</td><td> 6 Speed Automatic</td><td>Volvo</td><td>6</td><td>Automatic</td></tr>\n",
       "</tbody>\n",
       "</table>\n"
      ],
      "text/latex": [
       "\\begin{tabular}{r|llllllllllllllllll}\n",
       "  & name & model & price & type & engine & fuel & weight & clearance & bhp & rpm & mileage_city & mileage_highway & cylinders & seats & transmission_type & brand & gears & transmission\\\\\n",
       "\\hline\n",
       "\t1 & BMW 6 Series & BMW 6 Series 640d Design Pure Experience(Diesel) & 12190000 & Coupe & 2993 &  Diesel &  2410 & 124 &  313  &  4400 &  14.54 &  17.54 &  6 &  Yes &  8 Speed Automatic & BMW & 8 & Automatic\\\\\n",
       "\t2 & Mercedes-Benz CLA & Mercedes-Benz CLA 200 CDI Sport (Diesel) & 3590000 & Sedan & 2143 &  Diesel &  2005 & NA &  135  &  3600 4400 &  13.0 &  17.9 &  4 &  Yes &  7 Speed Automatic & Mercedes-Benz & 7 & Automatic\\\\\n",
       "\t3 & Tata Nano & Tata GenX Nano XTA & 289000 & Hatchback & 624 &  Petrol & NA & 180 &  37.5  &  5250 - 5750 &  20.4 &  23.9 &  2 &  Yes &  4 Speed Automatic & Tata & 4 & Automatic\\\\\n",
       "\t4 & Toyota Etios & Toyota Etios V SP (Petrol) & 673030 & Sedan & 1496 &  Petrol & NA & 170 &  88.77  &  5600 &  13.5 &  16.78 &  4 &  Yes &  5 Speed Manual & Toyota & 5 & Manual\\\\\n",
       "\t5 & Volvo V40 & Volvo V40 D3 R-Design (Diesel) & 2770000 & Hatchback & 1984 &  Diesel &  1980 & 145 &  150  &  3500 &  23.6 &  27.8 &  5 &  Yes &  6 Speed Automatic & Volvo & 6 & Automatic\\\\\n",
       "\\end{tabular}\n"
      ],
      "text/plain": [
       "               name                                            model    price\n",
       "1      BMW 6 Series BMW 6 Series 640d Design Pure Experience(Diesel) 12190000\n",
       "2 Mercedes-Benz CLA         Mercedes-Benz CLA 200 CDI Sport (Diesel)  3590000\n",
       "3         Tata Nano                               Tata GenX Nano XTA   289000\n",
       "4      Toyota Etios                       Toyota Etios V SP (Petrol)   673030\n",
       "5         Volvo V40                   Volvo V40 D3 R-Design (Diesel)  2770000\n",
       "       type engine    fuel weight clearance     bhp          rpm mileage_city\n",
       "1     Coupe   2993  Diesel   2410       124    313          4400        14.54\n",
       "2     Sedan   2143  Diesel   2005        NA    135     3600 4400         13.0\n",
       "3 Hatchback    624  Petrol   <NA>       180   37.5   5250 - 5750         20.4\n",
       "4     Sedan   1496  Petrol   <NA>       170  88.77          5600         13.5\n",
       "5 Hatchback   1984  Diesel   1980       145    150          3500         23.6\n",
       "  mileage_highway cylinders seats  transmission_type         brand gears\n",
       "1           17.54         6   Yes  8 Speed Automatic           BMW     8\n",
       "2            17.9         4   Yes  7 Speed Automatic Mercedes-Benz     7\n",
       "3            23.9         2   Yes  4 Speed Automatic          Tata     4\n",
       "4           16.78         4   Yes     5 Speed Manual        Toyota     5\n",
       "5            27.8         5   Yes  6 Speed Automatic         Volvo     6\n",
       "  transmission\n",
       "1    Automatic\n",
       "2    Automatic\n",
       "3    Automatic\n",
       "4       Manual\n",
       "5    Automatic"
      ]
     },
     "execution_count": 145,
     "metadata": {},
     "output_type": "execute_result"
    }
   ],
   "source": [
    "filter(cleaned_df, seats == \" Yes\")"
   ]
  },
  {
   "cell_type": "code",
   "execution_count": 146,
   "metadata": {
    "collapsed": false
   },
   "outputs": [
    {
     "data": {
      "text/html": [
       "<table>\n",
       "<thead><tr><th></th><th scope=col>name</th><th scope=col>model</th><th scope=col>price</th><th scope=col>type</th><th scope=col>engine</th><th scope=col>fuel</th><th scope=col>weight</th><th scope=col>clearance</th><th scope=col>bhp</th><th scope=col>rpm</th><th scope=col>mileage_city</th><th scope=col>mileage_highway</th><th scope=col>cylinders</th><th scope=col>seats</th><th scope=col>transmission_type</th><th scope=col>brand</th><th scope=col>gears</th><th scope=col>transmission</th></tr></thead>\n",
       "<tbody>\n",
       "\t<tr><th scope=row>1</th><td>Maruti Suzuki Alto 800</td><td>Maruti Suzuki Alto 800 Lx (Petrol)</td><td>284435</td><td>Hatchback</td><td>796</td><td> Petrol</td><td> 1285</td><td>160</td><td> 47.3 </td><td> 6000</td><td> 17.0</td><td> 22.74</td><td> 3</td><td> No</td><td> 5 Speed Manual</td><td>Maruti</td><td>5</td><td>Manual</td></tr>\n",
       "\t<tr><th scope=row>2</th><td>Maruti Suzuki Wagon-R</td><td>Maruti Wagon R LX (Petrol)</td><td>362917</td><td>Hatchback</td><td>998</td><td> Petrol</td><td> 1350</td><td>165</td><td> 67.07 </td><td> 6200</td><td> 17.08</td><td> 20.5</td><td> 3</td><td> No</td><td> 5 Speed Manual</td><td>Maruti</td><td>5</td><td>Manual</td></tr>\n",
       "</tbody>\n",
       "</table>\n"
      ],
      "text/latex": [
       "\\begin{tabular}{r|llllllllllllllllll}\n",
       "  & name & model & price & type & engine & fuel & weight & clearance & bhp & rpm & mileage_city & mileage_highway & cylinders & seats & transmission_type & brand & gears & transmission\\\\\n",
       "\\hline\n",
       "\t1 & Maruti Suzuki Alto 800 & Maruti Suzuki Alto 800 Lx (Petrol) & 284435 & Hatchback & 796 &  Petrol &  1285 & 160 &  47.3  &  6000 &  17.0 &  22.74 &  3 &  No &  5 Speed Manual & Maruti & 5 & Manual\\\\\n",
       "\t2 & Maruti Suzuki Wagon-R & Maruti Wagon R LX (Petrol) & 362917 & Hatchback & 998 &  Petrol &  1350 & 165 &  67.07  &  6200 &  17.08 &  20.5 &  3 &  No &  5 Speed Manual & Maruti & 5 & Manual\\\\\n",
       "\\end{tabular}\n"
      ],
      "text/plain": [
       "                    name                              model  price      type\n",
       "1 Maruti Suzuki Alto 800 Maruti Suzuki Alto 800 Lx (Petrol) 284435 Hatchback\n",
       "2  Maruti Suzuki Wagon-R         Maruti Wagon R LX (Petrol) 362917 Hatchback\n",
       "  engine    fuel weight clearance     bhp   rpm mileage_city mileage_highway\n",
       "1    796  Petrol   1285       160   47.3   6000         17.0           22.74\n",
       "2    998  Petrol   1350       165  67.07   6200        17.08            20.5\n",
       "  cylinders seats transmission_type  brand gears transmission\n",
       "1         3    No    5 Speed Manual Maruti     5       Manual\n",
       "2         3    No    5 Speed Manual Maruti     5       Manual"
      ]
     },
     "execution_count": 146,
     "metadata": {},
     "output_type": "execute_result"
    }
   ],
   "source": [
    "filter(cleaned_df, seats == \" No\")"
   ]
  },
  {
   "cell_type": "code",
   "execution_count": 147,
   "metadata": {
    "collapsed": false
   },
   "outputs": [],
   "source": [
    "\n",
    "cleaned_df$seats[cleaned_df$seats == \" Yes\"] = \" 5\"\n",
    "cleaned_df$seats[cleaned_df$seats == \" No\"] = \" 5\"\n"
   ]
  },
  {
   "cell_type": "code",
   "execution_count": 148,
   "metadata": {
    "collapsed": false
   },
   "outputs": [
    {
     "data": {
      "text/plain": [
       "\n",
       "    10      2      4      5      6      7  7 & 8  7 & 9      8  8 & 7      9 \n",
       "     9     37     29    579      9    102     19      9     21      1      2 "
      ]
     },
     "execution_count": 148,
     "metadata": {},
     "output_type": "execute_result"
    }
   ],
   "source": [
    "table(cleaned_df$seats)"
   ]
  },
  {
   "cell_type": "code",
   "execution_count": 149,
   "metadata": {
    "collapsed": false
   },
   "outputs": [
    {
     "data": {
      "text/plain": [
       "\n",
       "        Ashok         Aston          Audi       Bentley           BMW \n",
       "            7             7            37             4            32 \n",
       "          Car     Chevrolet        Datsun       Ferrari          Fiat \n",
       "           13            41             5             4            23 \n",
       "        Force          Ford       Gumpert         Honda       Hyundai \n",
       "            4            30             1            36            56 \n",
       "        Isuzu        Jaguar   Lamborghini          Land      Mahindra \n",
       "            1            13             1            16            43 \n",
       "       Maruti      Mercedes Mercedes-Benz          Mini    Mitsubishi \n",
       "           97             2            30             6             2 \n",
       "          New        Nissan       Porsche       Renault         Rolls \n",
       "           25            42            10            44             1 \n",
       "  Rolls-Royce           San         Skoda     Ssangyong          Tata \n",
       "            1             1            27             4            86 \n",
       "       Toyota    Volkswagen         Volvo \n",
       "           37            32            12 "
      ]
     },
     "execution_count": 149,
     "metadata": {},
     "output_type": "execute_result"
    }
   ],
   "source": [
    "table(cleaned_df$brand)"
   ]
  },
  {
   "cell_type": "markdown",
   "metadata": {},
   "source": [
    "Refine\n",
    "\n",
    "* brand\n",
    "* seat capacity\n",
    "* num cylinders\n",
    "* type"
   ]
  },
  {
   "cell_type": "code",
   "execution_count": 150,
   "metadata": {
    "collapsed": false
   },
   "outputs": [
    {
     "data": {
      "text/html": [
       "<table>\n",
       "<thead><tr><th></th><th scope=col>name</th><th scope=col>model</th><th scope=col>price</th><th scope=col>type</th><th scope=col>engine</th><th scope=col>fuel</th><th scope=col>weight</th><th scope=col>clearance</th><th scope=col>bhp</th><th scope=col>rpm</th><th scope=col>mileage_city</th><th scope=col>mileage_highway</th><th scope=col>cylinders</th><th scope=col>seats</th><th scope=col>transmission_type</th><th scope=col>brand</th><th scope=col>gears</th><th scope=col>transmission</th></tr></thead>\n",
       "<tbody>\n",
       "\t<tr><th scope=row>1</th><td>Ashok Leyland Stile</td><td>Ashok Leyland Stile LE 8-STR (Diesel)</td><td>749990</td><td>MPV</td><td>1461</td><td> Diesel</td><td> 2000</td><td>180</td><td> 75 </td><td> 3300</td><td> 16.2</td><td> 20.7</td><td> 4</td><td> 8</td><td> 5 Speed Manual</td><td>Ashok</td><td>5</td><td>Manual</td></tr>\n",
       "\t<tr><th scope=row>2</th><td>Ashok Leyland Stile</td><td>Ashok Leyland Stile LS 8-STR (Diesel)</td><td>799990</td><td>MPV</td><td>1461</td><td> Diesel</td><td> 2000</td><td>180</td><td> 75 </td><td> 3300</td><td> 16.2</td><td> 20.7</td><td> 4</td><td> 8</td><td> 5 Speed Manual</td><td>Ashok</td><td>5</td><td>Manual</td></tr>\n",
       "\t<tr><th scope=row>3</th><td>Ashok Leyland Stile</td><td>Ashok Leyland Stile LX 8-STR (Diesel)</td><td>829990</td><td>MPV</td><td>1461</td><td> Diesel</td><td> 2000</td><td>180</td><td> 75 </td><td> 3300</td><td> 16.2</td><td> 20.7</td><td> 4</td><td> 8</td><td> 5 Speed Manual</td><td>Ashok</td><td>5</td><td>Manual</td></tr>\n",
       "\t<tr><th scope=row>4</th><td>Ashok Leyland Stile</td><td>Ashok Leyland Stile LS 7-STR (Diesel)</td><td>849990</td><td>MPV</td><td>1461</td><td> Diesel</td><td> 2000</td><td>180</td><td> 75 </td><td> 3300</td><td> 16.2</td><td> 20.7</td><td> 4</td><td> 7</td><td> 5 Speed Manual</td><td>Ashok</td><td>5</td><td>Manual</td></tr>\n",
       "\t<tr><th scope=row>5</th><td>Ashok Leyland Stile</td><td>Ashok Leyland Stile LS 7-STR Alloy (Diesel)</td><td>879990</td><td>MPV</td><td>1461</td><td> Diesel</td><td> 2000</td><td>180</td><td> 75 </td><td> 3300</td><td> 16.2</td><td> 20.7</td><td> 4</td><td> 7</td><td> 5 Speed Manual</td><td>Ashok</td><td>5</td><td>Manual</td></tr>\n",
       "\t<tr><th scope=row>6</th><td>Ashok Leyland Stile</td><td>Ashok Leyland Stile LX 7-STR (Diesel)</td><td>899990</td><td>MPV</td><td>1461</td><td> Diesel</td><td> 2000</td><td>180</td><td> 75 </td><td> 3300</td><td> 16.2</td><td> 20.7</td><td> 4</td><td> 7</td><td> 5 Speed Manual</td><td>Ashok</td><td>5</td><td>Manual</td></tr>\n",
       "</tbody>\n",
       "</table>\n"
      ],
      "text/latex": [
       "\\begin{tabular}{r|llllllllllllllllll}\n",
       "  & name & model & price & type & engine & fuel & weight & clearance & bhp & rpm & mileage_city & mileage_highway & cylinders & seats & transmission_type & brand & gears & transmission\\\\\n",
       "\\hline\n",
       "\t1 & Ashok Leyland Stile & Ashok Leyland Stile LE 8-STR (Diesel) & 749990 & MPV & 1461 &  Diesel &  2000 & 180 &  75  &  3300 &  16.2 &  20.7 &  4 &  8 &  5 Speed Manual & Ashok & 5 & Manual\\\\\n",
       "\t2 & Ashok Leyland Stile & Ashok Leyland Stile LS 8-STR (Diesel) & 799990 & MPV & 1461 &  Diesel &  2000 & 180 &  75  &  3300 &  16.2 &  20.7 &  4 &  8 &  5 Speed Manual & Ashok & 5 & Manual\\\\\n",
       "\t3 & Ashok Leyland Stile & Ashok Leyland Stile LX 8-STR (Diesel) & 829990 & MPV & 1461 &  Diesel &  2000 & 180 &  75  &  3300 &  16.2 &  20.7 &  4 &  8 &  5 Speed Manual & Ashok & 5 & Manual\\\\\n",
       "\t4 & Ashok Leyland Stile & Ashok Leyland Stile LS 7-STR (Diesel) & 849990 & MPV & 1461 &  Diesel &  2000 & 180 &  75  &  3300 &  16.2 &  20.7 &  4 &  7 &  5 Speed Manual & Ashok & 5 & Manual\\\\\n",
       "\t5 & Ashok Leyland Stile & Ashok Leyland Stile LS 7-STR Alloy (Diesel) & 879990 & MPV & 1461 &  Diesel &  2000 & 180 &  75  &  3300 &  16.2 &  20.7 &  4 &  7 &  5 Speed Manual & Ashok & 5 & Manual\\\\\n",
       "\t6 & Ashok Leyland Stile & Ashok Leyland Stile LX 7-STR (Diesel) & 899990 & MPV & 1461 &  Diesel &  2000 & 180 &  75  &  3300 &  16.2 &  20.7 &  4 &  7 &  5 Speed Manual & Ashok & 5 & Manual\\\\\n",
       "\\end{tabular}\n"
      ],
      "text/plain": [
       "                 name                                       model  price type\n",
       "1 Ashok Leyland Stile       Ashok Leyland Stile LE 8-STR (Diesel) 749990  MPV\n",
       "2 Ashok Leyland Stile       Ashok Leyland Stile LS 8-STR (Diesel) 799990  MPV\n",
       "3 Ashok Leyland Stile       Ashok Leyland Stile LX 8-STR (Diesel) 829990  MPV\n",
       "4 Ashok Leyland Stile       Ashok Leyland Stile LS 7-STR (Diesel) 849990  MPV\n",
       "5 Ashok Leyland Stile Ashok Leyland Stile LS 7-STR Alloy (Diesel) 879990  MPV\n",
       "6 Ashok Leyland Stile       Ashok Leyland Stile LX 7-STR (Diesel) 899990  MPV\n",
       "  engine    fuel weight clearance  bhp   rpm mileage_city mileage_highway\n",
       "1   1461  Diesel   2000       180  75   3300         16.2            20.7\n",
       "2   1461  Diesel   2000       180  75   3300         16.2            20.7\n",
       "3   1461  Diesel   2000       180  75   3300         16.2            20.7\n",
       "4   1461  Diesel   2000       180  75   3300         16.2            20.7\n",
       "5   1461  Diesel   2000       180  75   3300         16.2            20.7\n",
       "6   1461  Diesel   2000       180  75   3300         16.2            20.7\n",
       "  cylinders seats transmission_type brand gears transmission\n",
       "1         4     8    5 Speed Manual Ashok     5       Manual\n",
       "2         4     8    5 Speed Manual Ashok     5       Manual\n",
       "3         4     8    5 Speed Manual Ashok     5       Manual\n",
       "4         4     7    5 Speed Manual Ashok     5       Manual\n",
       "5         4     7    5 Speed Manual Ashok     5       Manual\n",
       "6         4     7    5 Speed Manual Ashok     5       Manual"
      ]
     },
     "execution_count": 150,
     "metadata": {},
     "output_type": "execute_result"
    }
   ],
   "source": [
    "head(cleaned_df)"
   ]
  },
  {
   "cell_type": "code",
   "execution_count": 151,
   "metadata": {
    "collapsed": false
   },
   "outputs": [],
   "source": [
    "by_name <- group_by(cleaned_df, name)"
   ]
  },
  {
   "cell_type": "code",
   "execution_count": 152,
   "metadata": {
    "collapsed": false
   },
   "outputs": [],
   "source": [
    "filtered_df <- slice(by_name,which.min(price))"
   ]
  },
  {
   "cell_type": "code",
   "execution_count": 153,
   "metadata": {
    "collapsed": false
   },
   "outputs": [
    {
     "data": {
      "text/html": [
       "<table>\n",
       "<thead><tr><th></th><th scope=col>name</th><th scope=col>model</th><th scope=col>price</th><th scope=col>type</th><th scope=col>engine</th><th scope=col>fuel</th><th scope=col>weight</th><th scope=col>clearance</th><th scope=col>bhp</th><th scope=col>rpm</th><th scope=col>mileage_city</th><th scope=col>mileage_highway</th><th scope=col>cylinders</th><th scope=col>seats</th><th scope=col>transmission_type</th><th scope=col>brand</th><th scope=col>gears</th><th scope=col>transmission</th></tr></thead>\n",
       "<tbody>\n",
       "\t<tr><th scope=row>1</th><td>Ashok Leyland Stile</td><td>Ashok Leyland Stile LE 8-STR (Diesel)</td><td>749990</td><td>MPV</td><td>1461</td><td> Diesel</td><td> 2000</td><td>180</td><td> 75 </td><td> 3300</td><td> 16.2</td><td> 20.7</td><td> 4</td><td> 8</td><td> 5 Speed Manual</td><td>Ashok</td><td>5</td><td>Manual</td></tr>\n",
       "\t<tr><th scope=row>2</th><td>Aston Martin Rapide</td><td>Aston Martin Rapide LUXE (Petrol)</td><td>3.5e+07</td><td>Sedan</td><td>5935</td><td> Petrol</td><td>NA</td><td>120</td><td> 350 </td><td> 6000</td><td>NA</td><td> 7</td><td> 4</td><td> 4</td><td> 6 Speed Automatic</td><td>Aston</td><td>6</td><td>Automatic</td></tr>\n",
       "\t<tr><th scope=row>3</th><td>Aston Martin Rapide S</td><td>Aston Martin Rapide S (Petrol)</td><td>4.4e+07</td><td>Sedan</td><td>5935</td><td> Petrol</td><td> 1990</td><td>110</td><td> 550 </td><td> 6750</td><td> 5.6</td><td> 11.9</td><td> 12</td><td> 4</td><td> 6 Speed Manual</td><td>Aston</td><td>6</td><td>Manual</td></tr>\n",
       "\t<tr><th scope=row>4</th><td>Aston Martin V12 Vantage</td><td>Aston Martin V12 Vantage Coupe (Petrol)</td><td>3.5e+07</td><td>Coupe</td><td>5935</td><td> Petrol</td><td>NA</td><td>120</td><td> 510 </td><td> 6500</td><td> 7</td><td> 9</td><td> 12</td><td> 2</td><td> 6 Speed Manual</td><td>Aston</td><td>6</td><td>Manual</td></tr>\n",
       "\t<tr><th scope=row>5</th><td>Aston Martin V8 Vantage</td><td>Aston Martin V8 Vantage Coupe (Petrol)</td><td>13500000</td><td>Coupe</td><td>4735</td><td> Petrol</td><td>NA</td><td>120</td><td> 313 </td><td> 7000</td><td> 5</td><td> 8</td><td> 8</td><td> 2</td><td> 6 Speed Manual</td><td>Aston</td><td>6</td><td>Manual</td></tr>\n",
       "\t<tr><th scope=row>6</th><td>Aston Martin Vanquish</td><td>Aston Martin Vanquish V12 (Petrol)</td><td>38500000</td><td>Sedan</td><td>5935</td><td> Petrol</td><td>NA</td><td>147</td><td> 564 </td><td> 6750</td><td> 4.0</td><td> 8.0</td><td> 4</td><td> 2</td><td> 6 Speed Automatic</td><td>Aston</td><td>6</td><td>Automatic</td></tr>\n",
       "</tbody>\n",
       "</table>\n"
      ],
      "text/latex": [
       "\\begin{tabular}{r|llllllllllllllllll}\n",
       "  & name & model & price & type & engine & fuel & weight & clearance & bhp & rpm & mileage_city & mileage_highway & cylinders & seats & transmission_type & brand & gears & transmission\\\\\n",
       "\\hline\n",
       "\t1 & Ashok Leyland Stile & Ashok Leyland Stile LE 8-STR (Diesel) & 749990 & MPV & 1461 &  Diesel &  2000 & 180 &  75  &  3300 &  16.2 &  20.7 &  4 &  8 &  5 Speed Manual & Ashok & 5 & Manual\\\\\n",
       "\t2 & Aston Martin Rapide & Aston Martin Rapide LUXE (Petrol) & 3.5e+07 & Sedan & 5935 &  Petrol & NA & 120 &  350  &  6000 & NA &  7 &  4 &  4 &  6 Speed Automatic & Aston & 6 & Automatic\\\\\n",
       "\t3 & Aston Martin Rapide S & Aston Martin Rapide S (Petrol) & 4.4e+07 & Sedan & 5935 &  Petrol &  1990 & 110 &  550  &  6750 &  5.6 &  11.9 &  12 &  4 &  6 Speed Manual & Aston & 6 & Manual\\\\\n",
       "\t4 & Aston Martin V12 Vantage & Aston Martin V12 Vantage Coupe (Petrol) & 3.5e+07 & Coupe & 5935 &  Petrol & NA & 120 &  510  &  6500 &  7 &  9 &  12 &  2 &  6 Speed Manual & Aston & 6 & Manual\\\\\n",
       "\t5 & Aston Martin V8 Vantage & Aston Martin V8 Vantage Coupe (Petrol) & 13500000 & Coupe & 4735 &  Petrol & NA & 120 &  313  &  7000 &  5 &  8 &  8 &  2 &  6 Speed Manual & Aston & 6 & Manual\\\\\n",
       "\t6 & Aston Martin Vanquish & Aston Martin Vanquish V12 (Petrol) & 38500000 & Sedan & 5935 &  Petrol & NA & 147 &  564  &  6750 &  4.0 &  8.0 &  4 &  2 &  6 Speed Automatic & Aston & 6 & Automatic\\\\\n",
       "\\end{tabular}\n"
      ],
      "text/plain": [
       "Source: local data frame [6 x 18]\n",
       "Groups: name [6]\n",
       "\n",
       "                      name                                   model    price\n",
       "                    (fctr)                                  (fctr)    (dbl)\n",
       "1      Ashok Leyland Stile   Ashok Leyland Stile LE 8-STR (Diesel)   749990\n",
       "2      Aston Martin Rapide       Aston Martin Rapide LUXE (Petrol) 35000000\n",
       "3    Aston Martin Rapide S          Aston Martin Rapide S (Petrol) 44000000\n",
       "4 Aston Martin V12 Vantage Aston Martin V12 Vantage Coupe (Petrol) 35000000\n",
       "5  Aston Martin V8 Vantage  Aston Martin V8 Vantage Coupe (Petrol) 13500000\n",
       "6    Aston Martin Vanquish      Aston Martin Vanquish V12 (Petrol) 38500000\n",
       "Variables not shown: type (fctr), engine (int), fuel (fctr), weight (fctr),\n",
       "  clearance (dbl), bhp (chr), rpm (chr), mileage_city (fctr), mileage_highway\n",
       "  (fctr), cylinders (chr), seats (chr), transmission_type (fctr), brand (fctr),\n",
       "  gears (dbl), transmission (chr)"
      ]
     },
     "execution_count": 153,
     "metadata": {},
     "output_type": "execute_result"
    }
   ],
   "source": [
    "head(filtered_df)"
   ]
  },
  {
   "cell_type": "markdown",
   "metadata": {},
   "source": [
    "mileage fill na with mean"
   ]
  },
  {
   "cell_type": "code",
   "execution_count": 154,
   "metadata": {
    "collapsed": false
   },
   "outputs": [
    {
     "name": "stderr",
     "output_type": "stream",
     "text": [
      "Warning message:\n",
      "In eval(expr, envir, enclos): NAs introduced by coercion"
     ]
    }
   ],
   "source": [
    "filtered_df$mileage_city <- as.numeric(as.character(filtered_df$mileage_city))\n",
    "filtered_df$mileage_highway <- as.numeric(as.character(filtered_df$mileage_highway))"
   ]
  },
  {
   "cell_type": "code",
   "execution_count": 155,
   "metadata": {
    "collapsed": false
   },
   "outputs": [
    {
     "data": {
      "text/plain": [
       "\n",
       "  1.2     2     4     5   5.3   5.5   5.6   5.7   5.8     6  6.13   6.2   6.4 \n",
       "    1     2     2     1     1     1     2     1     1     3     1     1     1 \n",
       "  6.5   6.9     7  7.14  7.16   7.2  7.32   7.7   7.9     8  8.03  8.19   8.4 \n",
       "    1     1     2     1     1     2     1     1     1     2     1     2     2 \n",
       "  8.9     9   9.2   9.5   9.8    10  10.5  10.7  10.8  10.9  11.3 11.38  11.4 \n",
       "    1     2     1     1     1     2     1     1     1     1     1     1     2 \n",
       " 11.8  11.9    12 12.02 12.08  12.2  12.3 12.82    13  13.2  13.3  13.4 13.45 \n",
       "    1     2     4     1     1     1     2     1     3     1     2     1     1 \n",
       " 13.5  13.7    14  14.1 14.21 14.25  14.3 14.44 14.54  14.7    15  15.1 15.16 \n",
       "    4     1     1     1     1     1     1     1     1     1     4     1     1 \n",
       "15.54  15.6  15.7 15.77  15.9 16.08  16.2 16.24  16.3  16.8    17 17.08  17.1 \n",
       "    1     1     1     1     2     1     2     1     2     1     2     2     1 \n",
       " 17.2  17.9 18.08    19 19.03  20.2  20.4  23.6    28 \n",
       "    1     1     1     2     1     1     1     1     1 "
      ]
     },
     "execution_count": 155,
     "metadata": {},
     "output_type": "execute_result"
    }
   ],
   "source": [
    "table(filtered_df$mileage_city)"
   ]
  },
  {
   "cell_type": "code",
   "execution_count": 156,
   "metadata": {
    "collapsed": false
   },
   "outputs": [],
   "source": [
    "filtered_df$mileage_city[is.na(filtered_df$mileage_city)] = mean(filtered_df$mileage_city, na.rm=T)\n",
    "filtered_df$mileage_highway[is.na(filtered_df$mileage_highway)] = mean(filtered_df$mileage_highway, na.rm=T)"
   ]
  },
  {
   "cell_type": "code",
   "execution_count": 157,
   "metadata": {
    "collapsed": false
   },
   "outputs": [
    {
     "name": "stdout",
     "output_type": "stream",
     "text": [
      "[1] 11.83425\n",
      "[1] 15.35149\n"
     ]
    }
   ],
   "source": [
    "print(mean(filtered_df$mileage_city))\n",
    "print(mean(filtered_df$mileage_highway))"
   ]
  },
  {
   "cell_type": "code",
   "execution_count": 158,
   "metadata": {
    "collapsed": false
   },
   "outputs": [
    {
     "data": {
      "text/plain": [
       "\n",
       "     1.2        2        4        5      5.3      5.5      5.6      5.7 \n",
       "       1        2        2        1        1        1        2        1 \n",
       "     5.8        6     6.13      6.2      6.4      6.5      6.9        7 \n",
       "       1        3        1        1        1        1        1        2 \n",
       "    7.14     7.16      7.2     7.32      7.7      7.9        8     8.03 \n",
       "       1        1        2        1        1        1        2        1 \n",
       "    8.19      8.4      8.9        9      9.2      9.5      9.8       10 \n",
       "       2        2        1        2        1        1        1        2 \n",
       "    10.5     10.7     10.8     10.9     11.3    11.38     11.4     11.8 \n",
       "       1        1        1        1        1        1        2        1 \n",
       "11.83425     11.9       12    12.02    12.08     12.2     12.3    12.82 \n",
       "      83        2        4        1        1        1        2        1 \n",
       "      13     13.2     13.3     13.4    13.45     13.5     13.7       14 \n",
       "       3        1        2        1        1        4        1        1 \n",
       "    14.1    14.21    14.25     14.3    14.44    14.54     14.7       15 \n",
       "       1        1        1        1        1        1        1        4 \n",
       "    15.1    15.16    15.54     15.6     15.7    15.77     15.9    16.08 \n",
       "       1        1        1        1        1        1        2        1 \n",
       "    16.2    16.24     16.3     16.8       17    17.08     17.1     17.2 \n",
       "       2        1        2        1        2        2        1        1 \n",
       "    17.9    18.08       19    19.03     20.2     20.4     23.6       28 \n",
       "       1        1        2        1        1        1        1        1 "
      ]
     },
     "execution_count": 158,
     "metadata": {},
     "output_type": "execute_result"
    }
   ],
   "source": [
    "table(filtered_df$mileage_city)"
   ]
  },
  {
   "cell_type": "code",
   "execution_count": 159,
   "metadata": {
    "collapsed": false
   },
   "outputs": [
    {
     "data": {
      "text/html": [
       "<ol class=list-inline>\n",
       "\t<li>1461</li>\n",
       "\t<li>5935</li>\n",
       "\t<li>4735</li>\n",
       "\t<li>1968</li>\n",
       "\t<li>2967</li>\n",
       "\t<li>1984</li>\n",
       "\t<li>2995</li>\n",
       "\t<li>4163</li>\n",
       "\t<li>3993</li>\n",
       "\t<li>5998</li>\n",
       "\t<li>1995</li>\n",
       "\t<li>2993</li>\n",
       "\t<li>1499</li>\n",
       "\t<li>2979</li>\n",
       "\t<li>4395</li>\n",
       "\t<li>2231</li>\n",
       "\t<li>1998</li>\n",
       "\t<li>1399</li>\n",
       "\t<li>1199</li>\n",
       "\t<li>995</li>\n",
       "\t<li>2499</li>\n",
       "\t<li>1198</li>\n",
       "\t<li>4499</li>\n",
       "\t<li>5999</li>\n",
       "\t<li>4297</li>\n",
       "\t<li>6262</li>\n",
       "\t<li>1368</li>\n",
       "\t<li>1172</li>\n",
       "\t<li>2650</li>\n",
       "\t<li>1596</li>\n",
       "\t<li>1498</li>\n",
       "\t<li>1196</li>\n",
       "\t<li>1497</li>\n",
       "\t<li>1997</li>\n",
       "\t<li>NA</li>\n",
       "\t<li>1797</li>\n",
       "\t<li>814</li>\n",
       "\t<li>1197</li>\n",
       "\t<li>1086</li>\n",
       "\t<li>2199</li>\n",
       "\t<li>2359</li>\n",
       "\t<li>2999</li>\n",
       "\t<li>2179</li>\n",
       "\t<li>1999</li>\n",
       "\t<li>5204</li>\n",
       "\t<li>2523</li>\n",
       "\t<li>3</li>\n",
       "\t<li>1493</li>\n",
       "\t<li>2489</li>\n",
       "\t<li>998</li>\n",
       "\t<li>796</li>\n",
       "\t<li>1373</li>\n",
       "\t<li>2393</li>\n",
       "\t<li>1298</li>\n",
       "\t<li>1248</li>\n",
       "\t<li>1586</li>\n",
       "\t<li>2143</li>\n",
       "\t<li>1595</li>\n",
       "\t<li>1991</li>\n",
       "\t<li>5461</li>\n",
       "\t<li>2987</li>\n",
       "\t<li>3496</li>\n",
       "\t<li>3498</li>\n",
       "\t<li>6208</li>\n",
       "\t<li>1496</li>\n",
       "\t<li>1598</li>\n",
       "\t<li>2477</li>\n",
       "\t<li>1396</li>\n",
       "\t<li>1798</li>\n",
       "\t<li>2496</li>\n",
       "\t<li>3436</li>\n",
       "\t<li>6592</li>\n",
       "\t<li>1149</li>\n",
       "\t<li>1395</li>\n",
       "\t<li>2696</li>\n",
       "\t<li>1193</li>\n",
       "\t<li>1405</li>\n",
       "\t<li>624</li>\n",
       "\t<li>2956</li>\n",
       "\t<li>1948</li>\n",
       "\t<li>2982</li>\n",
       "\t<li>1390</li>\n",
       "\t<li>3597</li>\n",
       "\t<li>1969</li>\n",
       "</ol>\n"
      ],
      "text/latex": [
       "\\begin{enumerate*}\n",
       "\\item 1461\n",
       "\\item 5935\n",
       "\\item 4735\n",
       "\\item 1968\n",
       "\\item 2967\n",
       "\\item 1984\n",
       "\\item 2995\n",
       "\\item 4163\n",
       "\\item 3993\n",
       "\\item 5998\n",
       "\\item 1995\n",
       "\\item 2993\n",
       "\\item 1499\n",
       "\\item 2979\n",
       "\\item 4395\n",
       "\\item 2231\n",
       "\\item 1998\n",
       "\\item 1399\n",
       "\\item 1199\n",
       "\\item 995\n",
       "\\item 2499\n",
       "\\item 1198\n",
       "\\item 4499\n",
       "\\item 5999\n",
       "\\item 4297\n",
       "\\item 6262\n",
       "\\item 1368\n",
       "\\item 1172\n",
       "\\item 2650\n",
       "\\item 1596\n",
       "\\item 1498\n",
       "\\item 1196\n",
       "\\item 1497\n",
       "\\item 1997\n",
       "\\item NA\n",
       "\\item 1797\n",
       "\\item 814\n",
       "\\item 1197\n",
       "\\item 1086\n",
       "\\item 2199\n",
       "\\item 2359\n",
       "\\item 2999\n",
       "\\item 2179\n",
       "\\item 1999\n",
       "\\item 5204\n",
       "\\item 2523\n",
       "\\item 3\n",
       "\\item 1493\n",
       "\\item 2489\n",
       "\\item 998\n",
       "\\item 796\n",
       "\\item 1373\n",
       "\\item 2393\n",
       "\\item 1298\n",
       "\\item 1248\n",
       "\\item 1586\n",
       "\\item 2143\n",
       "\\item 1595\n",
       "\\item 1991\n",
       "\\item 5461\n",
       "\\item 2987\n",
       "\\item 3496\n",
       "\\item 3498\n",
       "\\item 6208\n",
       "\\item 1496\n",
       "\\item 1598\n",
       "\\item 2477\n",
       "\\item 1396\n",
       "\\item 1798\n",
       "\\item 2496\n",
       "\\item 3436\n",
       "\\item 6592\n",
       "\\item 1149\n",
       "\\item 1395\n",
       "\\item 2696\n",
       "\\item 1193\n",
       "\\item 1405\n",
       "\\item 624\n",
       "\\item 2956\n",
       "\\item 1948\n",
       "\\item 2982\n",
       "\\item 1390\n",
       "\\item 3597\n",
       "\\item 1969\n",
       "\\end{enumerate*}\n"
      ],
      "text/markdown": [
       "1. 1461\n",
       "2. 5935\n",
       "3. 4735\n",
       "4. 1968\n",
       "5. 2967\n",
       "6. 1984\n",
       "7. 2995\n",
       "8. 4163\n",
       "9. 3993\n",
       "10. 5998\n",
       "11. 1995\n",
       "12. 2993\n",
       "13. 1499\n",
       "14. 2979\n",
       "15. 4395\n",
       "16. 2231\n",
       "17. 1998\n",
       "18. 1399\n",
       "19. 1199\n",
       "20. 995\n",
       "21. 2499\n",
       "22. 1198\n",
       "23. 4499\n",
       "24. 5999\n",
       "25. 4297\n",
       "26. 6262\n",
       "27. 1368\n",
       "28. 1172\n",
       "29. 2650\n",
       "30. 1596\n",
       "31. 1498\n",
       "32. 1196\n",
       "33. 1497\n",
       "34. 1997\n",
       "35. NA\n",
       "36. 1797\n",
       "37. 814\n",
       "38. 1197\n",
       "39. 1086\n",
       "40. 2199\n",
       "41. 2359\n",
       "42. 2999\n",
       "43. 2179\n",
       "44. 1999\n",
       "45. 5204\n",
       "46. 2523\n",
       "47. 3\n",
       "48. 1493\n",
       "49. 2489\n",
       "50. 998\n",
       "51. 796\n",
       "52. 1373\n",
       "53. 2393\n",
       "54. 1298\n",
       "55. 1248\n",
       "56. 1586\n",
       "57. 2143\n",
       "58. 1595\n",
       "59. 1991\n",
       "60. 5461\n",
       "61. 2987\n",
       "62. 3496\n",
       "63. 3498\n",
       "64. 6208\n",
       "65. 1496\n",
       "66. 1598\n",
       "67. 2477\n",
       "68. 1396\n",
       "69. 1798\n",
       "70. 2496\n",
       "71. 3436\n",
       "72. 6592\n",
       "73. 1149\n",
       "74. 1395\n",
       "75. 2696\n",
       "76. 1193\n",
       "77. 1405\n",
       "78. 624\n",
       "79. 2956\n",
       "80. 1948\n",
       "81. 2982\n",
       "82. 1390\n",
       "83. 3597\n",
       "84. 1969\n",
       "\n",
       "\n"
      ],
      "text/plain": [
       " [1] 1461 5935 4735 1968 2967 1984 2995 4163 3993 5998 1995 2993 1499 2979 4395\n",
       "[16] 2231 1998 1399 1199  995 2499 1198 4499 5999 4297 6262 1368 1172 2650 1596\n",
       "[31] 1498 1196 1497 1997   NA 1797  814 1197 1086 2199 2359 2999 2179 1999 5204\n",
       "[46] 2523    3 1493 2489  998  796 1373 2393 1298 1248 1586 2143 1595 1991 5461\n",
       "[61] 2987 3496 3498 6208 1496 1598 2477 1396 1798 2496 3436 6592 1149 1395 2696\n",
       "[76] 1193 1405  624 2956 1948 2982 1390 3597 1969"
      ]
     },
     "execution_count": 159,
     "metadata": {},
     "output_type": "execute_result"
    }
   ],
   "source": [
    "unique(filtered_df$engine)"
   ]
  },
  {
   "cell_type": "code",
   "execution_count": 160,
   "metadata": {
    "collapsed": false
   },
   "outputs": [
    {
     "data": {
      "text/html": [
       "<ol class=list-inline>\n",
       "\t<li>Honda jazz – Expected Specification</li>\n",
       "\t<li>Tata Bolt Revotron 1.2T XE (Petrol)</li>\n",
       "\t<li>Volkswagen Taigun -Expected Specification</li>\n",
       "</ol>\n"
      ],
      "text/latex": [
       "\\begin{enumerate*}\n",
       "\\item Honda jazz – Expected Specification\n",
       "\\item Tata Bolt Revotron 1.2T XE (Petrol)\n",
       "\\item Volkswagen Taigun -Expected Specification\n",
       "\\end{enumerate*}\n"
      ],
      "text/markdown": [
       "1. Honda jazz – Expected Specification\n",
       "2. Tata Bolt Revotron 1.2T XE (Petrol)\n",
       "3. Volkswagen Taigun -Expected Specification\n",
       "\n",
       "\n"
      ],
      "text/plain": [
       "[1] Honda jazz – Expected Specification      \n",
       "[2] Tata Bolt Revotron 1.2T XE (Petrol)      \n",
       "[3] Volkswagen Taigun -Expected Specification\n",
       "832 Levels: Ashok Leyland Stile LE 8-STR (Diesel) ..."
      ]
     },
     "execution_count": 160,
     "metadata": {},
     "output_type": "execute_result"
    }
   ],
   "source": [
    "filtered_df$model[is.na(filtered_df$engine)]"
   ]
  },
  {
   "cell_type": "code",
   "execution_count": 161,
   "metadata": {
    "collapsed": false
   },
   "outputs": [
    {
     "data": {
      "text/plain": [
       "\n",
       "   3  624  796  814  995  998 1086 1149 1172 1193 1196 1197 1198 1199 1248 1298 \n",
       "   1    1    2    1    1    5    1    1    1    3    2    8    9    4    2    1 \n",
       "1368 1373 1390 1395 1396 1399 1405 1461 1493 1496 1497 1498 1499 1586 1595 1596 \n",
       "   4    2    1    1    1    1    2    7    1    3    3    3    2    1    1    1 \n",
       "1598 1797 1798 1948 1968 1969 1984 1991 1995 1997 1998 1999 2143 2179 2199 2231 \n",
       "   8    1    2    1    6    2    5    3    7    1    2    1    5   10    1    1 \n",
       "2359 2393 2477 2489 2496 2499 2523 2650 2696 2956 2967 2979 2982 2987 2993 2995 \n",
       "   1    2    1    1    1    2    3    1    1    1    3    2    1    2    8    3 \n",
       "2999 3436 3496 3498 3597 3993 4163 4297 4395 4499 4735 5204 5461 5935 5998 5999 \n",
       "   1    3    1    2    1    3    3    1    2    1    1    1    1    4    4    1 \n",
       "6208 6262 6592 \n",
       "   1    1    2 "
      ]
     },
     "execution_count": 161,
     "metadata": {},
     "output_type": "execute_result"
    }
   ],
   "source": [
    "table(filtered_df$engine)"
   ]
  },
  {
   "cell_type": "code",
   "execution_count": 162,
   "metadata": {
    "collapsed": true
   },
   "outputs": [],
   "source": [
    "filtered_df$engine[is.na(filtered_df$engine)] = 1198"
   ]
  },
  {
   "cell_type": "code",
   "execution_count": 163,
   "metadata": {
    "collapsed": true
   },
   "outputs": [],
   "source": [
    "filtered_df$engine <- as.numeric(as.character(filtered_df$engine))\n"
   ]
  },
  {
   "cell_type": "code",
   "execution_count": 186,
   "metadata": {
    "collapsed": false
   },
   "outputs": [],
   "source": [
    "filtered_df$fuel_type = -1\n",
    "filtered_df$fuel_type[filtered_df$fuel == ' Petrol'] = 0\n",
    "filtered_df$fuel_type[filtered_df$fuel == ' Diesel'] = 1\n",
    "filtered_df$fuel_type[filtered_df$fuel == ' CNG'] = 2\n",
    "filtered_df$fuel_type[filtered_df$fuel_type == -1] = 0"
   ]
  },
  {
   "cell_type": "code",
   "execution_count": 187,
   "metadata": {
    "collapsed": false
   },
   "outputs": [
    {
     "data": {
      "text/html": [
       "<ol class=list-inline>\n",
       "\t<li>1</li>\n",
       "\t<li>0</li>\n",
       "\t<li>2</li>\n",
       "</ol>\n"
      ],
      "text/latex": [
       "\\begin{enumerate*}\n",
       "\\item 1\n",
       "\\item 0\n",
       "\\item 2\n",
       "\\end{enumerate*}\n"
      ],
      "text/markdown": [
       "1. 1\n",
       "2. 0\n",
       "3. 2\n",
       "\n",
       "\n"
      ],
      "text/plain": [
       "[1] 1 0 2"
      ]
     },
     "execution_count": 187,
     "metadata": {},
     "output_type": "execute_result"
    }
   ],
   "source": [
    "unique(filtered_df$fuel_type)"
   ]
  },
  {
   "cell_type": "code",
   "execution_count": 188,
   "metadata": {
    "collapsed": false
   },
   "outputs": [],
   "source": [
    "write.csv(filtered_df, file = \"data/cars.tidy.csv\", row.names = FALSE)"
   ]
  },
  {
   "cell_type": "code",
   "execution_count": null,
   "metadata": {
    "collapsed": true
   },
   "outputs": [],
   "source": []
  }
 ],
 "metadata": {
  "kernelspec": {
   "display_name": "R",
   "language": "R",
   "name": "ir"
  },
  "language_info": {
   "codemirror_mode": "r",
   "file_extension": ".r",
   "mimetype": "text/x-r-source",
   "name": "R",
   "pygments_lexer": "r",
   "version": "3.2.4"
  }
 },
 "nbformat": 4,
 "nbformat_minor": 0
}
