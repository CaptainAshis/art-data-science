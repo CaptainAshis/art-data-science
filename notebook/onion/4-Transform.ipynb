{
 "cells": [
  {
   "cell_type": "markdown",
   "metadata": {},
   "source": [
    "# 4. Transform the Data\n",
    " \n",
    "> \"What is measured may not help answer what is needed\"\n",
    "\n",
    "- **Convert** e.g. free text to coded value\n",
    "- **Calculate** e.g. percentages, proportion\n",
    "- **Merge** e.g. first and surname for full name\n",
    "- **Aggregate** e.g. rollup by year, cluster by area\n",
    "- **Filter** e.g. exclude based on location\n",
    "- **Sample** e.g. extract a representative data\n",
    "- **Summary** e.g. show summary stats like mean"
   ]
  },
  {
   "cell_type": "markdown",
   "metadata": {},
   "source": [
    "## Let us read the data"
   ]
  },
  {
   "cell_type": "code",
   "execution_count": 1,
   "metadata": {
    "collapsed": true
   },
   "outputs": [],
   "source": [
    "# Import the library we need, which is Pandas\n",
    "import pandas as pd"
   ]
  },
  {
   "cell_type": "markdown",
   "metadata": {},
   "source": [
    "You will find the variable `df` used quite often to store a `dataframe`"
   ]
  },
  {
   "cell_type": "code",
   "execution_count": 2,
   "metadata": {
    "collapsed": true
   },
   "outputs": [],
   "source": [
    "# Read the csv file of Monthwise Quantity and Price csv file we have.\n",
    "df = pd.read_csv('MonthWiseMarketArrivals_clean.csv')"
   ]
  },
  {
   "cell_type": "markdown",
   "metadata": {},
   "source": [
    "## Understand Data Structure and Types"
   ]
  },
  {
   "cell_type": "code",
   "execution_count": 3,
   "metadata": {},
   "outputs": [
    {
     "data": {
      "text/plain": [
       "(11682, 10)"
      ]
     },
     "execution_count": 3,
     "metadata": {},
     "output_type": "execute_result"
    }
   ],
   "source": [
    "df.shape"
   ]
  },
  {
   "cell_type": "code",
   "execution_count": 4,
   "metadata": {},
   "outputs": [
    {
     "data": {
      "text/html": [
       "<div>\n",
       "<style>\n",
       "    .dataframe thead tr:only-child th {\n",
       "        text-align: right;\n",
       "    }\n",
       "\n",
       "    .dataframe thead th {\n",
       "        text-align: left;\n",
       "    }\n",
       "\n",
       "    .dataframe tbody tr th {\n",
       "        vertical-align: top;\n",
       "    }\n",
       "</style>\n",
       "<table border=\"1\" class=\"dataframe\">\n",
       "  <thead>\n",
       "    <tr style=\"text-align: right;\">\n",
       "      <th></th>\n",
       "      <th>market</th>\n",
       "      <th>month</th>\n",
       "      <th>year</th>\n",
       "      <th>quantity</th>\n",
       "      <th>priceMin</th>\n",
       "      <th>priceMax</th>\n",
       "      <th>priceMod</th>\n",
       "      <th>state</th>\n",
       "      <th>city</th>\n",
       "      <th>date</th>\n",
       "    </tr>\n",
       "  </thead>\n",
       "  <tbody>\n",
       "    <tr>\n",
       "      <th>0</th>\n",
       "      <td>ABOHAR(PB)</td>\n",
       "      <td>January</td>\n",
       "      <td>2005</td>\n",
       "      <td>2350</td>\n",
       "      <td>404</td>\n",
       "      <td>493</td>\n",
       "      <td>446</td>\n",
       "      <td>PB</td>\n",
       "      <td>ABOHAR</td>\n",
       "      <td>January-2005</td>\n",
       "    </tr>\n",
       "    <tr>\n",
       "      <th>1</th>\n",
       "      <td>ABOHAR(PB)</td>\n",
       "      <td>January</td>\n",
       "      <td>2006</td>\n",
       "      <td>900</td>\n",
       "      <td>487</td>\n",
       "      <td>638</td>\n",
       "      <td>563</td>\n",
       "      <td>PB</td>\n",
       "      <td>ABOHAR</td>\n",
       "      <td>January-2006</td>\n",
       "    </tr>\n",
       "    <tr>\n",
       "      <th>2</th>\n",
       "      <td>ABOHAR(PB)</td>\n",
       "      <td>January</td>\n",
       "      <td>2010</td>\n",
       "      <td>790</td>\n",
       "      <td>1283</td>\n",
       "      <td>1592</td>\n",
       "      <td>1460</td>\n",
       "      <td>PB</td>\n",
       "      <td>ABOHAR</td>\n",
       "      <td>January-2010</td>\n",
       "    </tr>\n",
       "    <tr>\n",
       "      <th>3</th>\n",
       "      <td>ABOHAR(PB)</td>\n",
       "      <td>January</td>\n",
       "      <td>2011</td>\n",
       "      <td>245</td>\n",
       "      <td>3067</td>\n",
       "      <td>3750</td>\n",
       "      <td>3433</td>\n",
       "      <td>PB</td>\n",
       "      <td>ABOHAR</td>\n",
       "      <td>January-2011</td>\n",
       "    </tr>\n",
       "    <tr>\n",
       "      <th>4</th>\n",
       "      <td>ABOHAR(PB)</td>\n",
       "      <td>January</td>\n",
       "      <td>2012</td>\n",
       "      <td>1035</td>\n",
       "      <td>523</td>\n",
       "      <td>686</td>\n",
       "      <td>605</td>\n",
       "      <td>PB</td>\n",
       "      <td>ABOHAR</td>\n",
       "      <td>January-2012</td>\n",
       "    </tr>\n",
       "  </tbody>\n",
       "</table>\n",
       "</div>"
      ],
      "text/plain": [
       "       market    month  year  quantity  priceMin  priceMax  priceMod state  \\\n",
       "0  ABOHAR(PB)  January  2005      2350       404       493       446    PB   \n",
       "1  ABOHAR(PB)  January  2006       900       487       638       563    PB   \n",
       "2  ABOHAR(PB)  January  2010       790      1283      1592      1460    PB   \n",
       "3  ABOHAR(PB)  January  2011       245      3067      3750      3433    PB   \n",
       "4  ABOHAR(PB)  January  2012      1035       523       686       605    PB   \n",
       "\n",
       "     city          date  \n",
       "0  ABOHAR  January-2005  \n",
       "1  ABOHAR  January-2006  \n",
       "2  ABOHAR  January-2010  \n",
       "3  ABOHAR  January-2011  \n",
       "4  ABOHAR  January-2012  "
      ]
     },
     "execution_count": 4,
     "metadata": {},
     "output_type": "execute_result"
    }
   ],
   "source": [
    "df.head()"
   ]
  },
  {
   "cell_type": "markdown",
   "metadata": {},
   "source": [
    "### Data Structure\n",
    "\n",
    "So we have ten columns in our dataset. Let us understand what each one is.\n",
    "\n",
    "Three are about the location of the Wholesale Market where Onion where sold.\n",
    "- **state**: This is the 2 letter abbreviation for the state in India (PB is Punjab and so on)\n",
    "- **city**: This is the city in India (ABOHAR, BANGALORE and so on)\n",
    "- **market**: This is a string with the combination of the state and city\n",
    "\n",
    "Three are related to the \n",
    "- **month**: Month in January, February and so on. \n",
    "- **year**: Year in YYYY representastion\n",
    "- **date**: The combination of the two above.\n",
    "\n",
    "Four are about quantity and price in these wholesale market. \n",
    "- **quantity**: The quanity of Onion arriving in the market in that month in quintals (100 kg)\n",
    "- **priceMin**: The minimum price in the month in Rs./quintal\n",
    "- **priceMax**: The maximum price in the month in Rs./quintal\n",
    "- **priceMod**: The modal price in the month in Rs./quintal\n",
    "\n",
    "We would expect the following the columns to be of the following type\n",
    "- **CATEGORICAL**: state, city, market\n",
    "- **TIME INTERVAL**: month, year, date\n",
    "- **QUANTITATIVE**: quantity, priceMin, priceMax, priceModal\n",
    "\n",
    "Let us see what pandas dataframe is reading these columns as."
   ]
  },
  {
   "cell_type": "code",
   "execution_count": 5,
   "metadata": {},
   "outputs": [
    {
     "data": {
      "text/plain": [
       "market      object\n",
       "month       object\n",
       "year         int64\n",
       "quantity     int64\n",
       "priceMin     int64\n",
       "priceMax     int64\n",
       "priceMod     int64\n",
       "state       object\n",
       "city        object\n",
       "date        object\n",
       "dtype: object"
      ]
     },
     "execution_count": 5,
     "metadata": {},
     "output_type": "execute_result"
    }
   ],
   "source": [
    "# Get the typeof each column\n",
    "df.dtypes"
   ]
  },
  {
   "cell_type": "markdown",
   "metadata": {},
   "source": [
    "So we are getting the quantitive columns are correctly being shown as integers and the categorical columns are showing as objects(strings) which is fine. \n",
    "However, the `date` columns is being read as an object and not a Time-Interval. Let us at least fix the `date` column and make it into a datetime object"
   ]
  },
  {
   "cell_type": "code",
   "execution_count": 6,
   "metadata": {
    "collapsed": true
   },
   "outputs": [],
   "source": [
    "# Changing the date column to a Time Interval columnn\n",
    "df.date = pd.DatetimeIndex(df.date)"
   ]
  },
  {
   "cell_type": "code",
   "execution_count": 7,
   "metadata": {},
   "outputs": [
    {
     "data": {
      "text/plain": [
       "(11682, 10)"
      ]
     },
     "execution_count": 7,
     "metadata": {},
     "output_type": "execute_result"
    }
   ],
   "source": [
    "df.shape"
   ]
  },
  {
   "cell_type": "code",
   "execution_count": 8,
   "metadata": {},
   "outputs": [
    {
     "data": {
      "text/plain": [
       "market              object\n",
       "month               object\n",
       "year                 int64\n",
       "quantity             int64\n",
       "priceMin             int64\n",
       "priceMax             int64\n",
       "priceMod             int64\n",
       "state               object\n",
       "city                object\n",
       "date        datetime64[ns]\n",
       "dtype: object"
      ]
     },
     "execution_count": 8,
     "metadata": {},
     "output_type": "execute_result"
    }
   ],
   "source": [
    "# Now checking for type of each column\n",
    "df.dtypes"
   ]
  },
  {
   "cell_type": "code",
   "execution_count": 9,
   "metadata": {},
   "outputs": [
    {
     "data": {
      "text/html": [
       "<div>\n",
       "<style>\n",
       "    .dataframe thead tr:only-child th {\n",
       "        text-align: right;\n",
       "    }\n",
       "\n",
       "    .dataframe thead th {\n",
       "        text-align: left;\n",
       "    }\n",
       "\n",
       "    .dataframe tbody tr th {\n",
       "        vertical-align: top;\n",
       "    }\n",
       "</style>\n",
       "<table border=\"1\" class=\"dataframe\">\n",
       "  <thead>\n",
       "    <tr style=\"text-align: right;\">\n",
       "      <th></th>\n",
       "      <th>market</th>\n",
       "      <th>month</th>\n",
       "      <th>year</th>\n",
       "      <th>quantity</th>\n",
       "      <th>priceMin</th>\n",
       "      <th>priceMax</th>\n",
       "      <th>priceMod</th>\n",
       "      <th>state</th>\n",
       "      <th>city</th>\n",
       "      <th>date</th>\n",
       "    </tr>\n",
       "  </thead>\n",
       "  <tbody>\n",
       "    <tr>\n",
       "      <th>0</th>\n",
       "      <td>ABOHAR(PB)</td>\n",
       "      <td>January</td>\n",
       "      <td>2005</td>\n",
       "      <td>2350</td>\n",
       "      <td>404</td>\n",
       "      <td>493</td>\n",
       "      <td>446</td>\n",
       "      <td>PB</td>\n",
       "      <td>ABOHAR</td>\n",
       "      <td>2005-01-01</td>\n",
       "    </tr>\n",
       "    <tr>\n",
       "      <th>1</th>\n",
       "      <td>ABOHAR(PB)</td>\n",
       "      <td>January</td>\n",
       "      <td>2006</td>\n",
       "      <td>900</td>\n",
       "      <td>487</td>\n",
       "      <td>638</td>\n",
       "      <td>563</td>\n",
       "      <td>PB</td>\n",
       "      <td>ABOHAR</td>\n",
       "      <td>2006-01-01</td>\n",
       "    </tr>\n",
       "    <tr>\n",
       "      <th>2</th>\n",
       "      <td>ABOHAR(PB)</td>\n",
       "      <td>January</td>\n",
       "      <td>2010</td>\n",
       "      <td>790</td>\n",
       "      <td>1283</td>\n",
       "      <td>1592</td>\n",
       "      <td>1460</td>\n",
       "      <td>PB</td>\n",
       "      <td>ABOHAR</td>\n",
       "      <td>2010-01-01</td>\n",
       "    </tr>\n",
       "    <tr>\n",
       "      <th>3</th>\n",
       "      <td>ABOHAR(PB)</td>\n",
       "      <td>January</td>\n",
       "      <td>2011</td>\n",
       "      <td>245</td>\n",
       "      <td>3067</td>\n",
       "      <td>3750</td>\n",
       "      <td>3433</td>\n",
       "      <td>PB</td>\n",
       "      <td>ABOHAR</td>\n",
       "      <td>2011-01-01</td>\n",
       "    </tr>\n",
       "    <tr>\n",
       "      <th>4</th>\n",
       "      <td>ABOHAR(PB)</td>\n",
       "      <td>January</td>\n",
       "      <td>2012</td>\n",
       "      <td>1035</td>\n",
       "      <td>523</td>\n",
       "      <td>686</td>\n",
       "      <td>605</td>\n",
       "      <td>PB</td>\n",
       "      <td>ABOHAR</td>\n",
       "      <td>2012-01-01</td>\n",
       "    </tr>\n",
       "  </tbody>\n",
       "</table>\n",
       "</div>"
      ],
      "text/plain": [
       "       market    month  year  quantity  priceMin  priceMax  priceMod state  \\\n",
       "0  ABOHAR(PB)  January  2005      2350       404       493       446    PB   \n",
       "1  ABOHAR(PB)  January  2006       900       487       638       563    PB   \n",
       "2  ABOHAR(PB)  January  2010       790      1283      1592      1460    PB   \n",
       "3  ABOHAR(PB)  January  2011       245      3067      3750      3433    PB   \n",
       "4  ABOHAR(PB)  January  2012      1035       523       686       605    PB   \n",
       "\n",
       "     city       date  \n",
       "0  ABOHAR 2005-01-01  \n",
       "1  ABOHAR 2006-01-01  \n",
       "2  ABOHAR 2010-01-01  \n",
       "3  ABOHAR 2011-01-01  \n",
       "4  ABOHAR 2012-01-01  "
      ]
     },
     "execution_count": 9,
     "metadata": {},
     "output_type": "execute_result"
    }
   ],
   "source": [
    "# Let us see the dataframe again now\n",
    "df.head()"
   ]
  },
  {
   "cell_type": "markdown",
   "metadata": {},
   "source": [
    "### Exercise"
   ]
  },
  {
   "cell_type": "markdown",
   "metadata": {},
   "source": [
    "Find the starting date for the database?"
   ]
  },
  {
   "cell_type": "code",
   "execution_count": 9,
   "metadata": {},
   "outputs": [
    {
     "data": {
      "text/plain": [
       "Timestamp('1996-01-01 00:00:00')"
      ]
     },
     "execution_count": 9,
     "metadata": {},
     "output_type": "execute_result"
    }
   ],
   "source": [
    "df.date.min()"
   ]
  },
  {
   "cell_type": "markdown",
   "metadata": {},
   "source": [
    "Find the maximum quantity of Onion sold in a month?"
   ]
  },
  {
   "cell_type": "code",
   "execution_count": 16,
   "metadata": {},
   "outputs": [
    {
     "data": {
      "text/plain": [
       "1974018"
      ]
     },
     "execution_count": 16,
     "metadata": {},
     "output_type": "execute_result"
    }
   ],
   "source": [
    "df.quantity.max()"
   ]
  },
  {
   "cell_type": "markdown",
   "metadata": {},
   "source": [
    "Find the maximum and minimum Price for Onion in India?"
   ]
  },
  {
   "cell_type": "code",
   "execution_count": 17,
   "metadata": {},
   "outputs": [
    {
     "data": {
      "text/plain": [
       "12000"
      ]
     },
     "execution_count": 17,
     "metadata": {},
     "output_type": "execute_result"
    }
   ],
   "source": [
    "df.priceMax.max()"
   ]
  },
  {
   "cell_type": "code",
   "execution_count": 18,
   "metadata": {},
   "outputs": [
    {
     "data": {
      "text/plain": [
       "16"
      ]
     },
     "execution_count": 18,
     "metadata": {},
     "output_type": "execute_result"
    }
   ],
   "source": [
    "df.priceMin.min()"
   ]
  },
  {
   "cell_type": "code",
   "execution_count": null,
   "metadata": {
    "collapsed": true
   },
   "outputs": [],
   "source": []
  },
  {
   "cell_type": "markdown",
   "metadata": {},
   "source": [
    "Find the number of unique cities and states in this database?"
   ]
  },
  {
   "cell_type": "code",
   "execution_count": 19,
   "metadata": {},
   "outputs": [
    {
     "data": {
      "text/plain": [
       "177"
      ]
     },
     "execution_count": 19,
     "metadata": {},
     "output_type": "execute_result"
    }
   ],
   "source": [
    "len(df.city.unique())"
   ]
  },
  {
   "cell_type": "code",
   "execution_count": 20,
   "metadata": {},
   "outputs": [
    {
     "data": {
      "text/plain": [
       "23"
      ]
     },
     "execution_count": 20,
     "metadata": {},
     "output_type": "execute_result"
    }
   ],
   "source": [
    "len(df.state.unique())"
   ]
  },
  {
   "cell_type": "code",
   "execution_count": null,
   "metadata": {
    "collapsed": true
   },
   "outputs": [],
   "source": []
  },
  {
   "cell_type": "markdown",
   "metadata": {},
   "source": [
    "## Question 1 - How big is the Bangalore & Delhi onion market compared to other cities in India?"
   ]
  },
  {
   "cell_type": "markdown",
   "metadata": {},
   "source": [
    "Let us try to do this examination for one of the year only. So we want to reduce our dataframe for only where the year = 2016. This process is called subset.\n",
    "\n",
    "### PRINCIPLE: Subset a Dataframe\n",
    "\n",
    "![](../img/subsetrows.png)\n",
    "\n",
    "How do you subset a dataframe on a given criteria\n",
    "\n",
    "`newDataframe` = `df`[ <`subset condition`> ] "
   ]
  },
  {
   "cell_type": "code",
   "execution_count": 21,
   "metadata": {
    "collapsed": true
   },
   "outputs": [],
   "source": [
    "df2016 = df[df.year == 2016]"
   ]
  },
  {
   "cell_type": "code",
   "execution_count": 22,
   "metadata": {},
   "outputs": [
    {
     "data": {
      "text/html": [
       "<div>\n",
       "<style>\n",
       "    .dataframe thead tr:only-child th {\n",
       "        text-align: right;\n",
       "    }\n",
       "\n",
       "    .dataframe thead th {\n",
       "        text-align: left;\n",
       "    }\n",
       "\n",
       "    .dataframe tbody tr th {\n",
       "        vertical-align: top;\n",
       "    }\n",
       "</style>\n",
       "<table border=\"1\" class=\"dataframe\">\n",
       "  <thead>\n",
       "    <tr style=\"text-align: right;\">\n",
       "      <th></th>\n",
       "      <th>market</th>\n",
       "      <th>month</th>\n",
       "      <th>year</th>\n",
       "      <th>quantity</th>\n",
       "      <th>priceMin</th>\n",
       "      <th>priceMax</th>\n",
       "      <th>priceMod</th>\n",
       "      <th>state</th>\n",
       "      <th>city</th>\n",
       "      <th>date</th>\n",
       "    </tr>\n",
       "  </thead>\n",
       "  <tbody>\n",
       "    <tr>\n",
       "      <th>48</th>\n",
       "      <td>ABOHAR(PB)</td>\n",
       "      <td>June</td>\n",
       "      <td>2016</td>\n",
       "      <td>710</td>\n",
       "      <td>523</td>\n",
       "      <td>755</td>\n",
       "      <td>613</td>\n",
       "      <td>PB</td>\n",
       "      <td>ABOHAR</td>\n",
       "      <td>2016-06-01</td>\n",
       "    </tr>\n",
       "    <tr>\n",
       "      <th>64</th>\n",
       "      <td>ABOHAR(PB)</td>\n",
       "      <td>August</td>\n",
       "      <td>2016</td>\n",
       "      <td>60</td>\n",
       "      <td>650</td>\n",
       "      <td>1065</td>\n",
       "      <td>850</td>\n",
       "      <td>PB</td>\n",
       "      <td>ABOHAR</td>\n",
       "      <td>2016-08-01</td>\n",
       "    </tr>\n",
       "    <tr>\n",
       "      <th>72</th>\n",
       "      <td>ABOHAR(PB)</td>\n",
       "      <td>September</td>\n",
       "      <td>2016</td>\n",
       "      <td>400</td>\n",
       "      <td>650</td>\n",
       "      <td>800</td>\n",
       "      <td>725</td>\n",
       "      <td>PB</td>\n",
       "      <td>ABOHAR</td>\n",
       "      <td>2016-09-01</td>\n",
       "    </tr>\n",
       "    <tr>\n",
       "      <th>80</th>\n",
       "      <td>ABOHAR(PB)</td>\n",
       "      <td>October</td>\n",
       "      <td>2016</td>\n",
       "      <td>350</td>\n",
       "      <td>700</td>\n",
       "      <td>900</td>\n",
       "      <td>850</td>\n",
       "      <td>PB</td>\n",
       "      <td>ABOHAR</td>\n",
       "      <td>2016-10-01</td>\n",
       "    </tr>\n",
       "    <tr>\n",
       "      <th>88</th>\n",
       "      <td>ABOHAR(PB)</td>\n",
       "      <td>November</td>\n",
       "      <td>2016</td>\n",
       "      <td>590</td>\n",
       "      <td>775</td>\n",
       "      <td>1059</td>\n",
       "      <td>888</td>\n",
       "      <td>PB</td>\n",
       "      <td>ABOHAR</td>\n",
       "      <td>2016-11-01</td>\n",
       "    </tr>\n",
       "    <tr>\n",
       "      <th>96</th>\n",
       "      <td>ABOHAR(PB)</td>\n",
       "      <td>December</td>\n",
       "      <td>2016</td>\n",
       "      <td>330</td>\n",
       "      <td>688</td>\n",
       "      <td>1100</td>\n",
       "      <td>873</td>\n",
       "      <td>PB</td>\n",
       "      <td>ABOHAR</td>\n",
       "      <td>2016-12-01</td>\n",
       "    </tr>\n",
       "    <tr>\n",
       "      <th>108</th>\n",
       "      <td>AGRA(UP)</td>\n",
       "      <td>January</td>\n",
       "      <td>2016</td>\n",
       "      <td>134200</td>\n",
       "      <td>1039</td>\n",
       "      <td>1443</td>\n",
       "      <td>1349</td>\n",
       "      <td>UP</td>\n",
       "      <td>AGRA</td>\n",
       "      <td>2016-01-01</td>\n",
       "    </tr>\n",
       "    <tr>\n",
       "      <th>121</th>\n",
       "      <td>AGRA(UP)</td>\n",
       "      <td>February</td>\n",
       "      <td>2016</td>\n",
       "      <td>124508</td>\n",
       "      <td>895</td>\n",
       "      <td>1220</td>\n",
       "      <td>1130</td>\n",
       "      <td>UP</td>\n",
       "      <td>AGRA</td>\n",
       "      <td>2016-02-01</td>\n",
       "    </tr>\n",
       "    <tr>\n",
       "      <th>132</th>\n",
       "      <td>AGRA(UP)</td>\n",
       "      <td>March</td>\n",
       "      <td>2016</td>\n",
       "      <td>120500</td>\n",
       "      <td>750</td>\n",
       "      <td>1085</td>\n",
       "      <td>1011</td>\n",
       "      <td>UP</td>\n",
       "      <td>AGRA</td>\n",
       "      <td>2016-03-01</td>\n",
       "    </tr>\n",
       "    <tr>\n",
       "      <th>144</th>\n",
       "      <td>AGRA(UP)</td>\n",
       "      <td>April</td>\n",
       "      <td>2016</td>\n",
       "      <td>99700</td>\n",
       "      <td>697</td>\n",
       "      <td>1020</td>\n",
       "      <td>957</td>\n",
       "      <td>UP</td>\n",
       "      <td>AGRA</td>\n",
       "      <td>2016-04-01</td>\n",
       "    </tr>\n",
       "  </tbody>\n",
       "</table>\n",
       "</div>"
      ],
      "text/plain": [
       "         market      month  year  quantity  priceMin  priceMax  priceMod  \\\n",
       "48   ABOHAR(PB)       June  2016       710       523       755       613   \n",
       "64   ABOHAR(PB)     August  2016        60       650      1065       850   \n",
       "72   ABOHAR(PB)  September  2016       400       650       800       725   \n",
       "80   ABOHAR(PB)    October  2016       350       700       900       850   \n",
       "88   ABOHAR(PB)   November  2016       590       775      1059       888   \n",
       "96   ABOHAR(PB)   December  2016       330       688      1100       873   \n",
       "108    AGRA(UP)    January  2016    134200      1039      1443      1349   \n",
       "121    AGRA(UP)   February  2016    124508       895      1220      1130   \n",
       "132    AGRA(UP)      March  2016    120500       750      1085      1011   \n",
       "144    AGRA(UP)      April  2016     99700       697      1020       957   \n",
       "\n",
       "    state    city       date  \n",
       "48     PB  ABOHAR 2016-06-01  \n",
       "64     PB  ABOHAR 2016-08-01  \n",
       "72     PB  ABOHAR 2016-09-01  \n",
       "80     PB  ABOHAR 2016-10-01  \n",
       "88     PB  ABOHAR 2016-11-01  \n",
       "96     PB  ABOHAR 2016-12-01  \n",
       "108    UP    AGRA 2016-01-01  \n",
       "121    UP    AGRA 2016-02-01  \n",
       "132    UP    AGRA 2016-03-01  \n",
       "144    UP    AGRA 2016-04-01  "
      ]
     },
     "execution_count": 22,
     "metadata": {},
     "output_type": "execute_result"
    }
   ],
   "source": [
    "df2016.head(10)"
   ]
  },
  {
   "cell_type": "code",
   "execution_count": 24,
   "metadata": {
    "collapsed": true
   },
   "outputs": [],
   "source": [
    "# We can also subset on multiple criterias\n",
    "df2016Bang = df[(df.year == 2016) & (df.city == 'BANGALORE')]"
   ]
  },
  {
   "cell_type": "code",
   "execution_count": 25,
   "metadata": {},
   "outputs": [
    {
     "data": {
      "text/html": [
       "<div>\n",
       "<style>\n",
       "    .dataframe thead tr:only-child th {\n",
       "        text-align: right;\n",
       "    }\n",
       "\n",
       "    .dataframe thead th {\n",
       "        text-align: left;\n",
       "    }\n",
       "\n",
       "    .dataframe tbody tr th {\n",
       "        vertical-align: top;\n",
       "    }\n",
       "</style>\n",
       "<table border=\"1\" class=\"dataframe\">\n",
       "  <thead>\n",
       "    <tr style=\"text-align: right;\">\n",
       "      <th></th>\n",
       "      <th>market</th>\n",
       "      <th>month</th>\n",
       "      <th>year</th>\n",
       "      <th>quantity</th>\n",
       "      <th>priceMin</th>\n",
       "      <th>priceMax</th>\n",
       "      <th>priceMod</th>\n",
       "      <th>state</th>\n",
       "      <th>city</th>\n",
       "      <th>date</th>\n",
       "    </tr>\n",
       "  </thead>\n",
       "  <tbody>\n",
       "    <tr>\n",
       "      <th>859</th>\n",
       "      <td>BANGALORE</td>\n",
       "      <td>January</td>\n",
       "      <td>2016</td>\n",
       "      <td>507223</td>\n",
       "      <td>200</td>\n",
       "      <td>1943</td>\n",
       "      <td>1448</td>\n",
       "      <td>KT</td>\n",
       "      <td>BANGALORE</td>\n",
       "      <td>2016-01-01</td>\n",
       "    </tr>\n",
       "    <tr>\n",
       "      <th>873</th>\n",
       "      <td>BANGALORE</td>\n",
       "      <td>February</td>\n",
       "      <td>2016</td>\n",
       "      <td>465640</td>\n",
       "      <td>200</td>\n",
       "      <td>1426</td>\n",
       "      <td>1027</td>\n",
       "      <td>KT</td>\n",
       "      <td>BANGALORE</td>\n",
       "      <td>2016-02-01</td>\n",
       "    </tr>\n",
       "    <tr>\n",
       "      <th>886</th>\n",
       "      <td>BANGALORE</td>\n",
       "      <td>March</td>\n",
       "      <td>2016</td>\n",
       "      <td>444696</td>\n",
       "      <td>200</td>\n",
       "      <td>1075</td>\n",
       "      <td>750</td>\n",
       "      <td>KT</td>\n",
       "      <td>BANGALORE</td>\n",
       "      <td>2016-03-01</td>\n",
       "    </tr>\n",
       "    <tr>\n",
       "      <th>899</th>\n",
       "      <td>BANGALORE</td>\n",
       "      <td>April</td>\n",
       "      <td>2016</td>\n",
       "      <td>426567</td>\n",
       "      <td>200</td>\n",
       "      <td>1102</td>\n",
       "      <td>753</td>\n",
       "      <td>KT</td>\n",
       "      <td>BANGALORE</td>\n",
       "      <td>2016-04-01</td>\n",
       "    </tr>\n",
       "    <tr>\n",
       "      <th>912</th>\n",
       "      <td>BANGALORE</td>\n",
       "      <td>May</td>\n",
       "      <td>2016</td>\n",
       "      <td>465936</td>\n",
       "      <td>218</td>\n",
       "      <td>1111</td>\n",
       "      <td>803</td>\n",
       "      <td>KT</td>\n",
       "      <td>BANGALORE</td>\n",
       "      <td>2016-05-01</td>\n",
       "    </tr>\n",
       "    <tr>\n",
       "      <th>925</th>\n",
       "      <td>BANGALORE</td>\n",
       "      <td>June</td>\n",
       "      <td>2016</td>\n",
       "      <td>418794</td>\n",
       "      <td>187</td>\n",
       "      <td>1276</td>\n",
       "      <td>903</td>\n",
       "      <td>KT</td>\n",
       "      <td>BANGALORE</td>\n",
       "      <td>2016-06-01</td>\n",
       "    </tr>\n",
       "    <tr>\n",
       "      <th>938</th>\n",
       "      <td>BANGALORE</td>\n",
       "      <td>July</td>\n",
       "      <td>2016</td>\n",
       "      <td>452828</td>\n",
       "      <td>200</td>\n",
       "      <td>1272</td>\n",
       "      <td>985</td>\n",
       "      <td>KT</td>\n",
       "      <td>BANGALORE</td>\n",
       "      <td>2016-07-01</td>\n",
       "    </tr>\n",
       "    <tr>\n",
       "      <th>951</th>\n",
       "      <td>BANGALORE</td>\n",
       "      <td>August</td>\n",
       "      <td>2016</td>\n",
       "      <td>562522</td>\n",
       "      <td>200</td>\n",
       "      <td>1208</td>\n",
       "      <td>897</td>\n",
       "      <td>KT</td>\n",
       "      <td>BANGALORE</td>\n",
       "      <td>2016-08-01</td>\n",
       "    </tr>\n",
       "    <tr>\n",
       "      <th>964</th>\n",
       "      <td>BANGALORE</td>\n",
       "      <td>September</td>\n",
       "      <td>2016</td>\n",
       "      <td>831895</td>\n",
       "      <td>195</td>\n",
       "      <td>1048</td>\n",
       "      <td>758</td>\n",
       "      <td>KT</td>\n",
       "      <td>BANGALORE</td>\n",
       "      <td>2016-09-01</td>\n",
       "    </tr>\n",
       "    <tr>\n",
       "      <th>977</th>\n",
       "      <td>BANGALORE</td>\n",
       "      <td>October</td>\n",
       "      <td>2016</td>\n",
       "      <td>1620273</td>\n",
       "      <td>216</td>\n",
       "      <td>1103</td>\n",
       "      <td>680</td>\n",
       "      <td>KT</td>\n",
       "      <td>BANGALORE</td>\n",
       "      <td>2016-10-01</td>\n",
       "    </tr>\n",
       "    <tr>\n",
       "      <th>990</th>\n",
       "      <td>BANGALORE</td>\n",
       "      <td>November</td>\n",
       "      <td>2016</td>\n",
       "      <td>1974018</td>\n",
       "      <td>196</td>\n",
       "      <td>1465</td>\n",
       "      <td>881</td>\n",
       "      <td>KT</td>\n",
       "      <td>BANGALORE</td>\n",
       "      <td>2016-11-01</td>\n",
       "    </tr>\n",
       "    <tr>\n",
       "      <th>1003</th>\n",
       "      <td>BANGALORE</td>\n",
       "      <td>December</td>\n",
       "      <td>2016</td>\n",
       "      <td>947081</td>\n",
       "      <td>192</td>\n",
       "      <td>1315</td>\n",
       "      <td>875</td>\n",
       "      <td>KT</td>\n",
       "      <td>BANGALORE</td>\n",
       "      <td>2016-12-01</td>\n",
       "    </tr>\n",
       "  </tbody>\n",
       "</table>\n",
       "</div>"
      ],
      "text/plain": [
       "         market      month  year  quantity  priceMin  priceMax  priceMod  \\\n",
       "859   BANGALORE    January  2016    507223       200      1943      1448   \n",
       "873   BANGALORE   February  2016    465640       200      1426      1027   \n",
       "886   BANGALORE      March  2016    444696       200      1075       750   \n",
       "899   BANGALORE      April  2016    426567       200      1102       753   \n",
       "912   BANGALORE        May  2016    465936       218      1111       803   \n",
       "925   BANGALORE       June  2016    418794       187      1276       903   \n",
       "938   BANGALORE       July  2016    452828       200      1272       985   \n",
       "951   BANGALORE     August  2016    562522       200      1208       897   \n",
       "964   BANGALORE  September  2016    831895       195      1048       758   \n",
       "977   BANGALORE    October  2016   1620273       216      1103       680   \n",
       "990   BANGALORE   November  2016   1974018       196      1465       881   \n",
       "1003  BANGALORE   December  2016    947081       192      1315       875   \n",
       "\n",
       "     state       city       date  \n",
       "859     KT  BANGALORE 2016-01-01  \n",
       "873     KT  BANGALORE 2016-02-01  \n",
       "886     KT  BANGALORE 2016-03-01  \n",
       "899     KT  BANGALORE 2016-04-01  \n",
       "912     KT  BANGALORE 2016-05-01  \n",
       "925     KT  BANGALORE 2016-06-01  \n",
       "938     KT  BANGALORE 2016-07-01  \n",
       "951     KT  BANGALORE 2016-08-01  \n",
       "964     KT  BANGALORE 2016-09-01  \n",
       "977     KT  BANGALORE 2016-10-01  \n",
       "990     KT  BANGALORE 2016-11-01  \n",
       "1003    KT  BANGALORE 2016-12-01  "
      ]
     },
     "execution_count": 25,
     "metadata": {},
     "output_type": "execute_result"
    }
   ],
   "source": [
    "df2016Bang"
   ]
  },
  {
   "cell_type": "markdown",
   "metadata": {},
   "source": [
    "### Exercise"
   ]
  },
  {
   "cell_type": "markdown",
   "metadata": {},
   "source": [
    "Subset the dataframe for Delhi in 2016."
   ]
  },
  {
   "cell_type": "code",
   "execution_count": 31,
   "metadata": {},
   "outputs": [
    {
     "data": {
      "text/html": [
       "<div>\n",
       "<table border=\"1\" class=\"dataframe\">\n",
       "  <thead>\n",
       "    <tr style=\"text-align: right;\">\n",
       "      <th></th>\n",
       "      <th>market</th>\n",
       "      <th>month</th>\n",
       "      <th>year</th>\n",
       "      <th>quantity</th>\n",
       "      <th>priceMin</th>\n",
       "      <th>priceMax</th>\n",
       "      <th>priceMod</th>\n",
       "      <th>state</th>\n",
       "      <th>city</th>\n",
       "      <th>date</th>\n",
       "    </tr>\n",
       "  </thead>\n",
       "  <tbody>\n",
       "    <tr>\n",
       "      <th>2378</th>\n",
       "      <td>DELHI</td>\n",
       "      <td>January</td>\n",
       "      <td>2003</td>\n",
       "      <td>246040</td>\n",
       "      <td>146</td>\n",
       "      <td>370</td>\n",
       "      <td>280</td>\n",
       "      <td>DL</td>\n",
       "      <td>DELHI</td>\n",
       "      <td>2003-01-01</td>\n",
       "    </tr>\n",
       "    <tr>\n",
       "      <th>2379</th>\n",
       "      <td>DELHI</td>\n",
       "      <td>January</td>\n",
       "      <td>2004</td>\n",
       "      <td>206360</td>\n",
       "      <td>471</td>\n",
       "      <td>1065</td>\n",
       "      <td>928</td>\n",
       "      <td>DL</td>\n",
       "      <td>DELHI</td>\n",
       "      <td>2004-01-01</td>\n",
       "    </tr>\n",
       "    <tr>\n",
       "      <th>2380</th>\n",
       "      <td>DELHI</td>\n",
       "      <td>January</td>\n",
       "      <td>2005</td>\n",
       "      <td>237510</td>\n",
       "      <td>212</td>\n",
       "      <td>551</td>\n",
       "      <td>489</td>\n",
       "      <td>DL</td>\n",
       "      <td>DELHI</td>\n",
       "      <td>2005-01-01</td>\n",
       "    </tr>\n",
       "    <tr>\n",
       "      <th>2381</th>\n",
       "      <td>DELHI</td>\n",
       "      <td>January</td>\n",
       "      <td>2006</td>\n",
       "      <td>246900</td>\n",
       "      <td>390</td>\n",
       "      <td>598</td>\n",
       "      <td>541</td>\n",
       "      <td>DL</td>\n",
       "      <td>DELHI</td>\n",
       "      <td>2006-01-01</td>\n",
       "    </tr>\n",
       "    <tr>\n",
       "      <th>2382</th>\n",
       "      <td>DELHI</td>\n",
       "      <td>January</td>\n",
       "      <td>2007</td>\n",
       "      <td>190560</td>\n",
       "      <td>808</td>\n",
       "      <td>1215</td>\n",
       "      <td>1022</td>\n",
       "      <td>DL</td>\n",
       "      <td>DELHI</td>\n",
       "      <td>2007-01-01</td>\n",
       "    </tr>\n",
       "  </tbody>\n",
       "</table>\n",
       "</div>"
      ],
      "text/plain": [
       "     market    month  year  quantity  priceMin  priceMax  priceMod state  \\\n",
       "2378  DELHI  January  2003    246040       146       370       280    DL   \n",
       "2379  DELHI  January  2004    206360       471      1065       928    DL   \n",
       "2380  DELHI  January  2005    237510       212       551       489    DL   \n",
       "2381  DELHI  January  2006    246900       390       598       541    DL   \n",
       "2382  DELHI  January  2007    190560       808      1215      1022    DL   \n",
       "\n",
       "       city       date  \n",
       "2378  DELHI 2003-01-01  \n",
       "2379  DELHI 2004-01-01  \n",
       "2380  DELHI 2005-01-01  \n",
       "2381  DELHI 2006-01-01  \n",
       "2382  DELHI 2007-01-01  "
      ]
     },
     "execution_count": 31,
     "metadata": {},
     "output_type": "execute_result"
    }
   ],
   "source": [
    "dfDelhi = df[df.city == \"DELHI\"]\n",
    "dfDelhi.head()"
   ]
  },
  {
   "cell_type": "markdown",
   "metadata": {},
   "source": [
    "Find the city with the highest onion quantity sold in a month?"
   ]
  },
  {
   "cell_type": "code",
   "execution_count": 33,
   "metadata": {},
   "outputs": [
    {
     "data": {
      "text/html": [
       "<div>\n",
       "<table border=\"1\" class=\"dataframe\">\n",
       "  <thead>\n",
       "    <tr style=\"text-align: right;\">\n",
       "      <th></th>\n",
       "      <th>market</th>\n",
       "      <th>month</th>\n",
       "      <th>year</th>\n",
       "      <th>quantity</th>\n",
       "      <th>priceMin</th>\n",
       "      <th>priceMax</th>\n",
       "      <th>priceMod</th>\n",
       "      <th>state</th>\n",
       "      <th>city</th>\n",
       "      <th>date</th>\n",
       "    </tr>\n",
       "  </thead>\n",
       "  <tbody>\n",
       "    <tr>\n",
       "      <th>990</th>\n",
       "      <td>BANGALORE</td>\n",
       "      <td>November</td>\n",
       "      <td>2016</td>\n",
       "      <td>1974018</td>\n",
       "      <td>196</td>\n",
       "      <td>1465</td>\n",
       "      <td>881</td>\n",
       "      <td>KT</td>\n",
       "      <td>BANGALORE</td>\n",
       "      <td>2016-11-01</td>\n",
       "    </tr>\n",
       "    <tr>\n",
       "      <th>974</th>\n",
       "      <td>BANGALORE</td>\n",
       "      <td>October</td>\n",
       "      <td>2013</td>\n",
       "      <td>1639032</td>\n",
       "      <td>2213</td>\n",
       "      <td>4698</td>\n",
       "      <td>3430</td>\n",
       "      <td>KT</td>\n",
       "      <td>BANGALORE</td>\n",
       "      <td>2013-10-01</td>\n",
       "    </tr>\n",
       "    <tr>\n",
       "      <th>977</th>\n",
       "      <td>BANGALORE</td>\n",
       "      <td>October</td>\n",
       "      <td>2016</td>\n",
       "      <td>1620273</td>\n",
       "      <td>216</td>\n",
       "      <td>1103</td>\n",
       "      <td>680</td>\n",
       "      <td>KT</td>\n",
       "      <td>BANGALORE</td>\n",
       "      <td>2016-10-01</td>\n",
       "    </tr>\n",
       "    <tr>\n",
       "      <th>976</th>\n",
       "      <td>BANGALORE</td>\n",
       "      <td>October</td>\n",
       "      <td>2015</td>\n",
       "      <td>1612160</td>\n",
       "      <td>385</td>\n",
       "      <td>3365</td>\n",
       "      <td>2215</td>\n",
       "      <td>KT</td>\n",
       "      <td>BANGALORE</td>\n",
       "      <td>2015-10-01</td>\n",
       "    </tr>\n",
       "    <tr>\n",
       "      <th>968</th>\n",
       "      <td>BANGALORE</td>\n",
       "      <td>October</td>\n",
       "      <td>2007</td>\n",
       "      <td>1437923</td>\n",
       "      <td>409</td>\n",
       "      <td>1323</td>\n",
       "      <td>1043</td>\n",
       "      <td>KT</td>\n",
       "      <td>BANGALORE</td>\n",
       "      <td>2007-10-01</td>\n",
       "    </tr>\n",
       "  </tbody>\n",
       "</table>\n",
       "</div>"
      ],
      "text/plain": [
       "        market     month  year  quantity  priceMin  priceMax  priceMod state  \\\n",
       "990  BANGALORE  November  2016   1974018       196      1465       881    KT   \n",
       "974  BANGALORE   October  2013   1639032      2213      4698      3430    KT   \n",
       "977  BANGALORE   October  2016   1620273       216      1103       680    KT   \n",
       "976  BANGALORE   October  2015   1612160       385      3365      2215    KT   \n",
       "968  BANGALORE   October  2007   1437923       409      1323      1043    KT   \n",
       "\n",
       "          city       date  \n",
       "990  BANGALORE 2016-11-01  \n",
       "974  BANGALORE 2013-10-01  \n",
       "977  BANGALORE 2016-10-01  \n",
       "976  BANGALORE 2015-10-01  \n",
       "968  BANGALORE 2007-10-01  "
      ]
     },
     "execution_count": 33,
     "metadata": {},
     "output_type": "execute_result"
    }
   ],
   "source": [
    "df.sort_values(by='quantity', ascending = False).head()"
   ]
  },
  {
   "cell_type": "code",
   "execution_count": 26,
   "metadata": {},
   "outputs": [
    {
     "data": {
      "text/plain": [
       "12000"
      ]
     },
     "execution_count": 26,
     "metadata": {},
     "output_type": "execute_result"
    }
   ],
   "source": [
    "df.priceMax.max()"
   ]
  },
  {
   "cell_type": "code",
   "execution_count": 27,
   "metadata": {},
   "outputs": [
    {
     "data": {
      "text/html": [
       "<div>\n",
       "<style>\n",
       "    .dataframe thead tr:only-child th {\n",
       "        text-align: right;\n",
       "    }\n",
       "\n",
       "    .dataframe thead th {\n",
       "        text-align: left;\n",
       "    }\n",
       "\n",
       "    .dataframe tbody tr th {\n",
       "        vertical-align: top;\n",
       "    }\n",
       "</style>\n",
       "<table border=\"1\" class=\"dataframe\">\n",
       "  <thead>\n",
       "    <tr style=\"text-align: right;\">\n",
       "      <th></th>\n",
       "      <th>market</th>\n",
       "      <th>month</th>\n",
       "      <th>year</th>\n",
       "      <th>quantity</th>\n",
       "      <th>priceMin</th>\n",
       "      <th>priceMax</th>\n",
       "      <th>priceMod</th>\n",
       "      <th>state</th>\n",
       "      <th>city</th>\n",
       "      <th>date</th>\n",
       "    </tr>\n",
       "  </thead>\n",
       "  <tbody>\n",
       "    <tr>\n",
       "      <th>8936</th>\n",
       "      <td>PIPLYA (M.P.)</td>\n",
       "      <td>August</td>\n",
       "      <td>2016</td>\n",
       "      <td>2300</td>\n",
       "      <td>3000</td>\n",
       "      <td>12000</td>\n",
       "      <td>7800</td>\n",
       "      <td>MP</td>\n",
       "      <td>PIPLYA</td>\n",
       "      <td>2016-08-01</td>\n",
       "    </tr>\n",
       "  </tbody>\n",
       "</table>\n",
       "</div>"
      ],
      "text/plain": [
       "             market   month  year  quantity  priceMin  priceMax  priceMod  \\\n",
       "8936  PIPLYA (M.P.)  August  2016      2300      3000     12000      7800   \n",
       "\n",
       "     state     city       date  \n",
       "8936    MP  PIPLYA  2016-08-01  "
      ]
     },
     "execution_count": 27,
     "metadata": {},
     "output_type": "execute_result"
    }
   ],
   "source": [
    "df[df.priceMax == df.priceMax.max()]"
   ]
  },
  {
   "cell_type": "code",
   "execution_count": 28,
   "metadata": {},
   "outputs": [
    {
     "data": {
      "text/html": [
       "<div>\n",
       "<style>\n",
       "    .dataframe thead tr:only-child th {\n",
       "        text-align: right;\n",
       "    }\n",
       "\n",
       "    .dataframe thead th {\n",
       "        text-align: left;\n",
       "    }\n",
       "\n",
       "    .dataframe tbody tr th {\n",
       "        vertical-align: top;\n",
       "    }\n",
       "</style>\n",
       "<table border=\"1\" class=\"dataframe\">\n",
       "  <thead>\n",
       "    <tr style=\"text-align: right;\">\n",
       "      <th></th>\n",
       "      <th>market</th>\n",
       "      <th>month</th>\n",
       "      <th>year</th>\n",
       "      <th>quantity</th>\n",
       "      <th>priceMin</th>\n",
       "      <th>priceMax</th>\n",
       "      <th>priceMod</th>\n",
       "      <th>state</th>\n",
       "      <th>city</th>\n",
       "      <th>date</th>\n",
       "    </tr>\n",
       "  </thead>\n",
       "  <tbody>\n",
       "    <tr>\n",
       "      <th>8936</th>\n",
       "      <td>PIPLYA (M.P.)</td>\n",
       "      <td>August</td>\n",
       "      <td>2016</td>\n",
       "      <td>2300</td>\n",
       "      <td>3000</td>\n",
       "      <td>12000</td>\n",
       "      <td>7800</td>\n",
       "      <td>MP</td>\n",
       "      <td>PIPLYA</td>\n",
       "      <td>2016-08-01</td>\n",
       "    </tr>\n",
       "    <tr>\n",
       "      <th>11313</th>\n",
       "      <td>UJJAIN(MP)</td>\n",
       "      <td>August</td>\n",
       "      <td>2016</td>\n",
       "      <td>144</td>\n",
       "      <td>2000</td>\n",
       "      <td>10400</td>\n",
       "      <td>7557</td>\n",
       "      <td>MP</td>\n",
       "      <td>UJJAIN</td>\n",
       "      <td>2016-08-01</td>\n",
       "    </tr>\n",
       "    <tr>\n",
       "      <th>3271</th>\n",
       "      <td>DINDIGUL(TN)(Podis</td>\n",
       "      <td>December</td>\n",
       "      <td>2015</td>\n",
       "      <td>21200</td>\n",
       "      <td>1962</td>\n",
       "      <td>8192</td>\n",
       "      <td>5077</td>\n",
       "      <td>TN</td>\n",
       "      <td>DINDIGUL</td>\n",
       "      <td>2015-12-01</td>\n",
       "    </tr>\n",
       "    <tr>\n",
       "      <th>3261</th>\n",
       "      <td>DINDIGUL(TN)(Podis</td>\n",
       "      <td>November</td>\n",
       "      <td>2013</td>\n",
       "      <td>23950</td>\n",
       "      <td>4115</td>\n",
       "      <td>6977</td>\n",
       "      <td>5546</td>\n",
       "      <td>TN</td>\n",
       "      <td>DINDIGUL</td>\n",
       "      <td>2013-11-01</td>\n",
       "    </tr>\n",
       "    <tr>\n",
       "      <th>11185</th>\n",
       "      <td>TRIVENDRUM</td>\n",
       "      <td>October</td>\n",
       "      <td>2013</td>\n",
       "      <td>280</td>\n",
       "      <td>6000</td>\n",
       "      <td>6800</td>\n",
       "      <td>6400</td>\n",
       "      <td>KR</td>\n",
       "      <td>TRIVENDRUM</td>\n",
       "      <td>2013-10-01</td>\n",
       "    </tr>\n",
       "  </tbody>\n",
       "</table>\n",
       "</div>"
      ],
      "text/plain": [
       "                   market     month  year  quantity  priceMin  priceMax  \\\n",
       "8936        PIPLYA (M.P.)    August  2016      2300      3000     12000   \n",
       "11313          UJJAIN(MP)    August  2016       144      2000     10400   \n",
       "3271   DINDIGUL(TN)(Podis  December  2015     21200      1962      8192   \n",
       "3261   DINDIGUL(TN)(Podis  November  2013     23950      4115      6977   \n",
       "11185          TRIVENDRUM   October  2013       280      6000      6800   \n",
       "\n",
       "       priceMod state        city       date  \n",
       "8936       7800    MP     PIPLYA  2016-08-01  \n",
       "11313      7557    MP      UJJAIN 2016-08-01  \n",
       "3271       5077    TN    DINDIGUL 2015-12-01  \n",
       "3261       5546    TN    DINDIGUL 2013-11-01  \n",
       "11185      6400    KR  TRIVENDRUM 2013-10-01  "
      ]
     },
     "execution_count": 28,
     "metadata": {},
     "output_type": "execute_result"
    }
   ],
   "source": [
    "df.sort_values(by=\"priceMax\", ascending=False).head()"
   ]
  },
  {
   "cell_type": "code",
   "execution_count": null,
   "metadata": {
    "collapsed": true
   },
   "outputs": [],
   "source": []
  },
  {
   "cell_type": "markdown",
   "metadata": {},
   "source": [
    "###  Principle: Split Apply Combine\n",
    "\n",
    "How do we get the sum of quantity for each city.\n",
    "\n",
    "We need to **SPLIT** the data by each city, **APPLY** the sum to the quantity row and then **COMBINE** the data again\n",
    "\n",
    "\n",
    "![](../img/splitapplycombine.png)\n",
    "\n",
    "\n",
    "In pandas, we use the `groupby` function to do this."
   ]
  },
  {
   "cell_type": "code",
   "execution_count": 35,
   "metadata": {},
   "outputs": [
    {
     "data": {
      "text/html": [
       "<div>\n",
       "<table border=\"1\" class=\"dataframe\">\n",
       "  <thead>\n",
       "    <tr style=\"text-align: right;\">\n",
       "      <th></th>\n",
       "      <th>market</th>\n",
       "      <th>month</th>\n",
       "      <th>year</th>\n",
       "      <th>quantity</th>\n",
       "      <th>priceMin</th>\n",
       "      <th>priceMax</th>\n",
       "      <th>priceMod</th>\n",
       "      <th>state</th>\n",
       "      <th>city</th>\n",
       "      <th>date</th>\n",
       "    </tr>\n",
       "  </thead>\n",
       "  <tbody>\n",
       "    <tr>\n",
       "      <th>0</th>\n",
       "      <td>ABOHAR(PB)</td>\n",
       "      <td>January</td>\n",
       "      <td>2005</td>\n",
       "      <td>2350</td>\n",
       "      <td>404</td>\n",
       "      <td>493</td>\n",
       "      <td>446</td>\n",
       "      <td>PB</td>\n",
       "      <td>ABOHAR</td>\n",
       "      <td>2005-01-01</td>\n",
       "    </tr>\n",
       "    <tr>\n",
       "      <th>1</th>\n",
       "      <td>ABOHAR(PB)</td>\n",
       "      <td>January</td>\n",
       "      <td>2006</td>\n",
       "      <td>900</td>\n",
       "      <td>487</td>\n",
       "      <td>638</td>\n",
       "      <td>563</td>\n",
       "      <td>PB</td>\n",
       "      <td>ABOHAR</td>\n",
       "      <td>2006-01-01</td>\n",
       "    </tr>\n",
       "    <tr>\n",
       "      <th>2</th>\n",
       "      <td>ABOHAR(PB)</td>\n",
       "      <td>January</td>\n",
       "      <td>2010</td>\n",
       "      <td>790</td>\n",
       "      <td>1283</td>\n",
       "      <td>1592</td>\n",
       "      <td>1460</td>\n",
       "      <td>PB</td>\n",
       "      <td>ABOHAR</td>\n",
       "      <td>2010-01-01</td>\n",
       "    </tr>\n",
       "    <tr>\n",
       "      <th>3</th>\n",
       "      <td>ABOHAR(PB)</td>\n",
       "      <td>January</td>\n",
       "      <td>2011</td>\n",
       "      <td>245</td>\n",
       "      <td>3067</td>\n",
       "      <td>3750</td>\n",
       "      <td>3433</td>\n",
       "      <td>PB</td>\n",
       "      <td>ABOHAR</td>\n",
       "      <td>2011-01-01</td>\n",
       "    </tr>\n",
       "    <tr>\n",
       "      <th>4</th>\n",
       "      <td>ABOHAR(PB)</td>\n",
       "      <td>January</td>\n",
       "      <td>2012</td>\n",
       "      <td>1035</td>\n",
       "      <td>523</td>\n",
       "      <td>686</td>\n",
       "      <td>605</td>\n",
       "      <td>PB</td>\n",
       "      <td>ABOHAR</td>\n",
       "      <td>2012-01-01</td>\n",
       "    </tr>\n",
       "  </tbody>\n",
       "</table>\n",
       "</div>"
      ],
      "text/plain": [
       "       market    month  year  quantity  priceMin  priceMax  priceMod state  \\\n",
       "0  ABOHAR(PB)  January  2005      2350       404       493       446    PB   \n",
       "1  ABOHAR(PB)  January  2006       900       487       638       563    PB   \n",
       "2  ABOHAR(PB)  January  2010       790      1283      1592      1460    PB   \n",
       "3  ABOHAR(PB)  January  2011       245      3067      3750      3433    PB   \n",
       "4  ABOHAR(PB)  January  2012      1035       523       686       605    PB   \n",
       "\n",
       "     city       date  \n",
       "0  ABOHAR 2005-01-01  \n",
       "1  ABOHAR 2006-01-01  \n",
       "2  ABOHAR 2010-01-01  \n",
       "3  ABOHAR 2011-01-01  \n",
       "4  ABOHAR 2012-01-01  "
      ]
     },
     "execution_count": 35,
     "metadata": {},
     "output_type": "execute_result"
    }
   ],
   "source": [
    "df.head()"
   ]
  },
  {
   "cell_type": "code",
   "execution_count": 41,
   "metadata": {},
   "outputs": [
    {
     "data": {
      "text/html": [
       "<div>\n",
       "<style>\n",
       "    .dataframe thead tr:only-child th {\n",
       "        text-align: right;\n",
       "    }\n",
       "\n",
       "    .dataframe thead th {\n",
       "        text-align: left;\n",
       "    }\n",
       "\n",
       "    .dataframe tbody tr th {\n",
       "        vertical-align: top;\n",
       "    }\n",
       "</style>\n",
       "<table border=\"1\" class=\"dataframe\">\n",
       "  <thead>\n",
       "    <tr style=\"text-align: right;\">\n",
       "      <th></th>\n",
       "      <th></th>\n",
       "      <th>market</th>\n",
       "      <th>quantity</th>\n",
       "      <th>priceMin</th>\n",
       "      <th>priceMax</th>\n",
       "      <th>priceMod</th>\n",
       "      <th>state</th>\n",
       "      <th>city</th>\n",
       "      <th>date</th>\n",
       "    </tr>\n",
       "    <tr>\n",
       "      <th>year</th>\n",
       "      <th>month</th>\n",
       "      <th></th>\n",
       "      <th></th>\n",
       "      <th></th>\n",
       "      <th></th>\n",
       "      <th></th>\n",
       "      <th></th>\n",
       "      <th></th>\n",
       "      <th></th>\n",
       "    </tr>\n",
       "  </thead>\n",
       "  <tbody>\n",
       "    <tr>\n",
       "      <th>2005</th>\n",
       "      <th>January</th>\n",
       "      <td>ABOHAR(PB)</td>\n",
       "      <td>2350</td>\n",
       "      <td>404</td>\n",
       "      <td>493</td>\n",
       "      <td>446</td>\n",
       "      <td>PB</td>\n",
       "      <td>ABOHAR</td>\n",
       "      <td>2005-01-01</td>\n",
       "    </tr>\n",
       "    <tr>\n",
       "      <th>2006</th>\n",
       "      <th>January</th>\n",
       "      <td>ABOHAR(PB)</td>\n",
       "      <td>900</td>\n",
       "      <td>487</td>\n",
       "      <td>638</td>\n",
       "      <td>563</td>\n",
       "      <td>PB</td>\n",
       "      <td>ABOHAR</td>\n",
       "      <td>2006-01-01</td>\n",
       "    </tr>\n",
       "    <tr>\n",
       "      <th>2010</th>\n",
       "      <th>January</th>\n",
       "      <td>ABOHAR(PB)</td>\n",
       "      <td>790</td>\n",
       "      <td>1283</td>\n",
       "      <td>1592</td>\n",
       "      <td>1460</td>\n",
       "      <td>PB</td>\n",
       "      <td>ABOHAR</td>\n",
       "      <td>2010-01-01</td>\n",
       "    </tr>\n",
       "    <tr>\n",
       "      <th>2011</th>\n",
       "      <th>January</th>\n",
       "      <td>ABOHAR(PB)</td>\n",
       "      <td>245</td>\n",
       "      <td>3067</td>\n",
       "      <td>3750</td>\n",
       "      <td>3433</td>\n",
       "      <td>PB</td>\n",
       "      <td>ABOHAR</td>\n",
       "      <td>2011-01-01</td>\n",
       "    </tr>\n",
       "    <tr>\n",
       "      <th>2012</th>\n",
       "      <th>January</th>\n",
       "      <td>ABOHAR(PB)</td>\n",
       "      <td>1035</td>\n",
       "      <td>523</td>\n",
       "      <td>686</td>\n",
       "      <td>605</td>\n",
       "      <td>PB</td>\n",
       "      <td>ABOHAR</td>\n",
       "      <td>2012-01-01</td>\n",
       "    </tr>\n",
       "  </tbody>\n",
       "</table>\n",
       "</div>"
      ],
      "text/plain": [
       "                  market  quantity  priceMin  priceMax  priceMod state  \\\n",
       "year month                                                               \n",
       "2005 January  ABOHAR(PB)      2350       404       493       446    PB   \n",
       "2006 January  ABOHAR(PB)       900       487       638       563    PB   \n",
       "2010 January  ABOHAR(PB)       790      1283      1592      1460    PB   \n",
       "2011 January  ABOHAR(PB)       245      3067      3750      3433    PB   \n",
       "2012 January  ABOHAR(PB)      1035       523       686       605    PB   \n",
       "\n",
       "                city       date  \n",
       "year month                       \n",
       "2005 January  ABOHAR 2005-01-01  \n",
       "2006 January  ABOHAR 2006-01-01  \n",
       "2010 January  ABOHAR 2010-01-01  \n",
       "2011 January  ABOHAR 2011-01-01  \n",
       "2012 January  ABOHAR 2012-01-01  "
      ]
     },
     "execution_count": 41,
     "metadata": {},
     "output_type": "execute_result"
    }
   ],
   "source": [
    "df.set_index(['year', 'month']).head()"
   ]
  },
  {
   "cell_type": "code",
   "execution_count": 42,
   "metadata": {
    "collapsed": true
   },
   "outputs": [],
   "source": [
    "??df.groupby"
   ]
  },
  {
   "cell_type": "code",
   "execution_count": 44,
   "metadata": {},
   "outputs": [
    {
     "data": {
      "text/plain": [
       "<bound method DataFrame.set_index of            market     month  year  quantity  priceMin  priceMax  priceMod  \\\n",
       "0      ABOHAR(PB)   January  2005      2350       404       493       446   \n",
       "1      ABOHAR(PB)   January  2006       900       487       638       563   \n",
       "2      ABOHAR(PB)   January  2010       790      1283      1592      1460   \n",
       "3      ABOHAR(PB)   January  2011       245      3067      3750      3433   \n",
       "4      ABOHAR(PB)   January  2012      1035       523       686       605   \n",
       "5      ABOHAR(PB)   January  2013       675      1327      1900      1605   \n",
       "6      ABOHAR(PB)   January  2014       440      1025      1481      1256   \n",
       "7      ABOHAR(PB)   January  2015      1305      1309      1858      1613   \n",
       "8      ABOHAR(PB)   January  2017       200       750      1000       850   \n",
       "9      ABOHAR(PB)  February  2005      1400       286       365       324   \n",
       "10     ABOHAR(PB)  February  2006      1800       343       411       380   \n",
       "11     ABOHAR(PB)  February  2010       555      1143      1460      1322   \n",
       "12     ABOHAR(PB)  February  2011       300       950      1400      1125   \n",
       "13     ABOHAR(PB)  February  2012       675       510       650       570   \n",
       "14     ABOHAR(PB)  February  2013       845      1400      1843      1629   \n",
       "15     ABOHAR(PB)  February  2014      1115       831      1163       983   \n",
       "16     ABOHAR(PB)  February  2015      1115      1200      1946      1688   \n",
       "17     ABOHAR(PB)     March  2005       900       281       357       322   \n",
       "18     ABOHAR(PB)     March  2006      3185       359       425       391   \n",
       "19     ABOHAR(PB)     March  2010       385       510       878       688   \n",
       "20     ABOHAR(PB)     March  2011       850       669      1042       855   \n",
       "21     ABOHAR(PB)     March  2012      1295       538       675       608   \n",
       "22     ABOHAR(PB)     March  2013      1055       920      1323      1080   \n",
       "23     ABOHAR(PB)     March  2014      1300       844      1181       994   \n",
       "24     ABOHAR(PB)     March  2015       920      1260      1980      1745   \n",
       "25     ABOHAR(PB)     April  2006      2100       326       400       366   \n",
       "26     ABOHAR(PB)     April  2010       840       466       755       611   \n",
       "27     ABOHAR(PB)     April  2011       495       436       625       553   \n",
       "28     ABOHAR(PB)     April  2012      2028       486       709       573   \n",
       "29     ABOHAR(PB)     April  2013       932       892      1225      1035   \n",
       "...           ...       ...   ...       ...       ...       ...       ...   \n",
       "11652   YEOLA(MS)   October  2013     16879      1334      4857      4224   \n",
       "11653   YEOLA(MS)   October  2014     56506       290      1682      1293   \n",
       "11654   YEOLA(MS)   October  2015     15593      1046      3537      2886   \n",
       "11655   YEOLA(MS)   October  2016    132500       176       755       490   \n",
       "11656   YEOLA(MS)  November  2004     10190       160       396       320   \n",
       "11657   YEOLA(MS)  November  2005      3796       420      1139       994   \n",
       "11658   YEOLA(MS)  November  2006     29782       195       566       457   \n",
       "11659   YEOLA(MS)  November  2007     34027       463       828       705   \n",
       "11660   YEOLA(MS)  November  2008     50510       455      1045       935   \n",
       "11661   YEOLA(MS)  November  2009     43403       642      1639      1407   \n",
       "11662   YEOLA(MS)  November  2010     24107       796      2960      2112   \n",
       "11663   YEOLA(MS)  November  2011     69034       276      1248       603   \n",
       "11664   YEOLA(MS)  November  2012     89208       319      1225       884   \n",
       "11665   YEOLA(MS)  November  2013     33067       575      2698      2096   \n",
       "11666   YEOLA(MS)  November  2014     42531       444      1632      1339   \n",
       "11667   YEOLA(MS)  November  2015     62522      1003      2460      1996   \n",
       "11668   YEOLA(MS)  November  2016     45954       207       780       572   \n",
       "11669   YEOLA(MS)  December  2004     83888       149       320       276   \n",
       "11670   YEOLA(MS)  December  2005    105734       223       474       432   \n",
       "11671   YEOLA(MS)  December  2006    123824       273       656       577   \n",
       "11672   YEOLA(MS)  December  2007    232281       250       478       388   \n",
       "11673   YEOLA(MS)  December  2008    128291       503      1070       969   \n",
       "11674   YEOLA(MS)  December  2009    112061       479      1536      1018   \n",
       "11675   YEOLA(MS)  December  2010     57586       541      2713      1830   \n",
       "11676   YEOLA(MS)  December  2011    131326       282       612       526   \n",
       "11677   YEOLA(MS)  December  2012    207066       485      1327      1136   \n",
       "11678   YEOLA(MS)  December  2013    215883       472      1427      1177   \n",
       "11679   YEOLA(MS)  December  2014    201077       446      1654      1456   \n",
       "11680   YEOLA(MS)  December  2015    223315       609      1446      1126   \n",
       "11681   YEOLA(MS)  December  2016    214937       256       753       634   \n",
       "\n",
       "      state    city       date  \n",
       "0        PB  ABOHAR 2005-01-01  \n",
       "1        PB  ABOHAR 2006-01-01  \n",
       "2        PB  ABOHAR 2010-01-01  \n",
       "3        PB  ABOHAR 2011-01-01  \n",
       "4        PB  ABOHAR 2012-01-01  \n",
       "5        PB  ABOHAR 2013-01-01  \n",
       "6        PB  ABOHAR 2014-01-01  \n",
       "7        PB  ABOHAR 2015-01-01  \n",
       "8        PB  ABOHAR 2017-01-01  \n",
       "9        PB  ABOHAR 2005-02-01  \n",
       "10       PB  ABOHAR 2006-02-01  \n",
       "11       PB  ABOHAR 2010-02-01  \n",
       "12       PB  ABOHAR 2011-02-01  \n",
       "13       PB  ABOHAR 2012-02-01  \n",
       "14       PB  ABOHAR 2013-02-01  \n",
       "15       PB  ABOHAR 2014-02-01  \n",
       "16       PB  ABOHAR 2015-02-01  \n",
       "17       PB  ABOHAR 2005-03-01  \n",
       "18       PB  ABOHAR 2006-03-01  \n",
       "19       PB  ABOHAR 2010-03-01  \n",
       "20       PB  ABOHAR 2011-03-01  \n",
       "21       PB  ABOHAR 2012-03-01  \n",
       "22       PB  ABOHAR 2013-03-01  \n",
       "23       PB  ABOHAR 2014-03-01  \n",
       "24       PB  ABOHAR 2015-03-01  \n",
       "25       PB  ABOHAR 2006-04-01  \n",
       "26       PB  ABOHAR 2010-04-01  \n",
       "27       PB  ABOHAR 2011-04-01  \n",
       "28       PB  ABOHAR 2012-04-01  \n",
       "29       PB  ABOHAR 2013-04-01  \n",
       "...     ...     ...        ...  \n",
       "11652    MH   YEOLA 2013-10-01  \n",
       "11653    MH   YEOLA 2014-10-01  \n",
       "11654    MH   YEOLA 2015-10-01  \n",
       "11655    MH   YEOLA 2016-10-01  \n",
       "11656    MH   YEOLA 2004-11-01  \n",
       "11657    MH   YEOLA 2005-11-01  \n",
       "11658    MH   YEOLA 2006-11-01  \n",
       "11659    MH   YEOLA 2007-11-01  \n",
       "11660    MH   YEOLA 2008-11-01  \n",
       "11661    MH   YEOLA 2009-11-01  \n",
       "11662    MH   YEOLA 2010-11-01  \n",
       "11663    MH   YEOLA 2011-11-01  \n",
       "11664    MH   YEOLA 2012-11-01  \n",
       "11665    MH   YEOLA 2013-11-01  \n",
       "11666    MH   YEOLA 2014-11-01  \n",
       "11667    MH   YEOLA 2015-11-01  \n",
       "11668    MH   YEOLA 2016-11-01  \n",
       "11669    MH   YEOLA 2004-12-01  \n",
       "11670    MH   YEOLA 2005-12-01  \n",
       "11671    MH   YEOLA 2006-12-01  \n",
       "11672    MH   YEOLA 2007-12-01  \n",
       "11673    MH   YEOLA 2008-12-01  \n",
       "11674    MH   YEOLA 2009-12-01  \n",
       "11675    MH   YEOLA 2010-12-01  \n",
       "11676    MH   YEOLA 2011-12-01  \n",
       "11677    MH   YEOLA 2012-12-01  \n",
       "11678    MH   YEOLA 2013-12-01  \n",
       "11679    MH   YEOLA 2014-12-01  \n",
       "11680    MH   YEOLA 2015-12-01  \n",
       "11681    MH   YEOLA 2016-12-01  \n",
       "\n",
       "[11682 rows x 10 columns]>"
      ]
     },
     "execution_count": 44,
     "metadata": {},
     "output_type": "execute_result"
    }
   ],
   "source": [
    "df.set_index"
   ]
  },
  {
   "cell_type": "code",
   "execution_count": 45,
   "metadata": {},
   "outputs": [
    {
     "data": {
      "text/plain": [
       "city\n",
       "ABOHAR                2440\n",
       "AGRA               1348878\n",
       "AHMEDABAD          2110393\n",
       "AHMEDNAGAR         1289549\n",
       "AIGINIA MANDIA       53550\n",
       "Name: quantity, dtype: int64"
      ]
     },
     "execution_count": 45,
     "metadata": {},
     "output_type": "execute_result"
    }
   ],
   "source": [
    "df2016.groupby(['city']).quantity.sum().head()"
   ]
  },
  {
   "cell_type": "code",
   "execution_count": 46,
   "metadata": {
    "collapsed": true
   },
   "outputs": [],
   "source": [
    "# Group by using city\n",
    "df2016City = df2016.groupby(['city']).sum()"
   ]
  },
  {
   "cell_type": "code",
   "execution_count": 47,
   "metadata": {},
   "outputs": [
    {
     "data": {
      "text/html": [
       "<div>\n",
       "<style>\n",
       "    .dataframe thead tr:only-child th {\n",
       "        text-align: right;\n",
       "    }\n",
       "\n",
       "    .dataframe thead th {\n",
       "        text-align: left;\n",
       "    }\n",
       "\n",
       "    .dataframe tbody tr th {\n",
       "        vertical-align: top;\n",
       "    }\n",
       "</style>\n",
       "<table border=\"1\" class=\"dataframe\">\n",
       "  <thead>\n",
       "    <tr style=\"text-align: right;\">\n",
       "      <th></th>\n",
       "      <th>year</th>\n",
       "      <th>quantity</th>\n",
       "      <th>priceMin</th>\n",
       "      <th>priceMax</th>\n",
       "      <th>priceMod</th>\n",
       "    </tr>\n",
       "    <tr>\n",
       "      <th>city</th>\n",
       "      <th></th>\n",
       "      <th></th>\n",
       "      <th></th>\n",
       "      <th></th>\n",
       "      <th></th>\n",
       "    </tr>\n",
       "  </thead>\n",
       "  <tbody>\n",
       "    <tr>\n",
       "      <th>ABOHAR</th>\n",
       "      <td>12096</td>\n",
       "      <td>2440</td>\n",
       "      <td>3986</td>\n",
       "      <td>5679</td>\n",
       "      <td>4799</td>\n",
       "    </tr>\n",
       "    <tr>\n",
       "      <th>AGRA</th>\n",
       "      <td>24192</td>\n",
       "      <td>1348878</td>\n",
       "      <td>10239</td>\n",
       "      <td>13570</td>\n",
       "      <td>12182</td>\n",
       "    </tr>\n",
       "    <tr>\n",
       "      <th>AHMEDABAD</th>\n",
       "      <td>24192</td>\n",
       "      <td>2110393</td>\n",
       "      <td>5483</td>\n",
       "      <td>11405</td>\n",
       "      <td>8812</td>\n",
       "    </tr>\n",
       "    <tr>\n",
       "      <th>AHMEDNAGAR</th>\n",
       "      <td>22176</td>\n",
       "      <td>1289549</td>\n",
       "      <td>1451</td>\n",
       "      <td>13610</td>\n",
       "      <td>9084</td>\n",
       "    </tr>\n",
       "    <tr>\n",
       "      <th>AIGINIA MANDIA</th>\n",
       "      <td>10080</td>\n",
       "      <td>53550</td>\n",
       "      <td>5540</td>\n",
       "      <td>6529</td>\n",
       "      <td>6029</td>\n",
       "    </tr>\n",
       "  </tbody>\n",
       "</table>\n",
       "</div>"
      ],
      "text/plain": [
       "                  year  quantity  priceMin  priceMax  priceMod\n",
       "city                                                          \n",
       "ABOHAR           12096      2440      3986      5679      4799\n",
       "AGRA             24192   1348878     10239     13570     12182\n",
       "AHMEDABAD        24192   2110393      5483     11405      8812\n",
       "AHMEDNAGAR       22176   1289549      1451     13610      9084\n",
       "AIGINIA MANDIA   10080     53550      5540      6529      6029"
      ]
     },
     "execution_count": 47,
     "metadata": {},
     "output_type": "execute_result"
    }
   ],
   "source": [
    "df2016City.head()"
   ]
  },
  {
   "cell_type": "code",
   "execution_count": 48,
   "metadata": {},
   "outputs": [
    {
     "data": {
      "text/plain": [
       "pandas.core.frame.DataFrame"
      ]
     },
     "execution_count": 48,
     "metadata": {},
     "output_type": "execute_result"
    }
   ],
   "source": [
    "type(df2016City)"
   ]
  },
  {
   "cell_type": "code",
   "execution_count": 49,
   "metadata": {
    "collapsed": true
   },
   "outputs": [],
   "source": [
    "# If we only want to apply the sum function on quantity, then we specify the quantity column\n",
    "df2016City = df2016.groupby(['city']).quantity.sum()"
   ]
  },
  {
   "cell_type": "code",
   "execution_count": 51,
   "metadata": {
    "collapsed": true
   },
   "outputs": [],
   "source": [
    "df2016City = df2016.groupby(['city'], as_index=False).sum()"
   ]
  },
  {
   "cell_type": "code",
   "execution_count": 52,
   "metadata": {},
   "outputs": [
    {
     "data": {
      "text/html": [
       "<div>\n",
       "<style>\n",
       "    .dataframe thead tr:only-child th {\n",
       "        text-align: right;\n",
       "    }\n",
       "\n",
       "    .dataframe thead th {\n",
       "        text-align: left;\n",
       "    }\n",
       "\n",
       "    .dataframe tbody tr th {\n",
       "        vertical-align: top;\n",
       "    }\n",
       "</style>\n",
       "<table border=\"1\" class=\"dataframe\">\n",
       "  <thead>\n",
       "    <tr style=\"text-align: right;\">\n",
       "      <th></th>\n",
       "      <th>city</th>\n",
       "      <th>year</th>\n",
       "      <th>quantity</th>\n",
       "      <th>priceMin</th>\n",
       "      <th>priceMax</th>\n",
       "      <th>priceMod</th>\n",
       "    </tr>\n",
       "  </thead>\n",
       "  <tbody>\n",
       "    <tr>\n",
       "      <th>0</th>\n",
       "      <td>ABOHAR</td>\n",
       "      <td>12096</td>\n",
       "      <td>2440</td>\n",
       "      <td>3986</td>\n",
       "      <td>5679</td>\n",
       "      <td>4799</td>\n",
       "    </tr>\n",
       "    <tr>\n",
       "      <th>1</th>\n",
       "      <td>AGRA</td>\n",
       "      <td>24192</td>\n",
       "      <td>1348878</td>\n",
       "      <td>10239</td>\n",
       "      <td>13570</td>\n",
       "      <td>12182</td>\n",
       "    </tr>\n",
       "    <tr>\n",
       "      <th>2</th>\n",
       "      <td>AHMEDABAD</td>\n",
       "      <td>24192</td>\n",
       "      <td>2110393</td>\n",
       "      <td>5483</td>\n",
       "      <td>11405</td>\n",
       "      <td>8812</td>\n",
       "    </tr>\n",
       "    <tr>\n",
       "      <th>3</th>\n",
       "      <td>AHMEDNAGAR</td>\n",
       "      <td>22176</td>\n",
       "      <td>1289549</td>\n",
       "      <td>1451</td>\n",
       "      <td>13610</td>\n",
       "      <td>9084</td>\n",
       "    </tr>\n",
       "    <tr>\n",
       "      <th>4</th>\n",
       "      <td>AIGINIA MANDIA</td>\n",
       "      <td>10080</td>\n",
       "      <td>53550</td>\n",
       "      <td>5540</td>\n",
       "      <td>6529</td>\n",
       "      <td>6029</td>\n",
       "    </tr>\n",
       "  </tbody>\n",
       "</table>\n",
       "</div>"
      ],
      "text/plain": [
       "              city   year  quantity  priceMin  priceMax  priceMod\n",
       "0           ABOHAR  12096      2440      3986      5679      4799\n",
       "1             AGRA  24192   1348878     10239     13570     12182\n",
       "2        AHMEDABAD  24192   2110393      5483     11405      8812\n",
       "3       AHMEDNAGAR  22176   1289549      1451     13610      9084\n",
       "4  AIGINIA MANDIA   10080     53550      5540      6529      6029"
      ]
     },
     "execution_count": 52,
     "metadata": {},
     "output_type": "execute_result"
    }
   ],
   "source": [
    "# Let us see this dataframe\n",
    "df2016City.head()"
   ]
  },
  {
   "cell_type": "code",
   "execution_count": 47,
   "metadata": {
    "collapsed": true
   },
   "outputs": [],
   "source": [
    "# To create a dataframe again, it is best to specify index as false\n",
    "df2016City = df2016.groupby(['city'], as_index=False).quantity.sum()"
   ]
  },
  {
   "cell_type": "code",
   "execution_count": 48,
   "metadata": {},
   "outputs": [
    {
     "data": {
      "text/plain": [
       "market              object\n",
       "month               object\n",
       "year                 int64\n",
       "quantity             int64\n",
       "priceMin             int64\n",
       "priceMax             int64\n",
       "priceMod             int64\n",
       "state               object\n",
       "city                object\n",
       "date        datetime64[ns]\n",
       "dtype: object"
      ]
     },
     "execution_count": 48,
     "metadata": {},
     "output_type": "execute_result"
    }
   ],
   "source": [
    "df.dtypes"
   ]
  },
  {
   "cell_type": "code",
   "execution_count": 49,
   "metadata": {},
   "outputs": [
    {
     "data": {
      "text/html": [
       "<div>\n",
       "<table border=\"1\" class=\"dataframe\">\n",
       "  <thead>\n",
       "    <tr style=\"text-align: right;\">\n",
       "      <th></th>\n",
       "      <th>city</th>\n",
       "      <th>quantity</th>\n",
       "    </tr>\n",
       "  </thead>\n",
       "  <tbody>\n",
       "    <tr>\n",
       "      <th>0</th>\n",
       "      <td>ABOHAR</td>\n",
       "      <td>2440</td>\n",
       "    </tr>\n",
       "    <tr>\n",
       "      <th>1</th>\n",
       "      <td>AGRA</td>\n",
       "      <td>1348878</td>\n",
       "    </tr>\n",
       "    <tr>\n",
       "      <th>2</th>\n",
       "      <td>AHMEDABAD</td>\n",
       "      <td>2110393</td>\n",
       "    </tr>\n",
       "    <tr>\n",
       "      <th>3</th>\n",
       "      <td>AHMEDNAGAR</td>\n",
       "      <td>1289549</td>\n",
       "    </tr>\n",
       "    <tr>\n",
       "      <th>4</th>\n",
       "      <td>AIGINIA MANDIA</td>\n",
       "      <td>53550</td>\n",
       "    </tr>\n",
       "  </tbody>\n",
       "</table>\n",
       "</div>"
      ],
      "text/plain": [
       "              city  quantity\n",
       "0           ABOHAR      2440\n",
       "1             AGRA   1348878\n",
       "2        AHMEDABAD   2110393\n",
       "3       AHMEDNAGAR   1289549\n",
       "4  AIGINIA MANDIA      53550"
      ]
     },
     "execution_count": 49,
     "metadata": {},
     "output_type": "execute_result"
    }
   ],
   "source": [
    "df2016City.head()"
   ]
  },
  {
   "cell_type": "code",
   "execution_count": 50,
   "metadata": {},
   "outputs": [
    {
     "data": {
      "text/plain": [
       "market              object\n",
       "month               object\n",
       "year                 int64\n",
       "quantity             int64\n",
       "priceMin             int64\n",
       "priceMax             int64\n",
       "priceMod             int64\n",
       "state               object\n",
       "city                object\n",
       "date        datetime64[ns]\n",
       "dtype: object"
      ]
     },
     "execution_count": 50,
     "metadata": {},
     "output_type": "execute_result"
    }
   ],
   "source": [
    "df.dtypes"
   ]
  },
  {
   "cell_type": "markdown",
   "metadata": {},
   "source": [
    "### PRINCIPLE: Sorting"
   ]
  },
  {
   "cell_type": "code",
   "execution_count": 51,
   "metadata": {},
   "outputs": [
    {
     "data": {
      "text/html": [
       "<div>\n",
       "<table border=\"1\" class=\"dataframe\">\n",
       "  <thead>\n",
       "    <tr style=\"text-align: right;\">\n",
       "      <th></th>\n",
       "      <th>city</th>\n",
       "      <th>quantity</th>\n",
       "    </tr>\n",
       "  </thead>\n",
       "  <tbody>\n",
       "    <tr>\n",
       "      <th>156</th>\n",
       "      <td>SRINIVASPUR</td>\n",
       "      <td>70</td>\n",
       "    </tr>\n",
       "    <tr>\n",
       "      <th>32</th>\n",
       "      <td>CHALA</td>\n",
       "      <td>130</td>\n",
       "    </tr>\n",
       "    <tr>\n",
       "      <th>46</th>\n",
       "      <td>DEWAS</td>\n",
       "      <td>237</td>\n",
       "    </tr>\n",
       "    <tr>\n",
       "      <th>10</th>\n",
       "      <td>ANGUL</td>\n",
       "      <td>490</td>\n",
       "    </tr>\n",
       "    <tr>\n",
       "      <th>119</th>\n",
       "      <td>PALAMANER</td>\n",
       "      <td>500</td>\n",
       "    </tr>\n",
       "  </tbody>\n",
       "</table>\n",
       "</div>"
      ],
      "text/plain": [
       "             city  quantity\n",
       "156  SRINIVASPUR         70\n",
       "32         CHALA        130\n",
       "46          DEWAS       237\n",
       "10          ANGUL       490\n",
       "119    PALAMANER        500"
      ]
     },
     "execution_count": 51,
     "metadata": {},
     "output_type": "execute_result"
    }
   ],
   "source": [
    "# Sort the Dataframe by Quantity to see which one is on top\n",
    "df2016City = df2016City.sort_values(by = \"quantity\")\n",
    "df2016City.head()"
   ]
  },
  {
   "cell_type": "code",
   "execution_count": 52,
   "metadata": {},
   "outputs": [
    {
     "data": {
      "text/html": [
       "<div>\n",
       "<table border=\"1\" class=\"dataframe\">\n",
       "  <thead>\n",
       "    <tr style=\"text-align: right;\">\n",
       "      <th></th>\n",
       "      <th>city</th>\n",
       "      <th>quantity</th>\n",
       "    </tr>\n",
       "  </thead>\n",
       "  <tbody>\n",
       "    <tr>\n",
       "      <th>15</th>\n",
       "      <td>BANGALORE</td>\n",
       "      <td>9117473</td>\n",
       "    </tr>\n",
       "    <tr>\n",
       "      <th>102</th>\n",
       "      <td>MAHUVA</td>\n",
       "      <td>6144573</td>\n",
       "    </tr>\n",
       "    <tr>\n",
       "      <th>126</th>\n",
       "      <td>PIMPALGAON</td>\n",
       "      <td>3836046</td>\n",
       "    </tr>\n",
       "    <tr>\n",
       "      <th>154</th>\n",
       "      <td>SOLAPUR</td>\n",
       "      <td>3767140</td>\n",
       "    </tr>\n",
       "    <tr>\n",
       "      <th>129</th>\n",
       "      <td>PUNE</td>\n",
       "      <td>3493535</td>\n",
       "    </tr>\n",
       "  </tbody>\n",
       "</table>\n",
       "</div>"
      ],
      "text/plain": [
       "           city  quantity\n",
       "15    BANGALORE   9117473\n",
       "102      MAHUVA   6144573\n",
       "126  PIMPALGAON   3836046\n",
       "154     SOLAPUR   3767140\n",
       "129        PUNE   3493535"
      ]
     },
     "execution_count": 52,
     "metadata": {},
     "output_type": "execute_result"
    }
   ],
   "source": [
    "df2016City = df2016City.sort_values(by = \"quantity\", ascending = False)\n",
    "df2016City.head()"
   ]
  },
  {
   "cell_type": "markdown",
   "metadata": {},
   "source": [
    "### Exercise"
   ]
  },
  {
   "cell_type": "markdown",
   "metadata": {},
   "source": [
    "Find the top 10 city with highest average monthly sales in the last 5 years (from 2012 to 2016)?"
   ]
  },
  {
   "cell_type": "code",
   "execution_count": 60,
   "metadata": {},
   "outputs": [
    {
     "data": {
      "text/html": [
       "<div>\n",
       "<table border=\"1\" class=\"dataframe\">\n",
       "  <thead>\n",
       "    <tr style=\"text-align: right;\">\n",
       "      <th></th>\n",
       "      <th>market</th>\n",
       "      <th>month</th>\n",
       "      <th>year</th>\n",
       "      <th>quantity</th>\n",
       "      <th>priceMin</th>\n",
       "      <th>priceMax</th>\n",
       "      <th>priceMod</th>\n",
       "      <th>state</th>\n",
       "      <th>city</th>\n",
       "      <th>date</th>\n",
       "    </tr>\n",
       "  </thead>\n",
       "  <tbody>\n",
       "    <tr>\n",
       "      <th>0</th>\n",
       "      <td>ABOHAR(PB)</td>\n",
       "      <td>January</td>\n",
       "      <td>2005</td>\n",
       "      <td>2350</td>\n",
       "      <td>404</td>\n",
       "      <td>493</td>\n",
       "      <td>446</td>\n",
       "      <td>PB</td>\n",
       "      <td>ABOHAR</td>\n",
       "      <td>2005-01-01</td>\n",
       "    </tr>\n",
       "    <tr>\n",
       "      <th>1</th>\n",
       "      <td>ABOHAR(PB)</td>\n",
       "      <td>January</td>\n",
       "      <td>2006</td>\n",
       "      <td>900</td>\n",
       "      <td>487</td>\n",
       "      <td>638</td>\n",
       "      <td>563</td>\n",
       "      <td>PB</td>\n",
       "      <td>ABOHAR</td>\n",
       "      <td>2006-01-01</td>\n",
       "    </tr>\n",
       "    <tr>\n",
       "      <th>2</th>\n",
       "      <td>ABOHAR(PB)</td>\n",
       "      <td>January</td>\n",
       "      <td>2010</td>\n",
       "      <td>790</td>\n",
       "      <td>1283</td>\n",
       "      <td>1592</td>\n",
       "      <td>1460</td>\n",
       "      <td>PB</td>\n",
       "      <td>ABOHAR</td>\n",
       "      <td>2010-01-01</td>\n",
       "    </tr>\n",
       "    <tr>\n",
       "      <th>3</th>\n",
       "      <td>ABOHAR(PB)</td>\n",
       "      <td>January</td>\n",
       "      <td>2011</td>\n",
       "      <td>245</td>\n",
       "      <td>3067</td>\n",
       "      <td>3750</td>\n",
       "      <td>3433</td>\n",
       "      <td>PB</td>\n",
       "      <td>ABOHAR</td>\n",
       "      <td>2011-01-01</td>\n",
       "    </tr>\n",
       "    <tr>\n",
       "      <th>4</th>\n",
       "      <td>ABOHAR(PB)</td>\n",
       "      <td>January</td>\n",
       "      <td>2012</td>\n",
       "      <td>1035</td>\n",
       "      <td>523</td>\n",
       "      <td>686</td>\n",
       "      <td>605</td>\n",
       "      <td>PB</td>\n",
       "      <td>ABOHAR</td>\n",
       "      <td>2012-01-01</td>\n",
       "    </tr>\n",
       "  </tbody>\n",
       "</table>\n",
       "</div>"
      ],
      "text/plain": [
       "       market    month  year  quantity  priceMin  priceMax  priceMod state  \\\n",
       "0  ABOHAR(PB)  January  2005      2350       404       493       446    PB   \n",
       "1  ABOHAR(PB)  January  2006       900       487       638       563    PB   \n",
       "2  ABOHAR(PB)  January  2010       790      1283      1592      1460    PB   \n",
       "3  ABOHAR(PB)  January  2011       245      3067      3750      3433    PB   \n",
       "4  ABOHAR(PB)  January  2012      1035       523       686       605    PB   \n",
       "\n",
       "     city       date  \n",
       "0  ABOHAR 2005-01-01  \n",
       "1  ABOHAR 2006-01-01  \n",
       "2  ABOHAR 2010-01-01  \n",
       "3  ABOHAR 2011-01-01  \n",
       "4  ABOHAR 2012-01-01  "
      ]
     },
     "execution_count": 60,
     "metadata": {},
     "output_type": "execute_result"
    }
   ],
   "source": [
    "df.head()"
   ]
  },
  {
   "cell_type": "code",
   "execution_count": 61,
   "metadata": {
    "collapsed": true
   },
   "outputs": [],
   "source": [
    "df['value'] = df.quantity * df.priceMod"
   ]
  },
  {
   "cell_type": "code",
   "execution_count": 62,
   "metadata": {},
   "outputs": [
    {
     "data": {
      "text/html": [
       "<div>\n",
       "<table border=\"1\" class=\"dataframe\">\n",
       "  <thead>\n",
       "    <tr style=\"text-align: right;\">\n",
       "      <th></th>\n",
       "      <th>market</th>\n",
       "      <th>month</th>\n",
       "      <th>year</th>\n",
       "      <th>quantity</th>\n",
       "      <th>priceMin</th>\n",
       "      <th>priceMax</th>\n",
       "      <th>priceMod</th>\n",
       "      <th>state</th>\n",
       "      <th>city</th>\n",
       "      <th>date</th>\n",
       "      <th>value</th>\n",
       "    </tr>\n",
       "  </thead>\n",
       "  <tbody>\n",
       "    <tr>\n",
       "      <th>0</th>\n",
       "      <td>ABOHAR(PB)</td>\n",
       "      <td>January</td>\n",
       "      <td>2005</td>\n",
       "      <td>2350</td>\n",
       "      <td>404</td>\n",
       "      <td>493</td>\n",
       "      <td>446</td>\n",
       "      <td>PB</td>\n",
       "      <td>ABOHAR</td>\n",
       "      <td>2005-01-01</td>\n",
       "      <td>1048100</td>\n",
       "    </tr>\n",
       "    <tr>\n",
       "      <th>1</th>\n",
       "      <td>ABOHAR(PB)</td>\n",
       "      <td>January</td>\n",
       "      <td>2006</td>\n",
       "      <td>900</td>\n",
       "      <td>487</td>\n",
       "      <td>638</td>\n",
       "      <td>563</td>\n",
       "      <td>PB</td>\n",
       "      <td>ABOHAR</td>\n",
       "      <td>2006-01-01</td>\n",
       "      <td>506700</td>\n",
       "    </tr>\n",
       "    <tr>\n",
       "      <th>2</th>\n",
       "      <td>ABOHAR(PB)</td>\n",
       "      <td>January</td>\n",
       "      <td>2010</td>\n",
       "      <td>790</td>\n",
       "      <td>1283</td>\n",
       "      <td>1592</td>\n",
       "      <td>1460</td>\n",
       "      <td>PB</td>\n",
       "      <td>ABOHAR</td>\n",
       "      <td>2010-01-01</td>\n",
       "      <td>1153400</td>\n",
       "    </tr>\n",
       "    <tr>\n",
       "      <th>3</th>\n",
       "      <td>ABOHAR(PB)</td>\n",
       "      <td>January</td>\n",
       "      <td>2011</td>\n",
       "      <td>245</td>\n",
       "      <td>3067</td>\n",
       "      <td>3750</td>\n",
       "      <td>3433</td>\n",
       "      <td>PB</td>\n",
       "      <td>ABOHAR</td>\n",
       "      <td>2011-01-01</td>\n",
       "      <td>841085</td>\n",
       "    </tr>\n",
       "    <tr>\n",
       "      <th>4</th>\n",
       "      <td>ABOHAR(PB)</td>\n",
       "      <td>January</td>\n",
       "      <td>2012</td>\n",
       "      <td>1035</td>\n",
       "      <td>523</td>\n",
       "      <td>686</td>\n",
       "      <td>605</td>\n",
       "      <td>PB</td>\n",
       "      <td>ABOHAR</td>\n",
       "      <td>2012-01-01</td>\n",
       "      <td>626175</td>\n",
       "    </tr>\n",
       "  </tbody>\n",
       "</table>\n",
       "</div>"
      ],
      "text/plain": [
       "       market    month  year  quantity  priceMin  priceMax  priceMod state  \\\n",
       "0  ABOHAR(PB)  January  2005      2350       404       493       446    PB   \n",
       "1  ABOHAR(PB)  January  2006       900       487       638       563    PB   \n",
       "2  ABOHAR(PB)  January  2010       790      1283      1592      1460    PB   \n",
       "3  ABOHAR(PB)  January  2011       245      3067      3750      3433    PB   \n",
       "4  ABOHAR(PB)  January  2012      1035       523       686       605    PB   \n",
       "\n",
       "     city       date    value  \n",
       "0  ABOHAR 2005-01-01  1048100  \n",
       "1  ABOHAR 2006-01-01   506700  \n",
       "2  ABOHAR 2010-01-01  1153400  \n",
       "3  ABOHAR 2011-01-01   841085  \n",
       "4  ABOHAR 2012-01-01   626175  "
      ]
     },
     "execution_count": 62,
     "metadata": {},
     "output_type": "execute_result"
    }
   ],
   "source": [
    "df.head()"
   ]
  },
  {
   "cell_type": "code",
   "execution_count": null,
   "metadata": {
    "collapsed": true
   },
   "outputs": [],
   "source": []
  },
  {
   "cell_type": "code",
   "execution_count": 65,
   "metadata": {
    "collapsed": true
   },
   "outputs": [],
   "source": [
    "df5yrs = df[(df.year > 2011) & (df.year <2017)].copy()"
   ]
  },
  {
   "cell_type": "code",
   "execution_count": 66,
   "metadata": {},
   "outputs": [
    {
     "data": {
      "text/html": [
       "<div>\n",
       "<table border=\"1\" class=\"dataframe\">\n",
       "  <thead>\n",
       "    <tr style=\"text-align: right;\">\n",
       "      <th></th>\n",
       "      <th>market</th>\n",
       "      <th>month</th>\n",
       "      <th>year</th>\n",
       "      <th>quantity</th>\n",
       "      <th>priceMin</th>\n",
       "      <th>priceMax</th>\n",
       "      <th>priceMod</th>\n",
       "      <th>state</th>\n",
       "      <th>city</th>\n",
       "      <th>date</th>\n",
       "      <th>value</th>\n",
       "    </tr>\n",
       "  </thead>\n",
       "  <tbody>\n",
       "    <tr>\n",
       "      <th>4</th>\n",
       "      <td>ABOHAR(PB)</td>\n",
       "      <td>January</td>\n",
       "      <td>2012</td>\n",
       "      <td>1035</td>\n",
       "      <td>523</td>\n",
       "      <td>686</td>\n",
       "      <td>605</td>\n",
       "      <td>PB</td>\n",
       "      <td>ABOHAR</td>\n",
       "      <td>2012-01-01</td>\n",
       "      <td>626175</td>\n",
       "    </tr>\n",
       "    <tr>\n",
       "      <th>5</th>\n",
       "      <td>ABOHAR(PB)</td>\n",
       "      <td>January</td>\n",
       "      <td>2013</td>\n",
       "      <td>675</td>\n",
       "      <td>1327</td>\n",
       "      <td>1900</td>\n",
       "      <td>1605</td>\n",
       "      <td>PB</td>\n",
       "      <td>ABOHAR</td>\n",
       "      <td>2013-01-01</td>\n",
       "      <td>1083375</td>\n",
       "    </tr>\n",
       "    <tr>\n",
       "      <th>6</th>\n",
       "      <td>ABOHAR(PB)</td>\n",
       "      <td>January</td>\n",
       "      <td>2014</td>\n",
       "      <td>440</td>\n",
       "      <td>1025</td>\n",
       "      <td>1481</td>\n",
       "      <td>1256</td>\n",
       "      <td>PB</td>\n",
       "      <td>ABOHAR</td>\n",
       "      <td>2014-01-01</td>\n",
       "      <td>552640</td>\n",
       "    </tr>\n",
       "    <tr>\n",
       "      <th>7</th>\n",
       "      <td>ABOHAR(PB)</td>\n",
       "      <td>January</td>\n",
       "      <td>2015</td>\n",
       "      <td>1305</td>\n",
       "      <td>1309</td>\n",
       "      <td>1858</td>\n",
       "      <td>1613</td>\n",
       "      <td>PB</td>\n",
       "      <td>ABOHAR</td>\n",
       "      <td>2015-01-01</td>\n",
       "      <td>2104965</td>\n",
       "    </tr>\n",
       "    <tr>\n",
       "      <th>13</th>\n",
       "      <td>ABOHAR(PB)</td>\n",
       "      <td>February</td>\n",
       "      <td>2012</td>\n",
       "      <td>675</td>\n",
       "      <td>510</td>\n",
       "      <td>650</td>\n",
       "      <td>570</td>\n",
       "      <td>PB</td>\n",
       "      <td>ABOHAR</td>\n",
       "      <td>2012-02-01</td>\n",
       "      <td>384750</td>\n",
       "    </tr>\n",
       "  </tbody>\n",
       "</table>\n",
       "</div>"
      ],
      "text/plain": [
       "        market     month  year  quantity  priceMin  priceMax  priceMod state  \\\n",
       "4   ABOHAR(PB)   January  2012      1035       523       686       605    PB   \n",
       "5   ABOHAR(PB)   January  2013       675      1327      1900      1605    PB   \n",
       "6   ABOHAR(PB)   January  2014       440      1025      1481      1256    PB   \n",
       "7   ABOHAR(PB)   January  2015      1305      1309      1858      1613    PB   \n",
       "13  ABOHAR(PB)  February  2012       675       510       650       570    PB   \n",
       "\n",
       "      city       date    value  \n",
       "4   ABOHAR 2012-01-01   626175  \n",
       "5   ABOHAR 2013-01-01  1083375  \n",
       "6   ABOHAR 2014-01-01   552640  \n",
       "7   ABOHAR 2015-01-01  2104965  \n",
       "13  ABOHAR 2012-02-01   384750  "
      ]
     },
     "execution_count": 66,
     "metadata": {},
     "output_type": "execute_result"
    }
   ],
   "source": [
    "df5yrs.head()"
   ]
  },
  {
   "cell_type": "code",
   "execution_count": 67,
   "metadata": {
    "collapsed": true
   },
   "outputs": [],
   "source": [
    "df5yrs['value'] = df5yrs.quantity * df5yrs.priceMod"
   ]
  },
  {
   "cell_type": "code",
   "execution_count": 68,
   "metadata": {},
   "outputs": [
    {
     "data": {
      "text/html": [
       "<div>\n",
       "<table border=\"1\" class=\"dataframe\">\n",
       "  <thead>\n",
       "    <tr style=\"text-align: right;\">\n",
       "      <th></th>\n",
       "      <th>market</th>\n",
       "      <th>month</th>\n",
       "      <th>year</th>\n",
       "      <th>quantity</th>\n",
       "      <th>priceMin</th>\n",
       "      <th>priceMax</th>\n",
       "      <th>priceMod</th>\n",
       "      <th>state</th>\n",
       "      <th>city</th>\n",
       "      <th>date</th>\n",
       "      <th>value</th>\n",
       "    </tr>\n",
       "  </thead>\n",
       "  <tbody>\n",
       "    <tr>\n",
       "      <th>4</th>\n",
       "      <td>ABOHAR(PB)</td>\n",
       "      <td>January</td>\n",
       "      <td>2012</td>\n",
       "      <td>1035</td>\n",
       "      <td>523</td>\n",
       "      <td>686</td>\n",
       "      <td>605</td>\n",
       "      <td>PB</td>\n",
       "      <td>ABOHAR</td>\n",
       "      <td>2012-01-01</td>\n",
       "      <td>626175</td>\n",
       "    </tr>\n",
       "    <tr>\n",
       "      <th>5</th>\n",
       "      <td>ABOHAR(PB)</td>\n",
       "      <td>January</td>\n",
       "      <td>2013</td>\n",
       "      <td>675</td>\n",
       "      <td>1327</td>\n",
       "      <td>1900</td>\n",
       "      <td>1605</td>\n",
       "      <td>PB</td>\n",
       "      <td>ABOHAR</td>\n",
       "      <td>2013-01-01</td>\n",
       "      <td>1083375</td>\n",
       "    </tr>\n",
       "    <tr>\n",
       "      <th>6</th>\n",
       "      <td>ABOHAR(PB)</td>\n",
       "      <td>January</td>\n",
       "      <td>2014</td>\n",
       "      <td>440</td>\n",
       "      <td>1025</td>\n",
       "      <td>1481</td>\n",
       "      <td>1256</td>\n",
       "      <td>PB</td>\n",
       "      <td>ABOHAR</td>\n",
       "      <td>2014-01-01</td>\n",
       "      <td>552640</td>\n",
       "    </tr>\n",
       "    <tr>\n",
       "      <th>7</th>\n",
       "      <td>ABOHAR(PB)</td>\n",
       "      <td>January</td>\n",
       "      <td>2015</td>\n",
       "      <td>1305</td>\n",
       "      <td>1309</td>\n",
       "      <td>1858</td>\n",
       "      <td>1613</td>\n",
       "      <td>PB</td>\n",
       "      <td>ABOHAR</td>\n",
       "      <td>2015-01-01</td>\n",
       "      <td>2104965</td>\n",
       "    </tr>\n",
       "    <tr>\n",
       "      <th>13</th>\n",
       "      <td>ABOHAR(PB)</td>\n",
       "      <td>February</td>\n",
       "      <td>2012</td>\n",
       "      <td>675</td>\n",
       "      <td>510</td>\n",
       "      <td>650</td>\n",
       "      <td>570</td>\n",
       "      <td>PB</td>\n",
       "      <td>ABOHAR</td>\n",
       "      <td>2012-02-01</td>\n",
       "      <td>384750</td>\n",
       "    </tr>\n",
       "  </tbody>\n",
       "</table>\n",
       "</div>"
      ],
      "text/plain": [
       "        market     month  year  quantity  priceMin  priceMax  priceMod state  \\\n",
       "4   ABOHAR(PB)   January  2012      1035       523       686       605    PB   \n",
       "5   ABOHAR(PB)   January  2013       675      1327      1900      1605    PB   \n",
       "6   ABOHAR(PB)   January  2014       440      1025      1481      1256    PB   \n",
       "7   ABOHAR(PB)   January  2015      1305      1309      1858      1613    PB   \n",
       "13  ABOHAR(PB)  February  2012       675       510       650       570    PB   \n",
       "\n",
       "      city       date    value  \n",
       "4   ABOHAR 2012-01-01   626175  \n",
       "5   ABOHAR 2013-01-01  1083375  \n",
       "6   ABOHAR 2014-01-01   552640  \n",
       "7   ABOHAR 2015-01-01  2104965  \n",
       "13  ABOHAR 2012-02-01   384750  "
      ]
     },
     "execution_count": 68,
     "metadata": {},
     "output_type": "execute_result"
    }
   ],
   "source": [
    "df5yrs.head()"
   ]
  },
  {
   "cell_type": "code",
   "execution_count": 59,
   "metadata": {},
   "outputs": [
    {
     "data": {
      "text/plain": [
       "city\n",
       "BANGALORE     669581.583333\n",
       "MAHUVA        371856.694915\n",
       "SOLAPUR       332377.816667\n",
       "PUNE          296490.150000\n",
       "DELHI         285956.700000\n",
       "LASALGAON     280032.716667\n",
       "PIMPALGAON    259157.966667\n",
       "MUMBAI        224131.833333\n",
       "BHAVNAGAR     190190.731707\n",
       "NEWASA        188024.115385\n",
       "Name: quantity, dtype: float64"
      ]
     },
     "execution_count": 59,
     "metadata": {},
     "output_type": "execute_result"
    }
   ],
   "source": [
    "df5yrs.groupby(['city']).quantity.mean().sort_values(ascending=False).head(10)"
   ]
  },
  {
   "cell_type": "code",
   "execution_count": null,
   "metadata": {
    "collapsed": true
   },
   "outputs": [],
   "source": []
  },
  {
   "cell_type": "code",
   "execution_count": null,
   "metadata": {
    "collapsed": true
   },
   "outputs": [],
   "source": []
  },
  {
   "cell_type": "code",
   "execution_count": null,
   "metadata": {
    "collapsed": true
   },
   "outputs": [],
   "source": []
  },
  {
   "cell_type": "code",
   "execution_count": null,
   "metadata": {
    "collapsed": true
   },
   "outputs": [],
   "source": []
  },
  {
   "cell_type": "code",
   "execution_count": null,
   "metadata": {
    "collapsed": true
   },
   "outputs": [],
   "source": []
  }
 ],
 "metadata": {
  "anaconda-cloud": {},
  "kernelspec": {
   "display_name": "Python [default]",
   "language": "python",
   "name": "python3"
  },
  "language_info": {
   "codemirror_mode": {
    "name": "ipython",
    "version": 3
   },
   "file_extension": ".py",
   "mimetype": "text/x-python",
   "name": "python",
   "nbconvert_exporter": "python",
   "pygments_lexer": "ipython3",
   "version": "3.6.2"
  }
 },
 "nbformat": 4,
 "nbformat_minor": 1
}
