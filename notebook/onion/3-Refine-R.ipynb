{
 "cells": [
  {
   "cell_type": "markdown",
   "metadata": {},
   "source": [
    "# 3. Refine the Data\n",
    " \n",
    "> \"Data is messy\"\n",
    "\n",
    "We will be performing the following operation on our Onion price to refine it\n",
    "- **Remove** e.g. remove redundant data from the data frame\n",
    "- **Derive** e.g. State and City from the market field\n",
    "- **Parse** e.g. extract date from year and month column\n",
    "\n",
    "Other stuff you may need to do to refine are...\n",
    "- **Missing** e.g. Check for missing or incomplete data\n",
    "- **Quality** e.g. Check for duplicates, accuracy, unusual data\n",
    "- **Convert** e.g. free text to coded value\n",
    "- **Calculate** e.g. percentages, proportion\n",
    "- **Merge** e.g. first and surname for full name\n",
    "- **Aggregate** e.g. rollup by year, cluster by area\n",
    "- **Filter** e.g. exclude based on location\n",
    "- **Sample** e.g. extract a representative data\n",
    "- **Summary** e.g. show summary stats like mean"
   ]
  },
  {
   "cell_type": "code",
   "execution_count": 1,
   "metadata": {
    "collapsed": false
   },
   "outputs": [
    {
     "name": "stderr",
     "output_type": "stream",
     "text": [
      "\n",
      "Attaching package: 'dplyr'\n",
      "\n",
      "The following objects are masked from 'package:plyr':\n",
      "\n",
      "    arrange, count, desc, failwith, id, mutate, rename, summarise,\n",
      "    summarize\n",
      "\n",
      "The following objects are masked from 'package:stats':\n",
      "\n",
      "    filter, lag\n",
      "\n",
      "The following objects are masked from 'package:base':\n",
      "\n",
      "    intersect, setdiff, setequal, union\n",
      "\n"
     ]
    }
   ],
   "source": [
    "library(plyr)\n",
    "library(dplyr)\n",
    "library(tidyr)"
   ]
  },
  {
   "cell_type": "code",
   "execution_count": 2,
   "metadata": {
    "collapsed": false
   },
   "outputs": [],
   "source": [
    "df <- read.csv('MonthWiseMarketArrivalsAll.csv', stringsAsFactor = FALSE)"
   ]
  },
  {
   "cell_type": "code",
   "execution_count": 3,
   "metadata": {
    "collapsed": false
   },
   "outputs": [
    {
     "name": "stdout",
     "output_type": "stream",
     "text": [
      "'data.frame':\t10321 obs. of  7 variables:\n",
      " $ Market              : chr  \"ABOHAR(PB)\" \"ABOHAR(PB)\" \"ABOHAR(PB)\" \"ABOHAR(PB)\" ...\n",
      " $ Month.Name          : chr  \"January\" \"January\" \"January\" \"January\" ...\n",
      " $ Year                : chr  \"2005\" \"2006\" \"2010\" \"2011\" ...\n",
      " $ Arrival..q.         : int  2350 900 790 245 1035 675 440 1305 1400 1800 ...\n",
      " $ Price.Minimum..Rs.q.: chr  \"404\" \"487\" \"1283\" \"3067\" ...\n",
      " $ Price.Maximum..Rs.q.: chr  \"493\" \"638\" \"1592\" \"3750\" ...\n",
      " $ Modal.Price..Rs.q.  : chr  \"446\" \"563\" \"1460\" \"3433\" ...\n"
     ]
    }
   ],
   "source": [
    "str(df)"
   ]
  },
  {
   "cell_type": "code",
   "execution_count": 4,
   "metadata": {
    "collapsed": false
   },
   "outputs": [
    {
     "data": {
      "text/html": [
       "<ol class=list-inline>\n",
       "\t<li>10321</li>\n",
       "\t<li>7</li>\n",
       "</ol>\n"
      ],
      "text/latex": [
       "\\begin{enumerate*}\n",
       "\\item 10321\n",
       "\\item 7\n",
       "\\end{enumerate*}\n"
      ],
      "text/markdown": [
       "1. 10321\n",
       "2. 7\n",
       "\n",
       "\n"
      ],
      "text/plain": [
       "[1] 10321     7"
      ]
     },
     "execution_count": 4,
     "metadata": {},
     "output_type": "execute_result"
    }
   ],
   "source": [
    "dim(df)"
   ]
  },
  {
   "cell_type": "code",
   "execution_count": 5,
   "metadata": {
    "collapsed": true
   },
   "outputs": [],
   "source": [
    "column_names <- c('market', 'month', 'year', 'quantity', 'priceMin', 'priceMax', 'priceMod')"
   ]
  },
  {
   "cell_type": "code",
   "execution_count": 6,
   "metadata": {
    "collapsed": true
   },
   "outputs": [],
   "source": [
    "colnames(df) <- column_names"
   ]
  },
  {
   "cell_type": "code",
   "execution_count": 7,
   "metadata": {
    "collapsed": false
   },
   "outputs": [
    {
     "data": {
      "text/html": [
       "<table>\n",
       "<thead><tr><th></th><th scope=col>market</th><th scope=col>month</th><th scope=col>year</th><th scope=col>quantity</th><th scope=col>priceMin</th><th scope=col>priceMax</th><th scope=col>priceMod</th></tr></thead>\n",
       "<tbody>\n",
       "\t<tr><th scope=row>1</th><td>ABOHAR(PB)</td><td>January</td><td>2005</td><td>2350</td><td>404</td><td>493</td><td>446</td></tr>\n",
       "\t<tr><th scope=row>2</th><td>ABOHAR(PB)</td><td>January</td><td>2006</td><td>900</td><td>487</td><td>638</td><td>563</td></tr>\n",
       "\t<tr><th scope=row>3</th><td>ABOHAR(PB)</td><td>January</td><td>2010</td><td>790</td><td>1283</td><td>1592</td><td>1460</td></tr>\n",
       "\t<tr><th scope=row>4</th><td>ABOHAR(PB)</td><td>January</td><td>2011</td><td>245</td><td>3067</td><td>3750</td><td>3433</td></tr>\n",
       "\t<tr><th scope=row>5</th><td>ABOHAR(PB)</td><td>January</td><td>2012</td><td>1035</td><td>523</td><td>686</td><td>605</td></tr>\n",
       "\t<tr><th scope=row>6</th><td>ABOHAR(PB)</td><td>January</td><td>2013</td><td>675</td><td>1327</td><td>1900</td><td>1605</td></tr>\n",
       "</tbody>\n",
       "</table>\n"
      ],
      "text/latex": [
       "\\begin{tabular}{r|lllllll}\n",
       "  & market & month & year & quantity & priceMin & priceMax & priceMod\\\\\n",
       "\\hline\n",
       "\t1 & ABOHAR(PB) & January & 2005 & 2350 & 404 & 493 & 446\\\\\n",
       "\t2 & ABOHAR(PB) & January & 2006 & 900 & 487 & 638 & 563\\\\\n",
       "\t3 & ABOHAR(PB) & January & 2010 & 790 & 1283 & 1592 & 1460\\\\\n",
       "\t4 & ABOHAR(PB) & January & 2011 & 245 & 3067 & 3750 & 3433\\\\\n",
       "\t5 & ABOHAR(PB) & January & 2012 & 1035 & 523 & 686 & 605\\\\\n",
       "\t6 & ABOHAR(PB) & January & 2013 & 675 & 1327 & 1900 & 1605\\\\\n",
       "\\end{tabular}\n"
      ],
      "text/plain": [
       "      market   month year quantity priceMin priceMax priceMod\n",
       "1 ABOHAR(PB) January 2005     2350      404      493      446\n",
       "2 ABOHAR(PB) January 2006      900      487      638      563\n",
       "3 ABOHAR(PB) January 2010      790     1283     1592     1460\n",
       "4 ABOHAR(PB) January 2011      245     3067     3750     3433\n",
       "5 ABOHAR(PB) January 2012     1035      523      686      605\n",
       "6 ABOHAR(PB) January 2013      675     1327     1900     1605"
      ]
     },
     "execution_count": 7,
     "metadata": {},
     "output_type": "execute_result"
    }
   ],
   "source": [
    "head(df)"
   ]
  },
  {
   "cell_type": "code",
   "execution_count": 8,
   "metadata": {
    "collapsed": false
   },
   "outputs": [
    {
     "data": {
      "text/html": [
       "'data.frame'"
      ],
      "text/latex": [
       "'data.frame'"
      ],
      "text/markdown": [
       "'data.frame'"
      ],
      "text/plain": [
       "[1] \"data.frame\""
      ]
     },
     "execution_count": 8,
     "metadata": {},
     "output_type": "execute_result"
    }
   ],
   "source": [
    "class(df)"
   ]
  },
  {
   "cell_type": "code",
   "execution_count": 9,
   "metadata": {
    "collapsed": false
   },
   "outputs": [
    {
     "name": "stdout",
     "output_type": "stream",
     "text": [
      "'data.frame':\t10321 obs. of  7 variables:\n",
      " $ market  : chr  \"ABOHAR(PB)\" \"ABOHAR(PB)\" \"ABOHAR(PB)\" \"ABOHAR(PB)\" ...\n",
      " $ month   : chr  \"January\" \"January\" \"January\" \"January\" ...\n",
      " $ year    : chr  \"2005\" \"2006\" \"2010\" \"2011\" ...\n",
      " $ quantity: int  2350 900 790 245 1035 675 440 1305 1400 1800 ...\n",
      " $ priceMin: chr  \"404\" \"487\" \"1283\" \"3067\" ...\n",
      " $ priceMax: chr  \"493\" \"638\" \"1592\" \"3750\" ...\n",
      " $ priceMod: chr  \"446\" \"563\" \"1460\" \"3433\" ...\n"
     ]
    }
   ],
   "source": [
    "str(df)"
   ]
  },
  {
   "cell_type": "code",
   "execution_count": 10,
   "metadata": {
    "collapsed": false
   },
   "outputs": [
    {
     "data": {
      "text/html": [
       "<table>\n",
       "<thead><tr><th></th><th scope=col>market</th><th scope=col>month</th><th scope=col>year</th><th scope=col>quantity</th><th scope=col>priceMin</th><th scope=col>priceMax</th><th scope=col>priceMod</th></tr></thead>\n",
       "<tbody>\n",
       "\t<tr><th scope=row>10321</th><td><c2><a0></td><td><c2><a0></td><td>Total</td><td>789858881</td><td>646(Avg)</td><td>1211(Avg)</td><td>983(Avg)</td></tr>\n",
       "</tbody>\n",
       "</table>\n"
      ],
      "text/latex": [
       "\\begin{tabular}{r|lllllll}\n",
       "  & market & month & year & quantity & priceMin & priceMax & priceMod\\\\\n",
       "\\hline\n",
       "\t10321 & <c2><a0> & <c2><a0> & Total & 789858881 & 646(Avg) & 1211(Avg) & 983(Avg)\\\\\n",
       "\\end{tabular}\n"
      ],
      "text/plain": [
       "        market    month  year  quantity priceMin  priceMax priceMod\n",
       "10321 \\302\\240 \\302\\240 Total 789858881 646(Avg) 1211(Avg) 983(Avg)"
      ]
     },
     "execution_count": 10,
     "metadata": {},
     "output_type": "execute_result"
    }
   ],
   "source": [
    "tail(df,1)"
   ]
  },
  {
   "cell_type": "code",
   "execution_count": 11,
   "metadata": {
    "collapsed": false
   },
   "outputs": [],
   "source": [
    "df <- df %>% \n",
    "      filter( year != \"Total\")"
   ]
  },
  {
   "cell_type": "code",
   "execution_count": 12,
   "metadata": {
    "collapsed": false
   },
   "outputs": [
    {
     "data": {
      "text/html": [
       "<table>\n",
       "<thead><tr><th></th><th scope=col>market</th><th scope=col>month</th><th scope=col>year</th><th scope=col>quantity</th><th scope=col>priceMin</th><th scope=col>priceMax</th><th scope=col>priceMod</th></tr></thead>\n",
       "<tbody>\n",
       "\t<tr><th scope=row>10315</th><td>YEOLA(MS)</td><td>December</td><td>2010</td><td>57586</td><td>541</td><td>2713</td><td>1830</td></tr>\n",
       "\t<tr><th scope=row>10316</th><td>YEOLA(MS)</td><td>December</td><td>2011</td><td>131326</td><td>282</td><td>612</td><td>526</td></tr>\n",
       "\t<tr><th scope=row>10317</th><td>YEOLA(MS)</td><td>December</td><td>2012</td><td>207066</td><td>485</td><td>1327</td><td>1136</td></tr>\n",
       "\t<tr><th scope=row>10318</th><td>YEOLA(MS)</td><td>December</td><td>2013</td><td>215883</td><td>472</td><td>1427</td><td>1177</td></tr>\n",
       "\t<tr><th scope=row>10319</th><td>YEOLA(MS)</td><td>December</td><td>2014</td><td>201077</td><td>446</td><td>1654</td><td>1456</td></tr>\n",
       "\t<tr><th scope=row>10320</th><td>YEOLA(MS)</td><td>December</td><td>2015</td><td>223315</td><td>609</td><td>1446</td><td>1126</td></tr>\n",
       "</tbody>\n",
       "</table>\n"
      ],
      "text/latex": [
       "\\begin{tabular}{r|lllllll}\n",
       "  & market & month & year & quantity & priceMin & priceMax & priceMod\\\\\n",
       "\\hline\n",
       "\t10315 & YEOLA(MS) & December & 2010 & 57586 & 541 & 2713 & 1830\\\\\n",
       "\t10316 & YEOLA(MS) & December & 2011 & 131326 & 282 & 612 & 526\\\\\n",
       "\t10317 & YEOLA(MS) & December & 2012 & 207066 & 485 & 1327 & 1136\\\\\n",
       "\t10318 & YEOLA(MS) & December & 2013 & 215883 & 472 & 1427 & 1177\\\\\n",
       "\t10319 & YEOLA(MS) & December & 2014 & 201077 & 446 & 1654 & 1456\\\\\n",
       "\t10320 & YEOLA(MS) & December & 2015 & 223315 & 609 & 1446 & 1126\\\\\n",
       "\\end{tabular}\n"
      ],
      "text/plain": [
       "         market    month year quantity priceMin priceMax priceMod\n",
       "10315 YEOLA(MS) December 2010    57586      541     2713     1830\n",
       "10316 YEOLA(MS) December 2011   131326      282      612      526\n",
       "10317 YEOLA(MS) December 2012   207066      485     1327     1136\n",
       "10318 YEOLA(MS) December 2013   215883      472     1427     1177\n",
       "10319 YEOLA(MS) December 2014   201077      446     1654     1456\n",
       "10320 YEOLA(MS) December 2015   223315      609     1446     1126"
      ]
     },
     "execution_count": 12,
     "metadata": {},
     "output_type": "execute_result"
    }
   ],
   "source": [
    "tail(df)"
   ]
  },
  {
   "cell_type": "code",
   "execution_count": 13,
   "metadata": {
    "collapsed": false
   },
   "outputs": [
    {
     "data": {
      "text/html": [
       "<ol class=list-inline>\n",
       "\t<li>10320</li>\n",
       "\t<li>7</li>\n",
       "</ol>\n"
      ],
      "text/latex": [
       "\\begin{enumerate*}\n",
       "\\item 10320\n",
       "\\item 7\n",
       "\\end{enumerate*}\n"
      ],
      "text/markdown": [
       "1. 10320\n",
       "2. 7\n",
       "\n",
       "\n"
      ],
      "text/plain": [
       "[1] 10320     7"
      ]
     },
     "execution_count": 13,
     "metadata": {},
     "output_type": "execute_result"
    }
   ],
   "source": [
    "dim(df)"
   ]
  },
  {
   "cell_type": "code",
   "execution_count": 14,
   "metadata": {
    "collapsed": false
   },
   "outputs": [
    {
     "data": {
      "text/html": [
       "<table>\n",
       "<thead><tr><th></th><th scope=col>priceMin</th><th scope=col>priceMax</th><th scope=col>priceMod</th></tr></thead>\n",
       "<tbody>\n",
       "\t<tr><th scope=row>1</th><td>404</td><td>493</td><td>446</td></tr>\n",
       "\t<tr><th scope=row>2</th><td>487</td><td>638</td><td>563</td></tr>\n",
       "\t<tr><th scope=row>3</th><td>1283</td><td>1592</td><td>1460</td></tr>\n",
       "\t<tr><th scope=row>4</th><td>3067</td><td>3750</td><td>3433</td></tr>\n",
       "\t<tr><th scope=row>5</th><td>523</td><td>686</td><td>605</td></tr>\n",
       "\t<tr><th scope=row>6</th><td>1327</td><td>1900</td><td>1605</td></tr>\n",
       "</tbody>\n",
       "</table>\n"
      ],
      "text/latex": [
       "\\begin{tabular}{r|lll}\n",
       "  & priceMin & priceMax & priceMod\\\\\n",
       "\\hline\n",
       "\t1 & 404 & 493 & 446\\\\\n",
       "\t2 & 487 & 638 & 563\\\\\n",
       "\t3 & 1283 & 1592 & 1460\\\\\n",
       "\t4 & 3067 & 3750 & 3433\\\\\n",
       "\t5 & 523 & 686 & 605\\\\\n",
       "\t6 & 1327 & 1900 & 1605\\\\\n",
       "\\end{tabular}\n"
      ],
      "text/plain": [
       "  priceMin priceMax priceMod\n",
       "1      404      493      446\n",
       "2      487      638      563\n",
       "3     1283     1592     1460\n",
       "4     3067     3750     3433\n",
       "5      523      686      605\n",
       "6     1327     1900     1605"
      ]
     },
     "execution_count": 14,
     "metadata": {},
     "output_type": "execute_result"
    }
   ],
   "source": [
    "# selecting particular columns from the df\n",
    "head(df %>% \n",
    "     select(priceMin,priceMax,priceMod))"
   ]
  },
  {
   "cell_type": "code",
   "execution_count": 15,
   "metadata": {
    "collapsed": false
   },
   "outputs": [
    {
     "name": "stdout",
     "output_type": "stream",
     "text": [
      "'data.frame':\t10320 obs. of  7 variables:\n",
      " $ market  : chr  \"ABOHAR(PB)\" \"ABOHAR(PB)\" \"ABOHAR(PB)\" \"ABOHAR(PB)\" ...\n",
      " $ month   : chr  \"January\" \"January\" \"January\" \"January\" ...\n",
      " $ year    : chr  \"2005\" \"2006\" \"2010\" \"2011\" ...\n",
      " $ quantity: int  2350 900 790 245 1035 675 440 1305 1400 1800 ...\n",
      " $ priceMin: chr  \"404\" \"487\" \"1283\" \"3067\" ...\n",
      " $ priceMax: chr  \"493\" \"638\" \"1592\" \"3750\" ...\n",
      " $ priceMod: chr  \"446\" \"563\" \"1460\" \"3433\" ...\n"
     ]
    }
   ],
   "source": [
    "str(df)"
   ]
  },
  {
   "cell_type": "code",
   "execution_count": 16,
   "metadata": {
    "collapsed": false
   },
   "outputs": [],
   "source": [
    "#we see that all of them are character, we know that they are integers, so lets convert\n",
    "df$quantity <- as.numeric(df$quantity)\n",
    "df$year     <- as.numeric(df$year)\n",
    "df$priceMin <- as.numeric(df$priceMin)\n",
    "df$priceMax <- as.numeric(df$priceMax)\n",
    "df$priceMod <- as.numeric(df$priceMod)"
   ]
  },
  {
   "cell_type": "code",
   "execution_count": 17,
   "metadata": {
    "collapsed": false
   },
   "outputs": [
    {
     "name": "stdout",
     "output_type": "stream",
     "text": [
      "'data.frame':\t10320 obs. of  7 variables:\n",
      " $ market  : chr  \"ABOHAR(PB)\" \"ABOHAR(PB)\" \"ABOHAR(PB)\" \"ABOHAR(PB)\" ...\n",
      " $ month   : chr  \"January\" \"January\" \"January\" \"January\" ...\n",
      " $ year    : num  2005 2006 2010 2011 2012 ...\n",
      " $ quantity: num  2350 900 790 245 1035 ...\n",
      " $ priceMin: num  404 487 1283 3067 523 ...\n",
      " $ priceMax: num  493 638 1592 3750 686 ...\n",
      " $ priceMod: num  446 563 1460 3433 605 ...\n"
     ]
    }
   ],
   "source": [
    "str(df)"
   ]
  },
  {
   "cell_type": "code",
   "execution_count": 18,
   "metadata": {
    "collapsed": false
   },
   "outputs": [
    {
     "data": {
      "text/html": [
       "<table>\n",
       "<thead><tr><th></th><th scope=col>market</th><th scope=col>month</th><th scope=col>year</th><th scope=col>quantity</th><th scope=col>priceMin</th><th scope=col>priceMax</th><th scope=col>priceMod</th></tr></thead>\n",
       "<tbody>\n",
       "\t<tr><th scope=row>1</th><td>ABOHAR(PB)</td><td>January</td><td>2005</td><td>2350</td><td>404</td><td>493</td><td>446</td></tr>\n",
       "\t<tr><th scope=row>2</th><td>ABOHAR(PB)</td><td>January</td><td>2006</td><td>900</td><td>487</td><td>638</td><td>563</td></tr>\n",
       "\t<tr><th scope=row>3</th><td>ABOHAR(PB)</td><td>January</td><td>2010</td><td>790</td><td>1283</td><td>1592</td><td>1460</td></tr>\n",
       "\t<tr><th scope=row>4</th><td>ABOHAR(PB)</td><td>January</td><td>2011</td><td>245</td><td>3067</td><td>3750</td><td>3433</td></tr>\n",
       "\t<tr><th scope=row>5</th><td>ABOHAR(PB)</td><td>January</td><td>2012</td><td>1035</td><td>523</td><td>686</td><td>605</td></tr>\n",
       "\t<tr><th scope=row>6</th><td>ABOHAR(PB)</td><td>January</td><td>2013</td><td>675</td><td>1327</td><td>1900</td><td>1605</td></tr>\n",
       "</tbody>\n",
       "</table>\n"
      ],
      "text/latex": [
       "\\begin{tabular}{r|lllllll}\n",
       "  & market & month & year & quantity & priceMin & priceMax & priceMod\\\\\n",
       "\\hline\n",
       "\t1 & ABOHAR(PB) & January & 2005 & 2350 & 404 & 493 & 446\\\\\n",
       "\t2 & ABOHAR(PB) & January & 2006 & 900 & 487 & 638 & 563\\\\\n",
       "\t3 & ABOHAR(PB) & January & 2010 & 790 & 1283 & 1592 & 1460\\\\\n",
       "\t4 & ABOHAR(PB) & January & 2011 & 245 & 3067 & 3750 & 3433\\\\\n",
       "\t5 & ABOHAR(PB) & January & 2012 & 1035 & 523 & 686 & 605\\\\\n",
       "\t6 & ABOHAR(PB) & January & 2013 & 675 & 1327 & 1900 & 1605\\\\\n",
       "\\end{tabular}\n"
      ],
      "text/plain": [
       "      market   month year quantity priceMin priceMax priceMod\n",
       "1 ABOHAR(PB) January 2005     2350      404      493      446\n",
       "2 ABOHAR(PB) January 2006      900      487      638      563\n",
       "3 ABOHAR(PB) January 2010      790     1283     1592     1460\n",
       "4 ABOHAR(PB) January 2011      245     3067     3750     3433\n",
       "5 ABOHAR(PB) January 2012     1035      523      686      605\n",
       "6 ABOHAR(PB) January 2013      675     1327     1900     1605"
      ]
     },
     "execution_count": 18,
     "metadata": {},
     "output_type": "execute_result"
    }
   ],
   "source": [
    "head(df)"
   ]
  },
  {
   "cell_type": "code",
   "execution_count": 19,
   "metadata": {
    "collapsed": false
   },
   "outputs": [
    {
     "data": {
      "text/plain": [
       "    market             month                year         quantity      \n",
       " Length:10320       Length:10320       Min.   :1996   Min.   :     15  \n",
       " Class :character   Class :character   1st Qu.:2006   1st Qu.:   8862  \n",
       " Mode  :character   Mode  :character   Median :2009   Median :  27414  \n",
       "                                       Mean   :2009   Mean   :  76537  \n",
       "                                       3rd Qu.:2013   3rd Qu.:  87875  \n",
       "                                       Max.   :2016   Max.   :1639032  \n",
       "    priceMin         priceMax       priceMod     \n",
       " Min.   :  16.0   Min.   : 145   Min.   :  80.0  \n",
       " 1st Qu.: 210.0   1st Qu.: 560   1st Qu.: 450.0  \n",
       " Median : 441.0   Median : 925   Median : 747.0  \n",
       " Mean   : 646.2   Mean   :1211   Mean   : 982.7  \n",
       " 3rd Qu.: 827.0   3rd Qu.:1520   3rd Qu.:1240.2  \n",
       " Max.   :6000.0   Max.   :8192   Max.   :6400.0  "
      ]
     },
     "execution_count": 19,
     "metadata": {},
     "output_type": "execute_result"
    }
   ],
   "source": [
    "summary(df)"
   ]
  },
  {
   "cell_type": "markdown",
   "metadata": {},
   "source": [
    "## Extracting the states from market names"
   ]
  },
  {
   "cell_type": "code",
   "execution_count": 20,
   "metadata": {
    "collapsed": false
   },
   "outputs": [],
   "source": [
    "library(stringr)"
   ]
  },
  {
   "cell_type": "code",
   "execution_count": 21,
   "metadata": {
    "collapsed": false
   },
   "outputs": [
    {
     "data": {
      "text/html": [
       "'ABOHAR(PB)'"
      ],
      "text/latex": [
       "'ABOHAR(PB)'"
      ],
      "text/markdown": [
       "'ABOHAR(PB)'"
      ],
      "text/plain": [
       "[1] \"ABOHAR(PB)\""
      ]
     },
     "execution_count": 21,
     "metadata": {},
     "output_type": "execute_result"
    },
    {
     "data": {
      "text/html": [
       "'PB)'"
      ],
      "text/latex": [
       "'PB)'"
      ],
      "text/markdown": [
       "'PB)'"
      ],
      "text/plain": [
       "[1] \"PB)\""
      ]
     },
     "execution_count": 21,
     "metadata": {},
     "output_type": "execute_result"
    }
   ],
   "source": [
    "# we see that city and state are combined, lets split them up\n",
    "df$market[1]\n",
    "strsplit(as.character(df$market[1]),'\\\\(')[[1]][2]"
   ]
  },
  {
   "cell_type": "code",
   "execution_count": 22,
   "metadata": {
    "collapsed": false
   },
   "outputs": [
    {
     "data": {
      "text/html": [
       "<table>\n",
       "<thead><tr><th></th><th scope=col>market</th><th scope=col>month</th><th scope=col>year</th><th scope=col>quantity</th><th scope=col>priceMin</th><th scope=col>priceMax</th><th scope=col>priceMod</th></tr></thead>\n",
       "<tbody>\n",
       "\t<tr><th scope=row>1</th><td>ABOHAR(PB)</td><td>January</td><td>2005</td><td>2350</td><td>404</td><td>493</td><td>446</td></tr>\n",
       "\t<tr><th scope=row>2</th><td>ABOHAR(PB)</td><td>January</td><td>2006</td><td>900</td><td>487</td><td>638</td><td>563</td></tr>\n",
       "\t<tr><th scope=row>3</th><td>ABOHAR(PB)</td><td>January</td><td>2010</td><td>790</td><td>1283</td><td>1592</td><td>1460</td></tr>\n",
       "\t<tr><th scope=row>4</th><td>ABOHAR(PB)</td><td>January</td><td>2011</td><td>245</td><td>3067</td><td>3750</td><td>3433</td></tr>\n",
       "\t<tr><th scope=row>5</th><td>ABOHAR(PB)</td><td>January</td><td>2012</td><td>1035</td><td>523</td><td>686</td><td>605</td></tr>\n",
       "\t<tr><th scope=row>6</th><td>ABOHAR(PB)</td><td>January</td><td>2013</td><td>675</td><td>1327</td><td>1900</td><td>1605</td></tr>\n",
       "</tbody>\n",
       "</table>\n"
      ],
      "text/latex": [
       "\\begin{tabular}{r|lllllll}\n",
       "  & market & month & year & quantity & priceMin & priceMax & priceMod\\\\\n",
       "\\hline\n",
       "\t1 & ABOHAR(PB) & January & 2005 & 2350 & 404 & 493 & 446\\\\\n",
       "\t2 & ABOHAR(PB) & January & 2006 & 900 & 487 & 638 & 563\\\\\n",
       "\t3 & ABOHAR(PB) & January & 2010 & 790 & 1283 & 1592 & 1460\\\\\n",
       "\t4 & ABOHAR(PB) & January & 2011 & 245 & 3067 & 3750 & 3433\\\\\n",
       "\t5 & ABOHAR(PB) & January & 2012 & 1035 & 523 & 686 & 605\\\\\n",
       "\t6 & ABOHAR(PB) & January & 2013 & 675 & 1327 & 1900 & 1605\\\\\n",
       "\\end{tabular}\n"
      ],
      "text/plain": [
       "      market   month year quantity priceMin priceMax priceMod\n",
       "1 ABOHAR(PB) January 2005     2350      404      493      446\n",
       "2 ABOHAR(PB) January 2006      900      487      638      563\n",
       "3 ABOHAR(PB) January 2010      790     1283     1592     1460\n",
       "4 ABOHAR(PB) January 2011      245     3067     3750     3433\n",
       "5 ABOHAR(PB) January 2012     1035      523      686      605\n",
       "6 ABOHAR(PB) January 2013      675     1327     1900     1605"
      ]
     },
     "execution_count": 22,
     "metadata": {},
     "output_type": "execute_result"
    }
   ],
   "source": [
    "head(df)"
   ]
  },
  {
   "cell_type": "code",
   "execution_count": 25,
   "metadata": {
    "collapsed": false
   },
   "outputs": [
    {
     "data": {
      "text/html": [
       "<table>\n",
       "<thead><tr><th></th><th scope=col>market</th><th scope=col>month</th><th scope=col>year</th><th scope=col>quantity</th><th scope=col>priceMin</th><th scope=col>priceMax</th><th scope=col>priceMod</th></tr></thead>\n",
       "<tbody>\n",
       "\t<tr><th scope=row>1</th><td>ABOHAR(PB)</td><td>January</td><td>2005</td><td>2350</td><td>404</td><td>493</td><td>446</td></tr>\n",
       "\t<tr><th scope=row>2</th><td>ABOHAR(PB)</td><td>January</td><td>2006</td><td>900</td><td>487</td><td>638</td><td>563</td></tr>\n",
       "\t<tr><th scope=row>3</th><td>ABOHAR(PB)</td><td>January</td><td>2010</td><td>790</td><td>1283</td><td>1592</td><td>1460</td></tr>\n",
       "\t<tr><th scope=row>4</th><td>ABOHAR(PB)</td><td>January</td><td>2011</td><td>245</td><td>3067</td><td>3750</td><td>3433</td></tr>\n",
       "\t<tr><th scope=row>5</th><td>ABOHAR(PB)</td><td>January</td><td>2012</td><td>1035</td><td>523</td><td>686</td><td>605</td></tr>\n",
       "\t<tr><th scope=row>6</th><td>ABOHAR(PB)</td><td>January</td><td>2013</td><td>675</td><td>1327</td><td>1900</td><td>1605</td></tr>\n",
       "</tbody>\n",
       "</table>\n"
      ],
      "text/latex": [
       "\\begin{tabular}{r|lllllll}\n",
       "  & market & month & year & quantity & priceMin & priceMax & priceMod\\\\\n",
       "\\hline\n",
       "\t1 & ABOHAR(PB) & January & 2005 & 2350 & 404 & 493 & 446\\\\\n",
       "\t2 & ABOHAR(PB) & January & 2006 & 900 & 487 & 638 & 563\\\\\n",
       "\t3 & ABOHAR(PB) & January & 2010 & 790 & 1283 & 1592 & 1460\\\\\n",
       "\t4 & ABOHAR(PB) & January & 2011 & 245 & 3067 & 3750 & 3433\\\\\n",
       "\t5 & ABOHAR(PB) & January & 2012 & 1035 & 523 & 686 & 605\\\\\n",
       "\t6 & ABOHAR(PB) & January & 2013 & 675 & 1327 & 1900 & 1605\\\\\n",
       "\\end{tabular}\n"
      ],
      "text/plain": [
       "      market   month year quantity priceMin priceMax priceMod\n",
       "1 ABOHAR(PB) January 2005     2350      404      493      446\n",
       "2 ABOHAR(PB) January 2006      900      487      638      563\n",
       "3 ABOHAR(PB) January 2010      790     1283     1592     1460\n",
       "4 ABOHAR(PB) January 2011      245     3067     3750     3433\n",
       "5 ABOHAR(PB) January 2012     1035      523      686      605\n",
       "6 ABOHAR(PB) January 2013      675     1327     1900     1605"
      ]
     },
     "execution_count": 25,
     "metadata": {},
     "output_type": "execute_result"
    }
   ],
   "source": [
    "head(df)"
   ]
  },
  {
   "cell_type": "code",
   "execution_count": 24,
   "metadata": {
    "collapsed": false
   },
   "outputs": [
    {
     "data": {
      "text/html": [
       "<table>\n",
       "<thead><tr><th></th><th scope=col>market</th><th scope=col>month</th><th scope=col>year</th><th scope=col>quantity</th><th scope=col>priceMin</th><th scope=col>priceMax</th><th scope=col>priceMod</th></tr></thead>\n",
       "<tbody>\n",
       "\t<tr><th scope=row>10315</th><td>YEOLA(MS)</td><td>December</td><td>2010</td><td>57586</td><td>541</td><td>2713</td><td>1830</td></tr>\n",
       "\t<tr><th scope=row>10316</th><td>YEOLA(MS)</td><td>December</td><td>2011</td><td>131326</td><td>282</td><td>612</td><td>526</td></tr>\n",
       "\t<tr><th scope=row>10317</th><td>YEOLA(MS)</td><td>December</td><td>2012</td><td>207066</td><td>485</td><td>1327</td><td>1136</td></tr>\n",
       "\t<tr><th scope=row>10318</th><td>YEOLA(MS)</td><td>December</td><td>2013</td><td>215883</td><td>472</td><td>1427</td><td>1177</td></tr>\n",
       "\t<tr><th scope=row>10319</th><td>YEOLA(MS)</td><td>December</td><td>2014</td><td>201077</td><td>446</td><td>1654</td><td>1456</td></tr>\n",
       "\t<tr><th scope=row>10320</th><td>YEOLA(MS)</td><td>December</td><td>2015</td><td>223315</td><td>609</td><td>1446</td><td>1126</td></tr>\n",
       "</tbody>\n",
       "</table>\n"
      ],
      "text/latex": [
       "\\begin{tabular}{r|lllllll}\n",
       "  & market & month & year & quantity & priceMin & priceMax & priceMod\\\\\n",
       "\\hline\n",
       "\t10315 & YEOLA(MS) & December & 2010 & 57586 & 541 & 2713 & 1830\\\\\n",
       "\t10316 & YEOLA(MS) & December & 2011 & 131326 & 282 & 612 & 526\\\\\n",
       "\t10317 & YEOLA(MS) & December & 2012 & 207066 & 485 & 1327 & 1136\\\\\n",
       "\t10318 & YEOLA(MS) & December & 2013 & 215883 & 472 & 1427 & 1177\\\\\n",
       "\t10319 & YEOLA(MS) & December & 2014 & 201077 & 446 & 1654 & 1456\\\\\n",
       "\t10320 & YEOLA(MS) & December & 2015 & 223315 & 609 & 1446 & 1126\\\\\n",
       "\\end{tabular}\n"
      ],
      "text/plain": [
       "         market    month year quantity priceMin priceMax priceMod\n",
       "10315 YEOLA(MS) December 2010    57586      541     2713     1830\n",
       "10316 YEOLA(MS) December 2011   131326      282      612      526\n",
       "10317 YEOLA(MS) December 2012   207066      485     1327     1136\n",
       "10318 YEOLA(MS) December 2013   215883      472     1427     1177\n",
       "10319 YEOLA(MS) December 2014   201077      446     1654     1456\n",
       "10320 YEOLA(MS) December 2015   223315      609     1446     1126"
      ]
     },
     "execution_count": 24,
     "metadata": {},
     "output_type": "execute_result"
    }
   ],
   "source": [
    "tail(df)"
   ]
  },
  {
   "cell_type": "code",
   "execution_count": 26,
   "metadata": {
    "collapsed": false
   },
   "outputs": [
    {
     "name": "stderr",
     "output_type": "stream",
     "text": [
      "Warning message:\n",
      ": Too many values at 157 locations: 1925, 1926, 1927, 1928, 1929, 1930, 1931, 1932, 1933, 1934, 1935, 1936, 1937, 1938, 1939, 1940, 1941, 1942, 1943, 1944, ...Warning message:\n",
      ": Too few values at 1880 locations: 724, 725, 726, 727, 728, 729, 730, 731, 732, 733, 734, 735, 736, 737, 738, 739, 740, 741, 742, 743, ..."
     ]
    }
   ],
   "source": [
    "df <- df %>%\n",
    "      mutate(market1 = market) %>%\n",
    "      separate(market1, c(\"city\", \"state\"), sep = \"\\\\(\")"
   ]
  },
  {
   "cell_type": "code",
   "execution_count": 27,
   "metadata": {
    "collapsed": false
   },
   "outputs": [
    {
     "data": {
      "text/html": [
       "<table>\n",
       "<thead><tr><th></th><th scope=col>market</th><th scope=col>month</th><th scope=col>year</th><th scope=col>quantity</th><th scope=col>priceMin</th><th scope=col>priceMax</th><th scope=col>priceMod</th><th scope=col>city</th><th scope=col>state</th></tr></thead>\n",
       "<tbody>\n",
       "\t<tr><th scope=row>1</th><td>ABOHAR(PB)</td><td>January</td><td>2005</td><td>2350</td><td>404</td><td>493</td><td>446</td><td>ABOHAR</td><td>PB)</td></tr>\n",
       "\t<tr><th scope=row>2</th><td>ABOHAR(PB)</td><td>January</td><td>2006</td><td>900</td><td>487</td><td>638</td><td>563</td><td>ABOHAR</td><td>PB)</td></tr>\n",
       "\t<tr><th scope=row>3</th><td>ABOHAR(PB)</td><td>January</td><td>2010</td><td>790</td><td>1283</td><td>1592</td><td>1460</td><td>ABOHAR</td><td>PB)</td></tr>\n",
       "\t<tr><th scope=row>4</th><td>ABOHAR(PB)</td><td>January</td><td>2011</td><td>245</td><td>3067</td><td>3750</td><td>3433</td><td>ABOHAR</td><td>PB)</td></tr>\n",
       "\t<tr><th scope=row>5</th><td>ABOHAR(PB)</td><td>January</td><td>2012</td><td>1035</td><td>523</td><td>686</td><td>605</td><td>ABOHAR</td><td>PB)</td></tr>\n",
       "\t<tr><th scope=row>6</th><td>ABOHAR(PB)</td><td>January</td><td>2013</td><td>675</td><td>1327</td><td>1900</td><td>1605</td><td>ABOHAR</td><td>PB)</td></tr>\n",
       "</tbody>\n",
       "</table>\n"
      ],
      "text/latex": [
       "\\begin{tabular}{r|lllllllll}\n",
       "  & market & month & year & quantity & priceMin & priceMax & priceMod & city & state\\\\\n",
       "\\hline\n",
       "\t1 & ABOHAR(PB) & January & 2005 & 2350 & 404 & 493 & 446 & ABOHAR & PB)\\\\\n",
       "\t2 & ABOHAR(PB) & January & 2006 & 900 & 487 & 638 & 563 & ABOHAR & PB)\\\\\n",
       "\t3 & ABOHAR(PB) & January & 2010 & 790 & 1283 & 1592 & 1460 & ABOHAR & PB)\\\\\n",
       "\t4 & ABOHAR(PB) & January & 2011 & 245 & 3067 & 3750 & 3433 & ABOHAR & PB)\\\\\n",
       "\t5 & ABOHAR(PB) & January & 2012 & 1035 & 523 & 686 & 605 & ABOHAR & PB)\\\\\n",
       "\t6 & ABOHAR(PB) & January & 2013 & 675 & 1327 & 1900 & 1605 & ABOHAR & PB)\\\\\n",
       "\\end{tabular}\n"
      ],
      "text/plain": [
       "      market   month year quantity priceMin priceMax priceMod   city state\n",
       "1 ABOHAR(PB) January 2005     2350      404      493      446 ABOHAR   PB)\n",
       "2 ABOHAR(PB) January 2006      900      487      638      563 ABOHAR   PB)\n",
       "3 ABOHAR(PB) January 2010      790     1283     1592     1460 ABOHAR   PB)\n",
       "4 ABOHAR(PB) January 2011      245     3067     3750     3433 ABOHAR   PB)\n",
       "5 ABOHAR(PB) January 2012     1035      523      686      605 ABOHAR   PB)\n",
       "6 ABOHAR(PB) January 2013      675     1327     1900     1605 ABOHAR   PB)"
      ]
     },
     "execution_count": 27,
     "metadata": {},
     "output_type": "execute_result"
    }
   ],
   "source": [
    "head(df)"
   ]
  },
  {
   "cell_type": "code",
   "execution_count": 28,
   "metadata": {
    "collapsed": false
   },
   "outputs": [],
   "source": [
    "df$state <- df$state %>% str_replace(\"\\\\)\",\"\")"
   ]
  },
  {
   "cell_type": "code",
   "execution_count": 29,
   "metadata": {
    "collapsed": false
   },
   "outputs": [
    {
     "data": {
      "text/html": [
       "<table>\n",
       "<thead><tr><th></th><th scope=col>market</th><th scope=col>month</th><th scope=col>year</th><th scope=col>quantity</th><th scope=col>priceMin</th><th scope=col>priceMax</th><th scope=col>priceMod</th><th scope=col>city</th><th scope=col>state</th></tr></thead>\n",
       "<tbody>\n",
       "\t<tr><th scope=row>1</th><td>ABOHAR(PB)</td><td>January</td><td>2005</td><td>2350</td><td>404</td><td>493</td><td>446</td><td>ABOHAR</td><td>PB</td></tr>\n",
       "\t<tr><th scope=row>2</th><td>ABOHAR(PB)</td><td>January</td><td>2006</td><td>900</td><td>487</td><td>638</td><td>563</td><td>ABOHAR</td><td>PB</td></tr>\n",
       "\t<tr><th scope=row>3</th><td>ABOHAR(PB)</td><td>January</td><td>2010</td><td>790</td><td>1283</td><td>1592</td><td>1460</td><td>ABOHAR</td><td>PB</td></tr>\n",
       "\t<tr><th scope=row>4</th><td>ABOHAR(PB)</td><td>January</td><td>2011</td><td>245</td><td>3067</td><td>3750</td><td>3433</td><td>ABOHAR</td><td>PB</td></tr>\n",
       "\t<tr><th scope=row>5</th><td>ABOHAR(PB)</td><td>January</td><td>2012</td><td>1035</td><td>523</td><td>686</td><td>605</td><td>ABOHAR</td><td>PB</td></tr>\n",
       "\t<tr><th scope=row>6</th><td>ABOHAR(PB)</td><td>January</td><td>2013</td><td>675</td><td>1327</td><td>1900</td><td>1605</td><td>ABOHAR</td><td>PB</td></tr>\n",
       "</tbody>\n",
       "</table>\n"
      ],
      "text/latex": [
       "\\begin{tabular}{r|lllllllll}\n",
       "  & market & month & year & quantity & priceMin & priceMax & priceMod & city & state\\\\\n",
       "\\hline\n",
       "\t1 & ABOHAR(PB) & January & 2005 & 2350 & 404 & 493 & 446 & ABOHAR & PB\\\\\n",
       "\t2 & ABOHAR(PB) & January & 2006 & 900 & 487 & 638 & 563 & ABOHAR & PB\\\\\n",
       "\t3 & ABOHAR(PB) & January & 2010 & 790 & 1283 & 1592 & 1460 & ABOHAR & PB\\\\\n",
       "\t4 & ABOHAR(PB) & January & 2011 & 245 & 3067 & 3750 & 3433 & ABOHAR & PB\\\\\n",
       "\t5 & ABOHAR(PB) & January & 2012 & 1035 & 523 & 686 & 605 & ABOHAR & PB\\\\\n",
       "\t6 & ABOHAR(PB) & January & 2013 & 675 & 1327 & 1900 & 1605 & ABOHAR & PB\\\\\n",
       "\\end{tabular}\n"
      ],
      "text/plain": [
       "      market   month year quantity priceMin priceMax priceMod   city state\n",
       "1 ABOHAR(PB) January 2005     2350      404      493      446 ABOHAR    PB\n",
       "2 ABOHAR(PB) January 2006      900      487      638      563 ABOHAR    PB\n",
       "3 ABOHAR(PB) January 2010      790     1283     1592     1460 ABOHAR    PB\n",
       "4 ABOHAR(PB) January 2011      245     3067     3750     3433 ABOHAR    PB\n",
       "5 ABOHAR(PB) January 2012     1035      523      686      605 ABOHAR    PB\n",
       "6 ABOHAR(PB) January 2013      675     1327     1900     1605 ABOHAR    PB"
      ]
     },
     "execution_count": 29,
     "metadata": {},
     "output_type": "execute_result"
    }
   ],
   "source": [
    "head(df)"
   ]
  },
  {
   "cell_type": "code",
   "execution_count": 30,
   "metadata": {
    "collapsed": false
   },
   "outputs": [
    {
     "data": {
      "text/html": [
       "<table>\n",
       "<thead><tr><th></th><th scope=col>market</th><th scope=col>month</th><th scope=col>year</th><th scope=col>quantity</th><th scope=col>priceMin</th><th scope=col>priceMax</th><th scope=col>priceMod</th><th scope=col>city</th><th scope=col>state</th></tr></thead>\n",
       "<tbody>\n",
       "\t<tr><th scope=row>1</th><td>BANGALORE</td><td>January</td><td>2004</td><td>227832</td><td>916</td><td>1066</td><td>991</td><td>BANGALORE</td><td>NA</td></tr>\n",
       "\t<tr><th scope=row>2</th><td>BANGALORE</td><td>January</td><td>2005</td><td>335679</td><td>470</td><td>597</td><td>522</td><td>BANGALORE</td><td>NA</td></tr>\n",
       "\t<tr><th scope=row>3</th><td>BANGALORE</td><td>January</td><td>2006</td><td>412185</td><td>286</td><td>617</td><td>537</td><td>BANGALORE</td><td>NA</td></tr>\n",
       "\t<tr><th scope=row>4</th><td>BANGALORE</td><td>January</td><td>2007</td><td>268268</td><td>586</td><td>1167</td><td>942</td><td>BANGALORE</td><td>NA</td></tr>\n",
       "\t<tr><th scope=row>5</th><td>BANGALORE</td><td>January</td><td>2008</td><td>393806</td><td>174</td><td>671</td><td>472</td><td>BANGALORE</td><td>NA</td></tr>\n",
       "\t<tr><th scope=row>6</th><td>BANGALORE</td><td>January</td><td>2009</td><td>374380</td><td>848</td><td>1554</td><td>1328</td><td>BANGALORE</td><td>NA</td></tr>\n",
       "</tbody>\n",
       "</table>\n"
      ],
      "text/latex": [
       "\\begin{tabular}{r|lllllllll}\n",
       "  & market & month & year & quantity & priceMin & priceMax & priceMod & city & state\\\\\n",
       "\\hline\n",
       "\t1 & BANGALORE & January & 2004 & 227832 & 916 & 1066 & 991 & BANGALORE & NA\\\\\n",
       "\t2 & BANGALORE & January & 2005 & 335679 & 470 & 597 & 522 & BANGALORE & NA\\\\\n",
       "\t3 & BANGALORE & January & 2006 & 412185 & 286 & 617 & 537 & BANGALORE & NA\\\\\n",
       "\t4 & BANGALORE & January & 2007 & 268268 & 586 & 1167 & 942 & BANGALORE & NA\\\\\n",
       "\t5 & BANGALORE & January & 2008 & 393806 & 174 & 671 & 472 & BANGALORE & NA\\\\\n",
       "\t6 & BANGALORE & January & 2009 & 374380 & 848 & 1554 & 1328 & BANGALORE & NA\\\\\n",
       "\\end{tabular}\n"
      ],
      "text/plain": [
       "     market   month year quantity priceMin priceMax priceMod      city state\n",
       "1 BANGALORE January 2004   227832      916     1066      991 BANGALORE  <NA>\n",
       "2 BANGALORE January 2005   335679      470      597      522 BANGALORE  <NA>\n",
       "3 BANGALORE January 2006   412185      286      617      537 BANGALORE  <NA>\n",
       "4 BANGALORE January 2007   268268      586     1167      942 BANGALORE  <NA>\n",
       "5 BANGALORE January 2008   393806      174      671      472 BANGALORE  <NA>\n",
       "6 BANGALORE January 2009   374380      848     1554     1328 BANGALORE  <NA>"
      ]
     },
     "execution_count": 30,
     "metadata": {},
     "output_type": "execute_result"
    }
   ],
   "source": [
    "head(df %>% filter(city == 'BANGALORE'))"
   ]
  },
  {
   "cell_type": "code",
   "execution_count": 31,
   "metadata": {
    "collapsed": false
   },
   "outputs": [],
   "source": [
    "df <- df %>%\n",
    "      mutate(state = ifelse(is.na(state), market, state))"
   ]
  },
  {
   "cell_type": "code",
   "execution_count": 32,
   "metadata": {
    "collapsed": false
   },
   "outputs": [
    {
     "data": {
      "text/html": [
       "<ol class=list-inline>\n",
       "\t<li>10320</li>\n",
       "\t<li>9</li>\n",
       "</ol>\n"
      ],
      "text/latex": [
       "\\begin{enumerate*}\n",
       "\\item 10320\n",
       "\\item 9\n",
       "\\end{enumerate*}\n"
      ],
      "text/markdown": [
       "1. 10320\n",
       "2. 9\n",
       "\n",
       "\n"
      ],
      "text/plain": [
       "[1] 10320     9"
      ]
     },
     "execution_count": 32,
     "metadata": {},
     "output_type": "execute_result"
    }
   ],
   "source": [
    "dim(df)"
   ]
  },
  {
   "cell_type": "code",
   "execution_count": 33,
   "metadata": {
    "collapsed": false
   },
   "outputs": [
    {
     "data": {
      "text/html": [
       "<table>\n",
       "<thead><tr><th></th><th scope=col>market</th><th scope=col>month</th><th scope=col>year</th><th scope=col>quantity</th><th scope=col>priceMin</th><th scope=col>priceMax</th><th scope=col>priceMod</th><th scope=col>city</th><th scope=col>state</th></tr></thead>\n",
       "<tbody>\n",
       "\t<tr><th scope=row>10315</th><td>YEOLA(MS)</td><td>December</td><td>2010</td><td>57586</td><td>541</td><td>2713</td><td>1830</td><td>YEOLA</td><td>MS</td></tr>\n",
       "\t<tr><th scope=row>10316</th><td>YEOLA(MS)</td><td>December</td><td>2011</td><td>131326</td><td>282</td><td>612</td><td>526</td><td>YEOLA</td><td>MS</td></tr>\n",
       "\t<tr><th scope=row>10317</th><td>YEOLA(MS)</td><td>December</td><td>2012</td><td>207066</td><td>485</td><td>1327</td><td>1136</td><td>YEOLA</td><td>MS</td></tr>\n",
       "\t<tr><th scope=row>10318</th><td>YEOLA(MS)</td><td>December</td><td>2013</td><td>215883</td><td>472</td><td>1427</td><td>1177</td><td>YEOLA</td><td>MS</td></tr>\n",
       "\t<tr><th scope=row>10319</th><td>YEOLA(MS)</td><td>December</td><td>2014</td><td>201077</td><td>446</td><td>1654</td><td>1456</td><td>YEOLA</td><td>MS</td></tr>\n",
       "\t<tr><th scope=row>10320</th><td>YEOLA(MS)</td><td>December</td><td>2015</td><td>223315</td><td>609</td><td>1446</td><td>1126</td><td>YEOLA</td><td>MS</td></tr>\n",
       "</tbody>\n",
       "</table>\n"
      ],
      "text/latex": [
       "\\begin{tabular}{r|lllllllll}\n",
       "  & market & month & year & quantity & priceMin & priceMax & priceMod & city & state\\\\\n",
       "\\hline\n",
       "\t10315 & YEOLA(MS) & December & 2010 & 57586 & 541 & 2713 & 1830 & YEOLA & MS\\\\\n",
       "\t10316 & YEOLA(MS) & December & 2011 & 131326 & 282 & 612 & 526 & YEOLA & MS\\\\\n",
       "\t10317 & YEOLA(MS) & December & 2012 & 207066 & 485 & 1327 & 1136 & YEOLA & MS\\\\\n",
       "\t10318 & YEOLA(MS) & December & 2013 & 215883 & 472 & 1427 & 1177 & YEOLA & MS\\\\\n",
       "\t10319 & YEOLA(MS) & December & 2014 & 201077 & 446 & 1654 & 1456 & YEOLA & MS\\\\\n",
       "\t10320 & YEOLA(MS) & December & 2015 & 223315 & 609 & 1446 & 1126 & YEOLA & MS\\\\\n",
       "\\end{tabular}\n"
      ],
      "text/plain": [
       "         market    month year quantity priceMin priceMax priceMod  city state\n",
       "10315 YEOLA(MS) December 2010    57586      541     2713     1830 YEOLA    MS\n",
       "10316 YEOLA(MS) December 2011   131326      282      612      526 YEOLA    MS\n",
       "10317 YEOLA(MS) December 2012   207066      485     1327     1136 YEOLA    MS\n",
       "10318 YEOLA(MS) December 2013   215883      472     1427     1177 YEOLA    MS\n",
       "10319 YEOLA(MS) December 2014   201077      446     1654     1456 YEOLA    MS\n",
       "10320 YEOLA(MS) December 2015   223315      609     1446     1126 YEOLA    MS"
      ]
     },
     "execution_count": 33,
     "metadata": {},
     "output_type": "execute_result"
    }
   ],
   "source": [
    "tail(df)"
   ]
  },
  {
   "cell_type": "code",
   "execution_count": 34,
   "metadata": {
    "collapsed": false
   },
   "outputs": [
    {
     "name": "stdout",
     "output_type": "stream",
     "text": [
      "'data.frame':\t10320 obs. of  9 variables:\n",
      " $ market  : chr  \"ABOHAR(PB)\" \"ABOHAR(PB)\" \"ABOHAR(PB)\" \"ABOHAR(PB)\" ...\n",
      " $ month   : chr  \"January\" \"January\" \"January\" \"January\" ...\n",
      " $ year    : num  2005 2006 2010 2011 2012 ...\n",
      " $ quantity: num  2350 900 790 245 1035 ...\n",
      " $ priceMin: num  404 487 1283 3067 523 ...\n",
      " $ priceMax: num  493 638 1592 3750 686 ...\n",
      " $ priceMod: num  446 563 1460 3433 605 ...\n",
      " $ city    : chr  \"ABOHAR\" \"ABOHAR\" \"ABOHAR\" \"ABOHAR\" ...\n",
      " $ state   : chr  \"PB\" \"PB\" \"PB\" \"PB\" ...\n"
     ]
    }
   ],
   "source": [
    "str(df)"
   ]
  },
  {
   "cell_type": "code",
   "execution_count": 35,
   "metadata": {
    "collapsed": false
   },
   "outputs": [
    {
     "data": {
      "text/html": [
       "<ol class=list-inline>\n",
       "\t<li>'PB'</li>\n",
       "\t<li>'UP'</li>\n",
       "\t<li>'GUJ'</li>\n",
       "\t<li>'MS'</li>\n",
       "\t<li>'RAJ'</li>\n",
       "\t<li>'BANGALORE'</li>\n",
       "\t<li>'KNT'</li>\n",
       "\t<li>'BHOPAL'</li>\n",
       "\t<li>'OR'</li>\n",
       "\t<li>'BHR'</li>\n",
       "\t<li>'WB'</li>\n",
       "\t<li>'CHANDIGARH'</li>\n",
       "\t<li>'CHENNAI'</li>\n",
       "\t<li>'TN '</li>\n",
       "\t<li>'UTT'</li>\n",
       "\t<li>'DELHI'</li>\n",
       "\t<li>'MP'</li>\n",
       "\t<li>'TN'</li>\n",
       "\t<li>'GUWAHATI'</li>\n",
       "\t<li>'HYDERABAD'</li>\n",
       "\t<li>'JAIPUR'</li>\n",
       "\t<li>'WHITE'</li>\n",
       "\t<li>'JAMMU'</li>\n",
       "\t<li>'HR'</li>\n",
       "\t<li>'KOLKATA'</li>\n",
       "\t<li>'AP'</li>\n",
       "\t<li>'LUCKNOW'</li>\n",
       "\t<li>'MUMBAI'</li>\n",
       "\t<li>'NAGPUR'</li>\n",
       "\t<li>'KER'</li>\n",
       "\t<li>'PATNA'</li>\n",
       "\t<li>'CHGARH'</li>\n",
       "\t<li>'JH'</li>\n",
       "\t<li>'SHIMLA'</li>\n",
       "\t<li>'SRINAGAR'</li>\n",
       "\t<li>'TRIVENDRUM'</li>\n",
       "</ol>\n"
      ],
      "text/latex": [
       "\\begin{enumerate*}\n",
       "\\item 'PB'\n",
       "\\item 'UP'\n",
       "\\item 'GUJ'\n",
       "\\item 'MS'\n",
       "\\item 'RAJ'\n",
       "\\item 'BANGALORE'\n",
       "\\item 'KNT'\n",
       "\\item 'BHOPAL'\n",
       "\\item 'OR'\n",
       "\\item 'BHR'\n",
       "\\item 'WB'\n",
       "\\item 'CHANDIGARH'\n",
       "\\item 'CHENNAI'\n",
       "\\item 'TN '\n",
       "\\item 'UTT'\n",
       "\\item 'DELHI'\n",
       "\\item 'MP'\n",
       "\\item 'TN'\n",
       "\\item 'GUWAHATI'\n",
       "\\item 'HYDERABAD'\n",
       "\\item 'JAIPUR'\n",
       "\\item 'WHITE'\n",
       "\\item 'JAMMU'\n",
       "\\item 'HR'\n",
       "\\item 'KOLKATA'\n",
       "\\item 'AP'\n",
       "\\item 'LUCKNOW'\n",
       "\\item 'MUMBAI'\n",
       "\\item 'NAGPUR'\n",
       "\\item 'KER'\n",
       "\\item 'PATNA'\n",
       "\\item 'CHGARH'\n",
       "\\item 'JH'\n",
       "\\item 'SHIMLA'\n",
       "\\item 'SRINAGAR'\n",
       "\\item 'TRIVENDRUM'\n",
       "\\end{enumerate*}\n"
      ],
      "text/markdown": [
       "1. 'PB'\n",
       "2. 'UP'\n",
       "3. 'GUJ'\n",
       "4. 'MS'\n",
       "5. 'RAJ'\n",
       "6. 'BANGALORE'\n",
       "7. 'KNT'\n",
       "8. 'BHOPAL'\n",
       "9. 'OR'\n",
       "10. 'BHR'\n",
       "11. 'WB'\n",
       "12. 'CHANDIGARH'\n",
       "13. 'CHENNAI'\n",
       "14. 'TN '\n",
       "15. 'UTT'\n",
       "16. 'DELHI'\n",
       "17. 'MP'\n",
       "18. 'TN'\n",
       "19. 'GUWAHATI'\n",
       "20. 'HYDERABAD'\n",
       "21. 'JAIPUR'\n",
       "22. 'WHITE'\n",
       "23. 'JAMMU'\n",
       "24. 'HR'\n",
       "25. 'KOLKATA'\n",
       "26. 'AP'\n",
       "27. 'LUCKNOW'\n",
       "28. 'MUMBAI'\n",
       "29. 'NAGPUR'\n",
       "30. 'KER'\n",
       "31. 'PATNA'\n",
       "32. 'CHGARH'\n",
       "33. 'JH'\n",
       "34. 'SHIMLA'\n",
       "35. 'SRINAGAR'\n",
       "36. 'TRIVENDRUM'\n",
       "\n",
       "\n"
      ],
      "text/plain": [
       " [1] \"PB\"         \"UP\"         \"GUJ\"        \"MS\"         \"RAJ\"       \n",
       " [6] \"BANGALORE\"  \"KNT\"        \"BHOPAL\"     \"OR\"         \"BHR\"       \n",
       "[11] \"WB\"         \"CHANDIGARH\" \"CHENNAI\"    \"TN \"        \"UTT\"       \n",
       "[16] \"DELHI\"      \"MP\"         \"TN\"         \"GUWAHATI\"   \"HYDERABAD\" \n",
       "[21] \"JAIPUR\"     \"WHITE\"      \"JAMMU\"      \"HR\"         \"KOLKATA\"   \n",
       "[26] \"AP\"         \"LUCKNOW\"    \"MUMBAI\"     \"NAGPUR\"     \"KER\"       \n",
       "[31] \"PATNA\"      \"CHGARH\"     \"JH\"         \"SHIMLA\"     \"SRINAGAR\"  \n",
       "[36] \"TRIVENDRUM\""
      ]
     },
     "execution_count": 35,
     "metadata": {},
     "output_type": "execute_result"
    }
   ],
   "source": [
    "unique(df$state)"
   ]
  },
  {
   "cell_type": "code",
   "execution_count": 36,
   "metadata": {
    "collapsed": false
   },
   "outputs": [],
   "source": [
    "changeList <- c('BANGALORE' = 'KNT', 'BHOPAL' = 'MP', 'CHANDIGARH' = 'HR', 'CHENNAI' = 'TN', 'UTT' = 'UP', \n",
    "               'GUWAHATI' = 'ASM', 'HYDERABAD' = 'AP', 'DELHI' = 'DEL', 'JAIPUR' = 'RAJ', 'WHITE' = 'MS', 'JAMMU' = 'JK', \n",
    "                'KOLKATA' = 'WB', 'LUCKNOW' = 'UP', 'MUMBAI' = 'MH','NAGPUR' = 'MH', 'PATNA' = 'BHR', \n",
    "                'CHGARH' = 'HR', 'SHIMLA' = 'HP', 'SRINAGAR' = 'JK', 'TRIVENDRUM'= 'KEL')"
   ]
  },
  {
   "cell_type": "code",
   "execution_count": 37,
   "metadata": {
    "collapsed": false
   },
   "outputs": [],
   "source": [
    "df$state <- revalue(df$state, changeList)"
   ]
  },
  {
   "cell_type": "code",
   "execution_count": 38,
   "metadata": {
    "collapsed": false
   },
   "outputs": [
    {
     "data": {
      "text/html": [
       "<ol class=list-inline>\n",
       "\t<li>'PB'</li>\n",
       "\t<li>'UP'</li>\n",
       "\t<li>'GUJ'</li>\n",
       "\t<li>'MS'</li>\n",
       "\t<li>'RAJ'</li>\n",
       "\t<li>'KNT'</li>\n",
       "\t<li>'MP'</li>\n",
       "\t<li>'OR'</li>\n",
       "\t<li>'BHR'</li>\n",
       "\t<li>'WB'</li>\n",
       "\t<li>'HR'</li>\n",
       "\t<li>'TN'</li>\n",
       "\t<li>'TN '</li>\n",
       "\t<li>'DEL'</li>\n",
       "\t<li>'ASM'</li>\n",
       "\t<li>'AP'</li>\n",
       "\t<li>'JK'</li>\n",
       "\t<li>'MH'</li>\n",
       "\t<li>'KER'</li>\n",
       "\t<li>'JH'</li>\n",
       "\t<li>'HP'</li>\n",
       "\t<li>'KEL'</li>\n",
       "</ol>\n"
      ],
      "text/latex": [
       "\\begin{enumerate*}\n",
       "\\item 'PB'\n",
       "\\item 'UP'\n",
       "\\item 'GUJ'\n",
       "\\item 'MS'\n",
       "\\item 'RAJ'\n",
       "\\item 'KNT'\n",
       "\\item 'MP'\n",
       "\\item 'OR'\n",
       "\\item 'BHR'\n",
       "\\item 'WB'\n",
       "\\item 'HR'\n",
       "\\item 'TN'\n",
       "\\item 'TN '\n",
       "\\item 'DEL'\n",
       "\\item 'ASM'\n",
       "\\item 'AP'\n",
       "\\item 'JK'\n",
       "\\item 'MH'\n",
       "\\item 'KER'\n",
       "\\item 'JH'\n",
       "\\item 'HP'\n",
       "\\item 'KEL'\n",
       "\\end{enumerate*}\n"
      ],
      "text/markdown": [
       "1. 'PB'\n",
       "2. 'UP'\n",
       "3. 'GUJ'\n",
       "4. 'MS'\n",
       "5. 'RAJ'\n",
       "6. 'KNT'\n",
       "7. 'MP'\n",
       "8. 'OR'\n",
       "9. 'BHR'\n",
       "10. 'WB'\n",
       "11. 'HR'\n",
       "12. 'TN'\n",
       "13. 'TN '\n",
       "14. 'DEL'\n",
       "15. 'ASM'\n",
       "16. 'AP'\n",
       "17. 'JK'\n",
       "18. 'MH'\n",
       "19. 'KER'\n",
       "20. 'JH'\n",
       "21. 'HP'\n",
       "22. 'KEL'\n",
       "\n",
       "\n"
      ],
      "text/plain": [
       " [1] \"PB\"  \"UP\"  \"GUJ\" \"MS\"  \"RAJ\" \"KNT\" \"MP\"  \"OR\"  \"BHR\" \"WB\"  \"HR\"  \"TN\" \n",
       "[13] \"TN \" \"DEL\" \"ASM\" \"AP\"  \"JK\"  \"MH\"  \"KER\" \"JH\"  \"HP\"  \"KEL\""
      ]
     },
     "execution_count": 38,
     "metadata": {},
     "output_type": "execute_result"
    }
   ],
   "source": [
    "unique(df$state)"
   ]
  },
  {
   "cell_type": "markdown",
   "metadata": {
    "collapsed": true
   },
   "source": [
    "# Date Fix"
   ]
  },
  {
   "cell_type": "code",
   "execution_count": 39,
   "metadata": {
    "collapsed": true
   },
   "outputs": [],
   "source": [
    "df <- df %>%\n",
    "      mutate(date = paste(month, year, sep=\"-\"))"
   ]
  },
  {
   "cell_type": "code",
   "execution_count": 40,
   "metadata": {
    "collapsed": false
   },
   "outputs": [
    {
     "data": {
      "text/html": [
       "<table>\n",
       "<thead><tr><th></th><th scope=col>market</th><th scope=col>month</th><th scope=col>year</th><th scope=col>quantity</th><th scope=col>priceMin</th><th scope=col>priceMax</th><th scope=col>priceMod</th><th scope=col>city</th><th scope=col>state</th><th scope=col>date</th></tr></thead>\n",
       "<tbody>\n",
       "\t<tr><th scope=row>1</th><td>ABOHAR(PB)</td><td>January</td><td>2005</td><td>2350</td><td>404</td><td>493</td><td>446</td><td>ABOHAR</td><td>PB</td><td>January-2005</td></tr>\n",
       "\t<tr><th scope=row>2</th><td>ABOHAR(PB)</td><td>January</td><td>2006</td><td>900</td><td>487</td><td>638</td><td>563</td><td>ABOHAR</td><td>PB</td><td>January-2006</td></tr>\n",
       "\t<tr><th scope=row>3</th><td>ABOHAR(PB)</td><td>January</td><td>2010</td><td>790</td><td>1283</td><td>1592</td><td>1460</td><td>ABOHAR</td><td>PB</td><td>January-2010</td></tr>\n",
       "\t<tr><th scope=row>4</th><td>ABOHAR(PB)</td><td>January</td><td>2011</td><td>245</td><td>3067</td><td>3750</td><td>3433</td><td>ABOHAR</td><td>PB</td><td>January-2011</td></tr>\n",
       "\t<tr><th scope=row>5</th><td>ABOHAR(PB)</td><td>January</td><td>2012</td><td>1035</td><td>523</td><td>686</td><td>605</td><td>ABOHAR</td><td>PB</td><td>January-2012</td></tr>\n",
       "\t<tr><th scope=row>6</th><td>ABOHAR(PB)</td><td>January</td><td>2013</td><td>675</td><td>1327</td><td>1900</td><td>1605</td><td>ABOHAR</td><td>PB</td><td>January-2013</td></tr>\n",
       "</tbody>\n",
       "</table>\n"
      ],
      "text/latex": [
       "\\begin{tabular}{r|llllllllll}\n",
       "  & market & month & year & quantity & priceMin & priceMax & priceMod & city & state & date\\\\\n",
       "\\hline\n",
       "\t1 & ABOHAR(PB) & January & 2005 & 2350 & 404 & 493 & 446 & ABOHAR & PB & January-2005\\\\\n",
       "\t2 & ABOHAR(PB) & January & 2006 & 900 & 487 & 638 & 563 & ABOHAR & PB & January-2006\\\\\n",
       "\t3 & ABOHAR(PB) & January & 2010 & 790 & 1283 & 1592 & 1460 & ABOHAR & PB & January-2010\\\\\n",
       "\t4 & ABOHAR(PB) & January & 2011 & 245 & 3067 & 3750 & 3433 & ABOHAR & PB & January-2011\\\\\n",
       "\t5 & ABOHAR(PB) & January & 2012 & 1035 & 523 & 686 & 605 & ABOHAR & PB & January-2012\\\\\n",
       "\t6 & ABOHAR(PB) & January & 2013 & 675 & 1327 & 1900 & 1605 & ABOHAR & PB & January-2013\\\\\n",
       "\\end{tabular}\n"
      ],
      "text/plain": [
       "      market   month year quantity priceMin priceMax priceMod   city state\n",
       "1 ABOHAR(PB) January 2005     2350      404      493      446 ABOHAR    PB\n",
       "2 ABOHAR(PB) January 2006      900      487      638      563 ABOHAR    PB\n",
       "3 ABOHAR(PB) January 2010      790     1283     1592     1460 ABOHAR    PB\n",
       "4 ABOHAR(PB) January 2011      245     3067     3750     3433 ABOHAR    PB\n",
       "5 ABOHAR(PB) January 2012     1035      523      686      605 ABOHAR    PB\n",
       "6 ABOHAR(PB) January 2013      675     1327     1900     1605 ABOHAR    PB\n",
       "          date\n",
       "1 January-2005\n",
       "2 January-2006\n",
       "3 January-2010\n",
       "4 January-2011\n",
       "5 January-2012\n",
       "6 January-2013"
      ]
     },
     "execution_count": 40,
     "metadata": {},
     "output_type": "execute_result"
    }
   ],
   "source": [
    "head(df)"
   ]
  },
  {
   "cell_type": "code",
   "execution_count": 41,
   "metadata": {
    "collapsed": true
   },
   "outputs": [],
   "source": [
    "df$date = as.Date(paste(\"01-\",df$date,sep=\"\"), \"%d-%B-%Y\")"
   ]
  },
  {
   "cell_type": "code",
   "execution_count": 42,
   "metadata": {
    "collapsed": false
   },
   "outputs": [
    {
     "data": {
      "text/html": [
       "<table>\n",
       "<thead><tr><th></th><th scope=col>market</th><th scope=col>month</th><th scope=col>year</th><th scope=col>quantity</th><th scope=col>priceMin</th><th scope=col>priceMax</th><th scope=col>priceMod</th><th scope=col>city</th><th scope=col>state</th><th scope=col>date</th></tr></thead>\n",
       "<tbody>\n",
       "\t<tr><th scope=row>1</th><td>ABOHAR(PB)</td><td>January</td><td>2005</td><td>2350</td><td>404</td><td>493</td><td>446</td><td>ABOHAR</td><td>PB</td><td>2005-01-01</td></tr>\n",
       "\t<tr><th scope=row>2</th><td>ABOHAR(PB)</td><td>January</td><td>2006</td><td>900</td><td>487</td><td>638</td><td>563</td><td>ABOHAR</td><td>PB</td><td>2006-01-01</td></tr>\n",
       "\t<tr><th scope=row>3</th><td>ABOHAR(PB)</td><td>January</td><td>2010</td><td>790</td><td>1283</td><td>1592</td><td>1460</td><td>ABOHAR</td><td>PB</td><td>2010-01-01</td></tr>\n",
       "\t<tr><th scope=row>4</th><td>ABOHAR(PB)</td><td>January</td><td>2011</td><td>245</td><td>3067</td><td>3750</td><td>3433</td><td>ABOHAR</td><td>PB</td><td>2011-01-01</td></tr>\n",
       "\t<tr><th scope=row>5</th><td>ABOHAR(PB)</td><td>January</td><td>2012</td><td>1035</td><td>523</td><td>686</td><td>605</td><td>ABOHAR</td><td>PB</td><td>2012-01-01</td></tr>\n",
       "\t<tr><th scope=row>6</th><td>ABOHAR(PB)</td><td>January</td><td>2013</td><td>675</td><td>1327</td><td>1900</td><td>1605</td><td>ABOHAR</td><td>PB</td><td>2013-01-01</td></tr>\n",
       "</tbody>\n",
       "</table>\n"
      ],
      "text/latex": [
       "\\begin{tabular}{r|llllllllll}\n",
       "  & market & month & year & quantity & priceMin & priceMax & priceMod & city & state & date\\\\\n",
       "\\hline\n",
       "\t1 & ABOHAR(PB) & January & 2005 & 2350 & 404 & 493 & 446 & ABOHAR & PB & 2005-01-01\\\\\n",
       "\t2 & ABOHAR(PB) & January & 2006 & 900 & 487 & 638 & 563 & ABOHAR & PB & 2006-01-01\\\\\n",
       "\t3 & ABOHAR(PB) & January & 2010 & 790 & 1283 & 1592 & 1460 & ABOHAR & PB & 2010-01-01\\\\\n",
       "\t4 & ABOHAR(PB) & January & 2011 & 245 & 3067 & 3750 & 3433 & ABOHAR & PB & 2011-01-01\\\\\n",
       "\t5 & ABOHAR(PB) & January & 2012 & 1035 & 523 & 686 & 605 & ABOHAR & PB & 2012-01-01\\\\\n",
       "\t6 & ABOHAR(PB) & January & 2013 & 675 & 1327 & 1900 & 1605 & ABOHAR & PB & 2013-01-01\\\\\n",
       "\\end{tabular}\n"
      ],
      "text/plain": [
       "      market   month year quantity priceMin priceMax priceMod   city state\n",
       "1 ABOHAR(PB) January 2005     2350      404      493      446 ABOHAR    PB\n",
       "2 ABOHAR(PB) January 2006      900      487      638      563 ABOHAR    PB\n",
       "3 ABOHAR(PB) January 2010      790     1283     1592     1460 ABOHAR    PB\n",
       "4 ABOHAR(PB) January 2011      245     3067     3750     3433 ABOHAR    PB\n",
       "5 ABOHAR(PB) January 2012     1035      523      686      605 ABOHAR    PB\n",
       "6 ABOHAR(PB) January 2013      675     1327     1900     1605 ABOHAR    PB\n",
       "        date\n",
       "1 2005-01-01\n",
       "2 2006-01-01\n",
       "3 2010-01-01\n",
       "4 2011-01-01\n",
       "5 2012-01-01\n",
       "6 2013-01-01"
      ]
     },
     "execution_count": 42,
     "metadata": {},
     "output_type": "execute_result"
    }
   ],
   "source": [
    "head(df)"
   ]
  },
  {
   "cell_type": "code",
   "execution_count": 43,
   "metadata": {
    "collapsed": false
   },
   "outputs": [
    {
     "name": "stdout",
     "output_type": "stream",
     "text": [
      "'data.frame':\t10320 obs. of  10 variables:\n",
      " $ market  : chr  \"ABOHAR(PB)\" \"ABOHAR(PB)\" \"ABOHAR(PB)\" \"ABOHAR(PB)\" ...\n",
      " $ month   : chr  \"January\" \"January\" \"January\" \"January\" ...\n",
      " $ year    : num  2005 2006 2010 2011 2012 ...\n",
      " $ quantity: num  2350 900 790 245 1035 ...\n",
      " $ priceMin: num  404 487 1283 3067 523 ...\n",
      " $ priceMax: num  493 638 1592 3750 686 ...\n",
      " $ priceMod: num  446 563 1460 3433 605 ...\n",
      " $ city    : chr  \"ABOHAR\" \"ABOHAR\" \"ABOHAR\" \"ABOHAR\" ...\n",
      " $ state   : chr  \"PB\" \"PB\" \"PB\" \"PB\" ...\n",
      " $ date    : Date, format: \"2005-01-01\" \"2006-01-01\" ...\n"
     ]
    }
   ],
   "source": [
    "str(df)"
   ]
  },
  {
   "cell_type": "code",
   "execution_count": 44,
   "metadata": {
    "collapsed": false
   },
   "outputs": [],
   "source": [
    "write.csv(df, 'MonthWiseMarketArrivals_Clean.csv', row.names = FALSE)"
   ]
  },
  {
   "cell_type": "markdown",
   "metadata": {},
   "source": [
    "## SQL Works too\n",
    "\n",
    "- Loading SQL\n",
    "- Basic verbs\n",
    "- Laziness\n",
    "- SQL Query"
   ]
  },
  {
   "cell_type": "markdown",
   "metadata": {
    "collapsed": true
   },
   "source": [
    "SQL helps you strive towards data independence. Data independence is defined as:\n",
    "\n",
    "... the independence of application programs and terminal activities from the growth in data types and changes in data representations.\""
   ]
  },
  {
   "cell_type": "markdown",
   "metadata": {},
   "source": [
    "Let us just use sqlite for today, as it is the most simple to setup"
   ]
  },
  {
   "cell_type": "code",
   "execution_count": 45,
   "metadata": {
    "collapsed": false
   },
   "outputs": [
    {
     "name": "stderr",
     "output_type": "stream",
     "text": [
      "Installing package into '/usr/local/lib/R/3.2/site-library'\n",
      "(as 'lib' is unspecified)\n"
     ]
    },
    {
     "name": "stdout",
     "output_type": "stream",
     "text": [
      "\n",
      "The downloaded source packages are in\n",
      "\t'/private/var/folders/04/r20f0_4n2m7cv23lr8t97wp00000gn/T/RtmpPoJ2Cx/downloaded_packages'\n"
     ]
    }
   ],
   "source": [
    "install.packages('RSQLite',repos='http://ftp.iitm.ac.in/cran/')"
   ]
  },
  {
   "cell_type": "code",
   "execution_count": 46,
   "metadata": {
    "collapsed": false
   },
   "outputs": [
    {
     "name": "stderr",
     "output_type": "stream",
     "text": [
      "Loading required package: DBI\n"
     ]
    }
   ],
   "source": [
    "library(RSQLite)"
   ]
  },
  {
   "cell_type": "markdown",
   "metadata": {},
   "source": [
    "# Loading data into SQL"
   ]
  },
  {
   "cell_type": "code",
   "execution_count": 47,
   "metadata": {
    "collapsed": false
   },
   "outputs": [],
   "source": [
    "my_db <- src_sqlite(\"my_db.sqlite3\", create = TRUE)"
   ]
  },
  {
   "cell_type": "markdown",
   "metadata": {},
   "source": [
    "Now let us load the csv into the database"
   ]
  },
  {
   "cell_type": "code",
   "execution_count": 48,
   "metadata": {
    "collapsed": true
   },
   "outputs": [],
   "source": [
    "df <- read.csv('MonthWiseMarketArrivalsAll.csv', stringsAsFactor = FALSE)"
   ]
  },
  {
   "cell_type": "code",
   "execution_count": 49,
   "metadata": {
    "collapsed": true
   },
   "outputs": [],
   "source": [
    "column_names <- c('market', 'month', 'year', 'quantity', 'priceMin', 'priceMax', 'priceMod')"
   ]
  },
  {
   "cell_type": "code",
   "execution_count": 50,
   "metadata": {
    "collapsed": true
   },
   "outputs": [],
   "source": [
    "colnames(df) <- column_names"
   ]
  },
  {
   "cell_type": "code",
   "execution_count": 51,
   "metadata": {
    "collapsed": false
   },
   "outputs": [],
   "source": [
    "onion_sqlite <- copy_to(dest=my_db,df=df,name='onion',temporary =  FALSE)"
   ]
  },
  {
   "cell_type": "code",
   "execution_count": 52,
   "metadata": {
    "collapsed": false
   },
   "outputs": [
    {
     "data": {
      "text/plain": [
       "Source: sqlite 3.8.6 [my_db.sqlite3]\n",
       "From: <derived table> [?? x 7]\n",
       "\n",
       "       market   month  year quantity priceMin priceMax priceMod\n",
       "        (chr)   (chr) (chr)    (int)    (chr)    (chr)    (chr)\n",
       "1  ABOHAR(PB) January  2005     2350      404      493      446\n",
       "2  ABOHAR(PB) January  2006      900      487      638      563\n",
       "3  ABOHAR(PB) January  2010      790     1283     1592     1460\n",
       "..        ...     ...   ...      ...      ...      ...      ..."
      ]
     },
     "execution_count": 52,
     "metadata": {},
     "output_type": "execute_result"
    }
   ],
   "source": [
    "tbl(my_db,sql(\"SELECT * from onion limit 3\"))"
   ]
  },
  {
   "cell_type": "markdown",
   "metadata": {},
   "source": [
    "# Basic verbs\n",
    "   \n",
    "   * select\n",
    "   * filter\n",
    "   * arrange\n",
    "   * mutate\n",
    "   * summarize"
   ]
  },
  {
   "cell_type": "code",
   "execution_count": 53,
   "metadata": {
    "collapsed": false
   },
   "outputs": [
    {
     "data": {
      "text/plain": [
       "Source: sqlite 3.8.6 [my_db.sqlite3]\n",
       "From: onion [10,321 x 2]\n",
       "\n",
       "       market    month\n",
       "        (chr)    (chr)\n",
       "1  ABOHAR(PB)  January\n",
       "2  ABOHAR(PB)  January\n",
       "3  ABOHAR(PB)  January\n",
       "4  ABOHAR(PB)  January\n",
       "5  ABOHAR(PB)  January\n",
       "6  ABOHAR(PB)  January\n",
       "7  ABOHAR(PB)  January\n",
       "8  ABOHAR(PB)  January\n",
       "9  ABOHAR(PB) February\n",
       "10 ABOHAR(PB) February\n",
       "..        ...      ..."
      ]
     },
     "execution_count": 53,
     "metadata": {},
     "output_type": "execute_result"
    }
   ],
   "source": [
    "#let us select entries from the table\n",
    "select(onion_sqlite,market,month)"
   ]
  },
  {
   "cell_type": "code",
   "execution_count": 54,
   "metadata": {
    "collapsed": false
   },
   "outputs": [
    {
     "data": {
      "text/plain": [
       "Source: sqlite 3.8.6 [my_db.sqlite3]\n",
       "From: onion [90 x 7]\n",
       "Filter: market == \"ABOHAR(PB)\" \n",
       "\n",
       "       market    month  year quantity priceMin priceMax priceMod\n",
       "        (chr)    (chr) (chr)    (int)    (chr)    (chr)    (chr)\n",
       "1  ABOHAR(PB)  January  2005     2350      404      493      446\n",
       "2  ABOHAR(PB)  January  2006      900      487      638      563\n",
       "3  ABOHAR(PB)  January  2010      790     1283     1592     1460\n",
       "4  ABOHAR(PB)  January  2011      245     3067     3750     3433\n",
       "5  ABOHAR(PB)  January  2012     1035      523      686      605\n",
       "6  ABOHAR(PB)  January  2013      675     1327     1900     1605\n",
       "7  ABOHAR(PB)  January  2014      440     1025     1481     1256\n",
       "8  ABOHAR(PB)  January  2015     1305     1309     1858     1613\n",
       "9  ABOHAR(PB) February  2005     1400      286      365      324\n",
       "10 ABOHAR(PB) February  2006     1800      343      411      380\n",
       "..        ...      ...   ...      ...      ...      ...      ..."
      ]
     },
     "execution_count": 54,
     "metadata": {},
     "output_type": "execute_result"
    }
   ],
   "source": [
    "# now let us select entries which belong to the Market ABOHAR(PB)\n",
    "filter(onion_sqlite, market =='ABOHAR(PB)')"
   ]
  },
  {
   "cell_type": "code",
   "execution_count": 55,
   "metadata": {
    "collapsed": false
   },
   "outputs": [
    {
     "data": {
      "text/plain": [
       "Source: sqlite 3.8.6 [my_db.sqlite3]\n",
       "From: onion [90 x 7]\n",
       "Filter: market == \"ABOHAR(PB)\" \n",
       "Arrange: year \n",
       "\n",
       "       market     month  year quantity priceMin priceMax priceMod\n",
       "        (chr)     (chr) (chr)    (int)    (chr)    (chr)    (chr)\n",
       "1  ABOHAR(PB)   January  2005     2350      404      493      446\n",
       "2  ABOHAR(PB)  February  2005     1400      286      365      324\n",
       "3  ABOHAR(PB)     March  2005      900      281      357      322\n",
       "4  ABOHAR(PB)       May  2005      375      390      550      475\n",
       "5  ABOHAR(PB)      June  2005     1250      269      368      318\n",
       "6  ABOHAR(PB)      July  2005      825      319      387      348\n",
       "7  ABOHAR(PB)    August  2005     1400      457      543      499\n",
       "8  ABOHAR(PB) September  2005     2525      896     1048      963\n",
       "9  ABOHAR(PB)   October  2005      150      783     1370     1217\n",
       "10 ABOHAR(PB)  November  2005      100      600      800      700\n",
       "..        ...       ...   ...      ...      ...      ...      ..."
      ]
     },
     "execution_count": 55,
     "metadata": {},
     "output_type": "execute_result"
    }
   ],
   "source": [
    "# now let us sort on year for ABOHAR(FB)\n",
    "filter(onion_sqlite, market =='ABOHAR(PB)') %>% arrange(year)"
   ]
  },
  {
   "cell_type": "code",
   "execution_count": 56,
   "metadata": {
    "collapsed": false
   },
   "outputs": [
    {
     "data": {
      "text/plain": [
       "Source: sqlite 3.8.6 [my_db.sqlite3]\n",
       "From: onion [90 x 8]\n",
       "Filter: market == \"ABOHAR(PB)\" \n",
       "\n",
       "       market    month  year quantity priceMin priceMax priceMod  diff\n",
       "        (chr)    (chr) (chr)    (int)    (chr)    (chr)    (chr) (int)\n",
       "1  ABOHAR(PB)  January  2005     2350      404      493      446    89\n",
       "2  ABOHAR(PB)  January  2006      900      487      638      563   151\n",
       "3  ABOHAR(PB)  January  2010      790     1283     1592     1460   309\n",
       "4  ABOHAR(PB)  January  2011      245     3067     3750     3433   683\n",
       "5  ABOHAR(PB)  January  2012     1035      523      686      605   163\n",
       "6  ABOHAR(PB)  January  2013      675     1327     1900     1605   573\n",
       "7  ABOHAR(PB)  January  2014      440     1025     1481     1256   456\n",
       "8  ABOHAR(PB)  January  2015     1305     1309     1858     1613   549\n",
       "9  ABOHAR(PB) February  2005     1400      286      365      324    79\n",
       "10 ABOHAR(PB) February  2006     1800      343      411      380    68\n",
       "..        ...      ...   ...      ...      ...      ...      ...   ..."
      ]
     },
     "execution_count": 56,
     "metadata": {},
     "output_type": "execute_result"
    }
   ],
   "source": [
    "#lets now create a new column where generate priceMax - priceMin\n",
    "filter(onion_sqlite, market =='ABOHAR(PB)') %>% mutate(diff = priceMax - priceMin)\n"
   ]
  },
  {
   "cell_type": "code",
   "execution_count": 57,
   "metadata": {
    "collapsed": false
   },
   "outputs": [
    {
     "data": {
      "text/plain": [
       "Source: sqlite 3.8.6 [my_db.sqlite3]\n",
       "From: <derived table> [?? x 1]\n",
       "\n",
       "   meanDiff\n",
       "      (dbl)\n",
       "1  419.5778\n",
       "..      ..."
      ]
     },
     "execution_count": 57,
     "metadata": {},
     "output_type": "execute_result"
    }
   ],
   "source": [
    "# now let us generate avg of diff\n",
    "filter(onion_sqlite, market =='ABOHAR(PB)') %>% \n",
    "mutate(diff = priceMax - priceMin) %>% \n",
    "summarise(meanDiff = mean(diff))\n"
   ]
  },
  {
   "cell_type": "markdown",
   "metadata": {},
   "source": [
    "# Laziness"
   ]
  },
  {
   "cell_type": "markdown",
   "metadata": {},
   "source": [
    "When working with databases, dplyr tries to be as lazy as possible. It’s lazy in two ways:\n",
    "\n",
    "    It never pulls data back to R unless you explicitly ask for it.\n",
    "\n",
    "    It delays doing any work until the last possible minute, collecting together everything you want to do then sending that to the database in one step."
   ]
  },
  {
   "cell_type": "code",
   "execution_count": 58,
   "metadata": {
    "collapsed": true
   },
   "outputs": [],
   "source": [
    "m1 <- filter(onion_sqlite, market =='ABOHAR(PB)')\n"
   ]
  },
  {
   "cell_type": "code",
   "execution_count": 59,
   "metadata": {
    "collapsed": true
   },
   "outputs": [],
   "source": [
    "m2 <- mutate(m1,diff = priceMax - priceMin)"
   ]
  },
  {
   "cell_type": "code",
   "execution_count": 60,
   "metadata": {
    "collapsed": true
   },
   "outputs": [],
   "source": [
    "m3 <- summarise(m2,meanDiff = mean(diff))"
   ]
  },
  {
   "cell_type": "code",
   "execution_count": 61,
   "metadata": {
    "collapsed": false
   },
   "outputs": [
    {
     "data": {
      "text/plain": [
       "Source: sqlite 3.8.6 [my_db.sqlite3]\n",
       "From: <derived table> [?? x 1]\n",
       "\n",
       "   meanDiff\n",
       "      (dbl)\n",
       "1  419.5778\n",
       "..      ..."
      ]
     },
     "execution_count": 61,
     "metadata": {},
     "output_type": "execute_result"
    }
   ],
   "source": [
    "m3"
   ]
  },
  {
   "cell_type": "code",
   "execution_count": 62,
   "metadata": {
    "collapsed": false
   },
   "outputs": [
    {
     "name": "stderr",
     "output_type": "stream",
     "text": [
      "<SQL>\n",
      "SELECT \"meanDiff\"\n",
      "FROM (SELECT AVG(\"diff\") AS \"meanDiff\"\n",
      "FROM (SELECT \"market\", \"month\", \"year\", \"quantity\", \"priceMin\", \"priceMax\", \"priceMod\", \"priceMax\" - \"priceMin\" AS \"diff\"\n",
      "FROM \"onion\"\n",
      "WHERE \"market\" = 'ABOHAR(PB)') AS \"zzz4\") AS \"zzz5\"\n",
      "\n",
      "\n",
      "<PLAN>\n",
      "  selectid order from           detail\n",
      "1        0     0    0 SCAN TABLE onion\n"
     ]
    }
   ],
   "source": [
    "explain(m3)"
   ]
  },
  {
   "cell_type": "markdown",
   "metadata": {},
   "source": [
    "# SQL Hands on"
   ]
  },
  {
   "cell_type": "code",
   "execution_count": 63,
   "metadata": {
    "collapsed": false
   },
   "outputs": [
    {
     "data": {
      "text/plain": [
       "Source: sqlite 3.8.6 [my_db.sqlite3]\n",
       "From: <derived table> [?? x 7]\n",
       "\n",
       "       market   month  year quantity priceMin priceMax priceMod\n",
       "        (chr)   (chr) (chr)    (int)    (chr)    (chr)    (chr)\n",
       "1  ABOHAR(PB) January  2005     2350      404      493      446\n",
       "2  ABOHAR(PB) January  2006      900      487      638      563\n",
       "3  ABOHAR(PB) January  2010      790     1283     1592     1460\n",
       "..        ...     ...   ...      ...      ...      ...      ..."
      ]
     },
     "execution_count": 63,
     "metadata": {},
     "output_type": "execute_result"
    }
   ],
   "source": [
    "tbl(my_db,sql(\"SELECT * from onion limit 3\"))"
   ]
  },
  {
   "cell_type": "code",
   "execution_count": null,
   "metadata": {
    "collapsed": true
   },
   "outputs": [],
   "source": []
  }
 ],
 "metadata": {
  "kernelspec": {
   "display_name": "R",
   "language": "R",
   "name": "ir"
  },
  "language_info": {
   "codemirror_mode": "r",
   "file_extension": ".r",
   "mimetype": "text/x-r-source",
   "name": "R",
   "pygments_lexer": "r",
   "version": "3.2.4"
  }
 },
 "nbformat": 4,
 "nbformat_minor": 0
}
